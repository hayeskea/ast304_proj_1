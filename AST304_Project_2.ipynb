{
 "cells": [
  {
   "cell_type": "markdown",
   "id": "fab2e4d0",
   "metadata": {},
   "source": [
    "# Project 2\n",
    "Keara Hayes, Atticus Chong, Zachary Malzahn, Evelyn Fuhrman"
   ]
  },
  {
   "cell_type": "code",
   "execution_count": 1,
   "id": "206cd86f",
   "metadata": {},
   "outputs": [],
   "source": [
    "import numpy as np\n",
    "from numpy.linalg import norm\n",
    "import math\n",
    "import matplotlib.pyplot as plt\n",
    "import astropy.constants as _ac\n",
    "import astropy.units as _au\n",
    "from numpy import pi"
   ]
  },
  {
   "cell_type": "markdown",
   "id": "12dea77d",
   "metadata": {},
   "source": [
    "## Old Project 1"
   ]
  },
  {
   "cell_type": "markdown",
   "id": "bcebaaaa-ea34-47e7-9d0d-3a78a32381d9",
   "metadata": {},
   "source": [
    "# 1)"
   ]
  },
  {
   "cell_type": "code",
   "execution_count": null,
   "id": "6b595510-9a5e-45c0-b20b-2fd2e54a0cd6",
   "metadata": {},
   "outputs": [],
   "source": [
    "def rk4(f,t,z,h,args=()):\n",
    "    \"\"\"    \n",
    "    Arguments\n",
    "        f(t,z,...)\n",
    "            function that contains the RHS of the equation dz/dt = f(t,z,...)\n",
    "    \n",
    "        t (scalar)\n",
    "            current time\n",
    "            \n",
    "        z (array-like)\n",
    "            function value\n",
    "            \n",
    "        h (scalar)\n",
    "            step size\n",
    "    \n",
    "        args (tuple, optional)\n",
    "            additional arguments to pass to f\n",
    "    \n",
    "    Returns\n",
    "        znew = z(t+h)\n",
    "    \"\"\"\n",
    "   \n",
    "    if not isinstance(args,tuple):\n",
    "        args = (args,)\n",
    "\n",
    "    k1 = f(t, z, *args)\n",
    "\n",
    "    k2 = f(t + h/2, z + (h/2)*k1, *args)\n",
    "\n",
    "    k3 = f(t + h/2, z + (h/2)*k2, *args)\n",
    "\n",
    "    k4 = f(t + h, z + h*k3, *args)\n",
    "    \n",
    "    return z + (h/6)*(k1 + 2*k2 + 2*k3 + k4)"
   ]
  },
  {
   "cell_type": "code",
   "execution_count": null,
   "id": "4deeca76",
   "metadata": {},
   "outputs": [],
   "source": [
    "def integrate_orbit(z0,m,tend,h,method='RK4'):\n",
    "    \"\"\"\n",
    "    Integrates orbit starting from an initial position and velocity from t = 0 \n",
    "    to t = tend.\n",
    "    \n",
    "    Arguments:\n",
    "        z0 (scalar)\n",
    "            initial function value\n",
    "        \n",
    "        m (scalar)\n",
    "            mass of star in units of M_sun\n",
    "    \n",
    "        tend (scalar)\n",
    "            final timestep\n",
    "    \n",
    "        h (scalar)\n",
    "            incrementing stepsize\n",
    "    \n",
    "        method ('Euler', 'RK2', or 'RK4')\n",
    "            identifies which stepper routine to use (default: 'RK4')\n",
    "    Returns\n",
    "        ts, Xs, Ys, KEs, PEs, TEs := arrays of time, x postions, y positions, \n",
    "        and energies (kin., pot., total) \n",
    "    \"\"\"\n",
    "\n",
    "    # set the initial time and phase space array\n",
    "    t = 0.0\n",
    "    z = z0\n",
    "\n",
    "    # expected number of steps\n",
    "    Nsteps = int(tend/h)+1\n",
    "\n",
    "    # arrays holding t, x, y, kinetic energy, potential energy, and total energy\n",
    "    ts = np.zeros(Nsteps) # time\n",
    "    Xs = np.zeros(Nsteps) # x-axis position\n",
    "    Ys = np.zeros(Nsteps) # y-axis position\n",
    "    KEs = np.zeros(Nsteps) # kinetic energy\n",
    "    PEs = np.zeros(Nsteps) # potential energy\n",
    "    TEs = np.zeros(Nsteps) # total energy\n",
    "\n",
    "    # store the initial point\n",
    "    ts[0] = t\n",
    "    Xs[0] = z[0]\n",
    "    Ys[0] = z[1]\n",
    "    KEs[0]=(1/2)*m*np.linalg.norm(z[2:4])**2\n",
    "    PEs[0]=-m/np.linalg.norm(z[0:2])\n",
    "    TEs[0]=KEs[0]+PEs[0]\n",
    "\n",
    "    # select the stepping method\n",
    "    advance_one_step = integration_methods[method]\n",
    "    \n",
    "    # run through the steps\n",
    "    for step in range(1,Nsteps):\n",
    "        z = advance_one_step(derivs,t,z,h,args=m)  # new z\n",
    "        t += h                                     # step forward in time\n",
    "        \n",
    "        # store values\n",
    "        ts[step] = t\n",
    "        dzdt = derivs(t,z,m)\n",
    "        v = dzdt[0:2]  # define velocity at this step\n",
    "        acc = dzdt[2:4] # define acceleration at this step\n",
    "        \n",
    "        # fill in with assignments for Xs, Ys, KEs, PEs, TEs\n",
    "        Xs[step] = z[0]\n",
    "        Ys[step] = z[1]\n",
    "        KEs[step] = kinetic_energy(v)\n",
    "        PEs[step] = potential_energy(z[0:2], m)\n",
    "        TEs[step] = total_energy(z,m)\n",
    "    \n",
    "    return ts, Xs, Ys, KEs, PEs, TEs\n",
    "    \n",
    "def set_initial_conditions(a, m, e):\n",
    "    \"\"\"\n",
    "    set the initial conditions for the orbit.  The orientation of the orbit is \n",
    "    chosen so that y0 = 0.0 and vx0 = 0.0.\n",
    "    \n",
    "    Arguments\n",
    "        a (scalar)\n",
    "            semi-major axis in AU\n",
    "        m (scalar)\n",
    "            total mass in Msun\n",
    "        e (scalar)\n",
    "            eccentricity ( x0 = (1+e)*a )\n",
    "    \n",
    "    Returns:\n",
    "    [x0, y0, vx0, vy0], eps0, Tperiod := initial position and velocity, energy, \n",
    "        and period\n",
    "    \"\"\"\n",
    "    eps0=-(m/(2*a))\n",
    "    T=(np.pi/math.sqrt(2))*m*(np.abs(eps0)**(-3/2))\n",
    "    x0=(1+e)*a\n",
    "    y0=0\n",
    "    vx0=0\n",
    "    vy0=math.sqrt(2*eps0+2*(m/x0))\n",
    "    r_init=np.array([x0,y0])\n",
    "    v_init=np.array([vx0,vy0])\n",
    "    z_init=np.append(r_init,v_init)\n",
    "    return z_init,eps0,T"
   ]
  },
  {
   "cell_type": "markdown",
   "id": "8438b397",
   "metadata": {},
   "source": [
    "# Project 2"
   ]
  },
  {
   "cell_type": "markdown",
   "id": "1e36c9b4",
   "metadata": {},
   "source": [
    "part 1"
   ]
  },
  {
   "cell_type": "code",
   "execution_count": null,
   "id": "bd2b8fca",
   "metadata": {},
   "outputs": [],
   "source": [
    "###importing constants\n",
    "\n",
    "# solar mass, radius, luminosity\n",
    "Msun = _ac.M_sun.value\n",
    "Rsun = _ac.R_sun.value\n",
    "Lsun = _ac.L_sun.value\n",
    "\n",
    "# physical constants from astropy, all in MKS units\n",
    "G = _ac.G.value\n",
    "h = _ac.h.value\n",
    "hbar = _ac.hbar.value\n",
    "m_e = _ac.m_e.value\n",
    "m_p = _ac.m_p.value\n",
    "m_n = _ac.m_n.value\n",
    "m_u = _ac.u.value\n",
    "c = _ac.c.value\n",
    "kB = _ac.k_B.value\n",
    "pc = _ac.pc.value\n",
    "au = _ac.au.value\n",
    "year = _au.year.to(_au.second)\n",
<<<<<<< HEAD
    "sigmaSB = _ac.sigma_sb.value"
=======
    "sigmaSB = _ac.sigma_sb.value\n",
    "\n",
    "# other constants\n",
    "mue = 2\n",
    "K_e = (1/5)*((3/(8*pi))**(2/3))*((h**2)/(2*m_e))"
>>>>>>> 3225f70276d0d0b9f051fdea6eac8ca8800654e4
   ]
  },
  {
   "cell_type": "markdown",
   "id": "04a9f5be",
   "metadata": {},
   "source": [
    "### part 2 :)"
   ]
  },
  {
   "cell_type": "code",
   "execution_count": 5,
   "id": "f15b9d31",
   "metadata": {},
   "outputs": [],
   "source": [
    "def pressure(rho, mue):\n",
    "    \"\"\"\n",
    "    Arguments\n",
    "        rho\n",
    "            mass density (kg/m**3)\n",
    "        mue\n",
    "            baryon/electron ratio\n",
    "    \n",
    "    Returns\n",
    "        electron degeneracy pressure (Pascal)\n",
    "    \"\"\"\n",
    "    \n",
    "    # replace following lines with body of routine\n",
    "    p = (1/5) * ((3/(2*fourpi))**(2/3)) * ((h**2)/m_e) * ((rho/(mue * m_u))**(5/3)) # electron degeneracy pressure in Pa\n",
    "\n",
    "    return p"
   ]
  },
  {
   "cell_type": "markdown",
   "id": "c85e33ec-0805-472b-9fbc-6a6ad65c6c7b",
   "metadata": {},
   "source": [
    "### part 3 :)"
   ]
  },
  {
   "cell_type": "code",
   "execution_count": null,
   "id": "98d77f4f-4ead-4075-90ce-df9554736de7",
   "metadata": {},
   "outputs": [],
   "source": [
    "def stellar_derivatives(m,z,mue):\n",
    "    \"\"\"\n",
    "    RHS of Lagrangian differential equations for radius and pressure\n",
    "    \n",
    "    Arguments\n",
    "        m\n",
    "            current value of the mass\n",
    "        z (array)\n",
    "            current values of (radius,pressure)\n",
    "        mue\n",
    "            ratio, nucleons to electrons. For a carbon-oxygen white dwarf, mue = 2.\n",
    "        \n",
    "    Returns\n",
    "        dzdm (array)\n",
    "            Lagrangian derivatives dr/dm, dP/dm\n",
    "    \"\"\"\n",
    "    \n",
    "    dzdm = np.zeros_like(z)\n",
    "    \n",
    "    dzdm[0] = (4*pi*(z[0]**2)*density(z[1],mue))**-1\n",
    "    dzdm[1] = (-G*m)/(4*pi*(z[0]**4))\n",
    "    \n",
    "    return dzdm"
   ]
  },
  {
   "cell_type": "markdown",
   "id": "89707952",
   "metadata": {},
   "source": [
    "part 4"
   ]
  },
  {
   "cell_type": "code",
   "execution_count": 7,
   "id": "2c9dc8e1",
   "metadata": {},
   "outputs": [],
   "source": [
    "def density(p, mue):\n",
    "    \"\"\"\n",
    "    Arguments\n",
    "        p\n",
    "            electron degeneracy pressure (Pascal)\n",
    "        mue\n",
    "            baryon/electron ratio\n",
    "        \n",
    "    Returns\n",
    "        mass density (kg/m**3)\n",
    "    \"\"\"\n",
    "    \n",
    "    # replace following lines with body of routine\n",
<<<<<<< HEAD
    "    rho = (p*(1/5 * (3/(2*fourpi))**(2/3) * h**2/m_e)**-1)**(3/5) * mue * m_u\n",
    "    \n",
=======
    "    rho = ((p*((1/5)*((3/8*pi)**2/3)*(h**2/(2*me)))**-1)**(3/5))*mu*mue\n",
>>>>>>> 3225f70276d0d0b9f051fdea6eac8ca8800654e4
    "    return rho"
   ]
  },
  {
   "cell_type": "code",
   "execution_count": null,
   "id": "234602a9",
   "metadata": {},
   "outputs": [],
   "source": [
    "def central_values(Pc,delta_m,mue):\n",
    "    \"\"\"\n",
    "    Constructs the boundary conditions at the edge of a small, constant density \n",
    "    core of mass delta_m with central pressure P_c\n",
    "    \n",
    "    Arguments\n",
    "        Pc\n",
    "            central pressure (units = ?)\n",
    "        delta_m\n",
    "            core mass (units = ?)\n",
    "        mue\n",
    "            nucleon/electron ratio\n",
    "    \n",
    "    Returns\n",
    "        z = array([ r, p ])\n",
    "            central values of radius and pressure (units = ?)\n",
    "    \"\"\"\n",
    "    z = np.zeros(2)\n",
    "    \n",
    "    z[0] = density(Pc, mue)\n",
    "    z[1] = Pc   # this feels weird but like...the phrasing suggests to me this is what it wants???\n",
    "    # compute initial values of z = [ r, p ]\n",
    "    return z"
   ]
  },
  {
   "cell_type": "markdown",
   "id": "0a88e38f",
   "metadata": {},
   "source": [
    "### part 5 :)"
   ]
  },
  {
   "cell_type": "code",
   "execution_count": 3,
   "id": "1997f0e4",
   "metadata": {},
   "outputs": [],
   "source": [
    "def lengthscales(m,z,mue):\n",
    "    \"\"\"\n",
    "    Computes the radial length scale H_r and the pressure length H_P\n",
    "    \n",
    "    Arguments\n",
    "        m\n",
    "            current mass coordinate (units = ?)\n",
    "        z (array)\n",
    "           [ r, p ] (units = ?)\n",
    "        mue\n",
    "            mean electron weight\n",
    "    \n",
    "    Returns\n",
    "        z/|dzdm| (units = ?)\n",
    "    \"\"\"\n",
    "\n",
    "    # fill this in\n",
    "    # pass\n",
    "#     G = 6.6743e-11 # gravitational constant in m^3 kg^-1 s^-2\n",
    "    radius = z[0]\n",
    "    pressure = z[1]\n",
    "    rho = density(pressure, mue)\n",
    "    H_r = 4 * fourpi * (radius**3) * rho\n",
    "    H_p = (4 * fourpi * (radius**4) * pressure) / (G * m) \n",
    "    return H_r, H_p"
   ]
  },
  {
   "cell_type": "code",
   "execution_count": 3,
   "id": "caea531d",
   "metadata": {},
   "outputs": [],
   "source": [
    "def integrate(Pc,delta_m,eta,xi,mue,max_steps=10000):\n",
    "    \"\"\"\n",
    "    Integrates the scaled stellar structure equations\n",
    "\n",
    "    Arguments\n",
    "        Pc\n",
    "            central pressure (units = ?)\n",
    "        delta_m\n",
    "            initial offset from center (units = ?)\n",
    "        eta\n",
    "            The integration stops when P < eta * Pc\n",
    "        xi\n",
    "            The stepsize is set to be xi*min(p/|dp/dm|, r/|dr/dm|)\n",
    "        mue\n",
    "            mean electron mass\n",
    "        max_steps\n",
    "            solver will quit and throw error if this more than max_steps are \n",
    "            required (default is 10000)\n",
    "                        \n",
    "    Returns\n",
    "        m_step, r_step, p_step\n",
    "            arrays containing mass coordinates, radii and pressures during \n",
    "            integration (what are the units?)\n",
    "    \"\"\"\n",
    "        \n",
    "    m_step = np.zeros(max_steps)\n",
    "    r_step = np.zeros(max_steps)\n",
    "    p_step = np.zeros(max_steps)\n",
    "  \n",
    "    # set starting conditions using central values\n",
    "    z = central_values(Pc, delta_m, mue)\n",
    "    some_fraction = 0.1\n",
    "    Nsteps = 0\n",
    "    for step in range(max_steps):\n",
    "        radius = z[0]\n",
    "        pressure = z[1]\n",
    "        # are we at the surface?\n",
    "        if (pressure < eta*Pc):\n",
    "            break\n",
    "        # store the step\n",
    "        m_step[Nsteps] = m_step[Nsteps-1] + delta_m\n",
    "        r_step[Nsteps] = radius\n",
    "        p_step[Nsteps] = pressure\n",
    "        \n",
    "        # set the stepsize\n",
    "        H_r, H_p = lengthscales(m_step[Nsteps], z, mue)\n",
    "        h = some_fraction * min(H_r, H_p)\n",
    "\n",
    "        # take a step\n",
    "        \n",
    "        \n",
    "        # increment the counter\n",
    "        Nsteps += 1\n",
    "    # if the loop runs to max_steps, then signal an error\n",
    "    else:\n",
    "        raise Exception('too many iterations')\n",
    "        \n",
    "    return m_step[0:Nsteps],r_step[0:Nsteps],p_step[0:Nsteps]"
   ]
  },
  {
   "cell_type": "markdown",
   "id": "546a0cbb",
   "metadata": {},
   "source": [
    "part 7"
   ]
  },
  {
   "cell_type": "markdown",
   "id": "4ca3440f",
   "metadata": {},
   "source": [
    "# given arrays m, r, P\n",
    "\n",
    "m_final = m[-1]\n",
    "r_final = r[-1]\n",
    "p_final = P[0]\n",
    "\n",
    "def shooting(M_want, Pc_guess):\n",
    "    \n",
    "    diff = 1\n",
    "    max_steps = 10000\n",
    "    \n",
    "    while (diff != 0):\n",
    "        \n",
    "        # do stuff, output M_new\n",
    "        \n",
    "        diff = M_want - M_new\n",
    "        \n",
    "        if diff < 0:\n",
    "            \n",
    "            Pc_new = 0.5*(Pc_guess + 0.5*Pc_guess)\n",
    "            Pc_guess = Pc_new\n",
    "            \n",
    "        else:\n",
    "            \n",
    "            Pc_new = 0.5*(Pc_guess - 0.5*Pc_guess)\n",
    "            Pc_guess = Pc_new\n",
    "            \n",
    "    return shit_idk"
   ]
  },
  {
   "cell_type": "markdown",
   "id": "3451af9a",
   "metadata": {},
   "source": [
    "### part 8 :)"
   ]
  },
  {
   "cell_type": "code",
   "execution_count": 1,
   "id": "f7e033ef",
   "metadata": {},
   "outputs": [
    {
     "name": "stdout",
     "output_type": "stream",
     "text": [
      "Masses:\n",
      " [0.927 0.607 0.643 0.541 0.59  0.398 0.277 0.729 0.543 0.723 0.559 0.524\n",
      " 0.633 0.376]\n",
      "\n",
      "Radii:\n",
      " [0.802 1.461 1.457 1.34  1.378 1.418 1.464 1.235 1.42  1.717 2.183 1.452\n",
      " 1.993 1.504]\n",
      "\n",
      "Radius Errors:\n",
      " [0.011 0.009 0.036 0.013 0.011 0.009 0.018 0.018 0.014 0.009 0.043 0.024\n",
      " 0.009 0.042]\n",
      "\n",
      "\n",
      "Sirius B-HST         M = 0.927 +/- 0.107 Msun\n",
      "HZ43-HST             M = 0.607 +/- 0.106 Msun\n",
      "HZ43-FUSE            M = 0.643 +/- 0.065 Msun\n",
      "14 Aur Cb-HST        M = 0.541 +/- 0.086 Msun\n",
      "14 Aur Cb-FUSE       M = 0.590 +/- 0.028 Msun\n",
      "HD2133 B-HST         M = 0.398 +/- 0.138 Msun\n",
      "HD2133 B-FUSE        M = 0.277 +/- 0.069 Msun\n",
      "HR1358 B-HST         M = 0.729 +/- 0.053 Msun\n",
      "RE 0357-FUSE         M = 0.543 +/- 0.039 Msun\n",
      "HD 223816-FUSE       M = 0.723 +/- 0.019 Msun\n",
      "RE 1024-FUSE         M = 0.559 +/- 0.030 Msun\n",
      "REJ 1925-FUSE        M = 0.524 +/- 0.040 Msun\n",
      "Feige 24-FUSE        M = 0.633 +/- 0.012 Msun\n",
      "HD15638-FUSE         M = 0.376 +/- 0.026 Msun\n"
     ]
    }
   ],
   "source": [
    "import matplotlib.pyplot as plt\n",
    "from observations import MassRadiusObservations\n",
    "\n",
    "obs = MassRadiusObservations()\n",
    "\n",
    "print(f\"Masses:\\n {obs.masses}\\n\\nRadii:\\n {obs.radii}\\n\\nRadius Errors:\\n {obs.radius_errors}\\n\\n\")\n",
    "\n",
    "for source, info in obs.sources.items():\n",
    "    print('{0:20} M = {1:5.3f} +/- {2:5.3f} Msun'.format(source, info.mass, info.mass_error))"
   ]
  },
  {
   "cell_type": "code",
   "execution_count": 2,
   "id": "5c96eca5",
   "metadata": {},
   "outputs": [
    {
     "data": {
      "image/png": "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\n",
      "text/plain": [
       "<Figure size 432x288 with 1 Axes>"
      ]
     },
     "metadata": {
      "needs_background": "light"
     },
     "output_type": "display_data"
    }
   ],
   "source": [
    "# plt.plot(mass_stuff, radius_stuff, label = 'Our shit')\n",
    "plt.scatter(obs.masses, obs.radii, label = 'Joyce et al. 2018')\n",
    "plt.errorbar(obs.masses, obs.radii, xerr=obs.mass_errors, yerr=obs.radius_errors, fmt='o', ecolor = ['green', 'red'])\n",
    "\n",
    "plt.title(f'~cheese~ :)\\n', fontsize=15)\n",
    "axes_fontsize = 12\n",
    "plt.xlabel(r'$M/M_{\\odot}$', fontsize = axes_fontsize);\n",
    "plt.ylabel(r'$R/R_{\\odot}$', fontsize = axes_fontsize);\n",
    "plt.legend();"
   ]
  },
  {
   "cell_type": "code",
   "execution_count": null,
   "id": "8881b272",
   "metadata": {},
   "outputs": [],
   "source": []
  }
 ],
 "metadata": {
  "kernelspec": {
   "display_name": "Python 3 (ipykernel)",
   "language": "python",
   "name": "python3"
  },
  "language_info": {
   "codemirror_mode": {
    "name": "ipython",
    "version": 3
   },
   "file_extension": ".py",
   "mimetype": "text/x-python",
   "name": "python",
   "nbconvert_exporter": "python",
   "pygments_lexer": "ipython3",
<<<<<<< HEAD
   "version": "3.8.8"
=======
   "version": "3.9.7"
>>>>>>> 3225f70276d0d0b9f051fdea6eac8ca8800654e4
  }
 },
 "nbformat": 4,
 "nbformat_minor": 5
}
