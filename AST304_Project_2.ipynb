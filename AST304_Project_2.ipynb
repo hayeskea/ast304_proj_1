{
 "cells": [
  {
   "cell_type": "markdown",
   "id": "fab2e4d0",
   "metadata": {},
   "source": [
    "# Project 2\n",
    "Keara Hayes, Atticus Chong, Zachary Malzahn, Evelyn Fuhrman"
   ]
  },
  {
   "cell_type": "code",
   "execution_count": 7,
   "id": "206cd86f",
   "metadata": {},
   "outputs": [],
   "source": [
    "import numpy as np\n",
    "from numpy.linalg import norm\n",
    "import math\n",
    "import matplotlib.pyplot as plt\n",
    "import astropy.constants as _ac\n",
    "import astropy.units as _au\n",
    "from numpy import pi"
   ]
  },
  {
   "cell_type": "markdown",
   "id": "12dea77d",
   "metadata": {},
   "source": [
    "## Old Project 1"
   ]
  },
  {
   "cell_type": "markdown",
   "id": "bcebaaaa-ea34-47e7-9d0d-3a78a32381d9",
   "metadata": {},
   "source": [
    "# 1)"
   ]
  },
  {
   "cell_type": "code",
   "execution_count": 8,
   "id": "6b595510-9a5e-45c0-b20b-2fd2e54a0cd6",
   "metadata": {},
   "outputs": [],
   "source": [
    "def rk4(f,t,z,h,args=()):\n",
    "    \"\"\"    \n",
    "    Arguments\n",
    "        f(t,z,...)\n",
    "            function that contains the RHS of the equation dz/dt = f(t,z,...)\n",
    "    \n",
    "        t (scalar)\n",
    "            current time\n",
    "            \n",
    "        z (array-like)\n",
    "            function value\n",
    "            \n",
    "        h (scalar)\n",
    "            step size\n",
    "    \n",
    "        args (tuple, optional)\n",
    "            additional arguments to pass to f\n",
    "    \n",
    "    Returns\n",
    "        znew = z(t+h)\n",
    "    \"\"\"\n",
    "   \n",
    "    if not isinstance(args,tuple):\n",
    "        args = (args,)\n",
    "\n",
    "    k1 = f(t, z, *args)\n",
    "\n",
    "    k2 = f(t + h/2, z + (h/2)*k1, *args)\n",
    "\n",
    "    k3 = f(t + h/2, z + (h/2)*k2, *args)\n",
    "\n",
    "    k4 = f(t + h, z + h*k3, *args)\n",
    "    \n",
    "    return z + (h/6)*(k1 + 2*k2 + 2*k3 + k4)"
   ]
  },
  {
   "cell_type": "markdown",
   "id": "8438b397",
   "metadata": {},
   "source": [
    "# Project 2"
   ]
  },
  {
   "cell_type": "markdown",
   "id": "1e36c9b4",
   "metadata": {},
   "source": [
    "part 1"
   ]
  },
  {
   "cell_type": "code",
   "execution_count": 9,
   "id": "bd2b8fca",
   "metadata": {},
   "outputs": [],
   "source": [
    "###importing constants\n",
    "\n",
    "# solar mass, radius, luminosity\n",
    "Msun = _ac.M_sun.value\n",
    "Rsun = _ac.R_sun.value\n",
    "Lsun = _ac.L_sun.value\n",
    "\n",
    "# physical constants from astropy, all in MKS units\n",
    "G = _ac.G.value\n",
    "h = _ac.h.value\n",
    "hbar = _ac.hbar.value\n",
    "m_e = _ac.m_e.value\n",
    "m_p = _ac.m_p.value\n",
    "m_n = _ac.m_n.value\n",
    "m_u = _ac.u.value\n",
    "c = _ac.c.value\n",
    "kB = _ac.k_B.value\n",
    "pc = _ac.pc.value\n",
    "au = _ac.au.value\n",
    "year = _au.year.to(_au.second)\n",
    "sigmaSB = _ac.sigma_sb.value\n",
    "\n",
    "# other constants\n",
    "mue = 2\n",
    "K_e = (1/5)*((3/(8*pi))**(2/3))*((h**2)/(2*m_e))"
   ]
  },
  {
   "cell_type": "markdown",
   "id": "04a9f5be",
   "metadata": {},
   "source": [
    "### part 2 :)"
   ]
  },
  {
   "cell_type": "code",
   "execution_count": 10,
   "id": "f15b9d31",
   "metadata": {},
   "outputs": [],
   "source": [
    "def pressure(rho, mue):\n",
    "    \"\"\"\n",
    "    Arguments\n",
    "        rho\n",
    "            mass density (kg/m**3)\n",
    "        mue\n",
    "            baryon/electron ratio\n",
    "    \n",
    "    Returns\n",
    "        electron degeneracy pressure (Pascal)\n",
    "    \"\"\"\n",
    "\n",
    "#     p = (1/5) * ((3/(8*np.pi))**(2/3)) * ((h**2)/m_e) * ((rho/(mue * m_u))**(5/3)) # electron degeneracy pressure in Pa\n",
    "    p = (1/5)*(3/(8*np.pi))**(2/3)*(h**2/m_e)*(rho/(mue*m_u))**(5/3)\n",
    "    return p"
   ]
  },
  {
   "cell_type": "code",
   "execution_count": 11,
   "id": "54dc0069",
   "metadata": {},
   "outputs": [
    {
     "name": "stdout",
     "output_type": "stream",
     "text": [
      "Comparing EOS to eos_table.txt...\n",
      "\n",
      "   rho (table)    rho (test)    difference       P (table)      P (test)    difference\n",
      "\n",
      "  1.000000e+05  1.000000e+05  7.275958e-16    6.810445e+14  6.810445e+14  0.000000e+00\n",
      "  1.123655e+05  1.123655e+05  2.590104e-16    8.271108e+14  8.271108e+14  7.556424e-16\n",
      "  1.262600e+05  1.262600e+05  1.037282e-15    1.004504e+15  1.004504e+15 -7.466368e-16\n",
      "  1.418727e+05  1.418727e+05  6.154215e-16    1.219944e+15  1.219944e+15  2.049274e-16\n",
      "  1.594159e+05  1.594159e+05  3.651308e-16    1.481591e+15  1.481591e+15  6.749502e-16\n",
      "  1.791284e+05  1.791284e+05  8.123732e-16    1.799353e+15  1.799353e+15 -1.389388e-16\n",
      "  2.012785e+05  2.012785e+05  8.675688e-16    2.185268e+15  2.185268e+15 -3.432074e-16\n",
      "  2.261676e+05  2.261676e+05  5.147303e-16    2.653950e+15  2.653950e+15  1.883984e-16\n",
      "  2.541343e+05  2.541343e+05  5.726073e-16    3.223153e+15  3.223153e+15  0.000000e+00\n",
      "  2.855592e+05  2.855592e+05  1.019187e-15    3.914436e+15  3.914436e+15 -3.831970e-16\n",
      "  3.208700e+05  3.208700e+05  5.442172e-16    4.753980e+15  4.753980e+15 -2.103501e-16\n",
      "  3.605471e+05  3.605471e+05  6.457704e-16    5.773585e+15  5.773585e+15  0.000000e+00\n",
      "  4.051305e+05  4.051305e+05  7.183816e-16    7.011868e+15  7.011868e+15 -1.426153e-16\n",
      "  4.552268e+05  4.552268e+05  6.393259e-16    8.515731e+15  8.515731e+15  1.174297e-16\n",
      "  5.115178e+05  5.115178e+05  7.965580e-16    1.034213e+16  1.034213e+16 -3.867674e-16\n",
      "  5.747694e+05  5.747694e+05  6.076279e-16    1.256025e+16  1.256025e+16 -1.592325e-16\n",
      "  6.458424e+05  6.458424e+05  7.210138e-16    1.525410e+16  1.525410e+16  0.000000e+00\n",
      "  7.257040e+05  7.257040e+05  9.625026e-16    1.852570e+16  1.852570e+16 -2.159163e-16\n",
      "  8.154407e+05  8.154407e+05  5.710547e-16    2.249898e+16  2.249898e+16  1.777858e-16\n",
      "  9.162739e+05  9.162739e+05  6.352649e-16    2.732442e+16  2.732442e+16  0.000000e+00\n",
      "  1.029576e+06  1.029576e+06  5.653559e-16    3.318480e+16  3.318480e+16  2.410742e-16\n",
      "  1.156888e+06  1.156888e+06  1.006280e-15    4.030207e+16  4.030207e+16 -5.955028e-16\n",
      "  1.299942e+06  1.299942e+06  5.373254e-16    4.894582e+16  4.894582e+16  0.000000e+00\n",
      "  1.460686e+06  1.460686e+06  4.781943e-16    5.944342e+16  5.944342e+16  4.037453e-16\n",
      "  1.641307e+06  1.641307e+06  5.674273e-16    7.219248e+16  7.219248e+16  0.000000e+00\n",
      "  1.844263e+06  1.844263e+06  5.049837e-16    8.767588e+16  8.767588e+16  1.824903e-16\n",
      "  2.072315e+06  2.072315e+06  7.864706e-16    1.064801e+17  1.064801e+17  0.000000e+00\n",
      "  2.328566e+06  2.328566e+06  3.999554e-16    1.293173e+17  1.293173e+17  4.949068e-16\n",
      "  2.616505e+06  2.616505e+06  5.339122e-16    1.570524e+17  1.570524e+17  2.037536e-16\n",
      "  2.940048e+06  2.940048e+06  6.335424e-16    1.907361e+17  1.907361e+17  0.000000e+00\n",
      "  3.303599e+06  3.303599e+06  5.638230e-16    2.316440e+17  2.316440e+17  2.762860e-16\n",
      "  3.712105e+06  3.712105e+06  6.272200e-16    2.813256e+17  2.813256e+17  0.000000e+00\n",
      "  4.171125e+06  4.171125e+06  6.698356e-16    3.416626e+17  3.416626e+17  0.000000e+00\n",
      "  4.686904e+06  4.686904e+06  3.974148e-16    4.149403e+17  4.149403e+17  3.084781e-16\n",
      "  5.266462e+06  5.266462e+06  5.305208e-16    5.039342e+17  5.039342e+17  1.270007e-16\n",
      "  5.917686e+06  5.917686e+06  9.442772e-16    6.120149e+17  6.120149e+17 -2.091452e-16\n",
      "  6.649436e+06  6.649436e+06  7.003019e-16    7.432761e+17  7.432761e+17  0.000000e+00\n",
      "  7.471671e+06  7.471671e+06  6.232358e-16    9.026895e+17  9.026895e+17  1.417985e-16\n",
      "  8.395579e+06  8.395579e+06  6.655807e-16    1.096293e+18  1.096293e+18 -1.167571e-16\n",
      "  9.433732e+06  9.433732e+06  7.897808e-16    1.331419e+18  1.331419e+18 -1.922761e-16\n",
      "  1.060026e+07  1.060026e+07  1.054302e-15    1.616974e+18  1.616974e+18 -6.332818e-16\n",
      "  1.191103e+07  1.191103e+07  4.691395e-16    1.963772e+18  1.963772e+18  3.910841e-16\n",
      "  1.338389e+07  1.338389e+07  1.113366e-15    2.384950e+18  2.384950e+18 -4.293591e-16\n",
      "  1.503887e+07  1.503887e+07  6.192770e-16    2.896460e+18  2.896460e+18 -1.767675e-16\n",
      "  1.689850e+07  1.689850e+07  1.102255e-15    3.517675e+18  3.517675e+18 -4.366521e-16\n",
      "  1.898808e+07  1.898808e+07  7.847641e-16    4.272124e+18  4.272124e+18 -2.396934e-16\n",
      "  2.133605e+07  2.133605e+07  5.238024e-16    5.188383e+18  5.188383e+18  1.973640e-16\n",
      "  2.397435e+07  2.397435e+07  7.769325e-16    6.301156e+18  6.301156e+18 -1.625099e-16\n",
      "  2.693889e+07  2.693889e+07  8.297201e-16    7.652589e+18  7.652589e+18 -4.014327e-16\n",
      "  3.027002e+07  3.027002e+07  8.614806e-16    9.293870e+18  9.293870e+18 -4.407206e-16\n",
      "  3.401305e+07  3.401305e+07  6.571520e-16    1.128716e+19  1.128716e+19  3.628901e-16\n",
      "  3.821893e+07  3.821893e+07  9.747240e-16    1.370796e+19  1.370796e+19 -5.976088e-16\n",
      "  4.294488e+07  4.294488e+07  6.939668e-16    1.664797e+19  1.664797e+19  0.000000e+00\n",
      "  4.825522e+07  4.825522e+07  4.631984e-16    2.021852e+19  2.021852e+19  4.051731e-16\n",
      "  5.422221e+07  5.422221e+07  6.870414e-16    2.455486e+19  2.455486e+19  1.668101e-16\n",
      "  6.092705e+07  6.092705e+07  7.337215e-16    2.982124e+19  2.982124e+19 -1.373518e-16\n",
      "  6.846097e+07  6.846097e+07  6.529777e-16    3.621712e+19  3.621712e+19 -1.130957e-16\n",
      "  7.692650e+07  7.692650e+07  7.748259e-16    4.398475e+19  4.398475e+19 -1.862464e-16\n",
      "  8.643883e+07  8.643883e+07  6.895587e-16    5.341833e+19  5.341833e+19  0.000000e+00\n",
      "  9.712740e+07  9.712740e+07  6.136749e-16    6.487516e+19  6.487516e+19  0.000000e+00\n",
      "  1.091377e+08  1.091377e+08  5.461418e-16    7.878919e+19  7.878919e+19  2.079473e-16\n",
      "  1.226331e+08  1.226331e+08  1.215101e-15    9.568742e+19  9.568742e+19 -5.136726e-16\n",
      "  1.377972e+08  1.377972e+08  6.488299e-16    1.162099e+20  1.162099e+20 -1.409863e-16\n",
      "  1.548365e+08  1.548365e+08  5.774281e-16    1.411339e+20  1.411339e+20  4.643535e-16\n",
      "  1.739828e+08  1.739828e+08  6.851786e-16    1.714034e+20  1.714034e+20 -1.911748e-16\n",
      "  1.954966e+08  1.954966e+08  3.048884e-16    2.081649e+20  2.081649e+20  4.722409e-16\n",
      "  2.196707e+08  2.196707e+08  9.496772e-16    2.528109e+20  2.528109e+20 -5.184587e-16\n",
      "  2.468340e+08  2.468340e+08  6.036915e-16    3.070322e+20  3.070322e+20  0.000000e+00\n",
      "  2.773563e+08  2.773563e+08  4.298057e-16    3.728826e+20  3.728826e+20  3.515101e-16\n",
      "  3.116527e+08  3.116527e+08  9.562671e-16    4.528562e+20  4.528562e+20 -2.894340e-16\n",
      "  3.501900e+08  3.501900e+08  6.808263e-16    5.499820e+20  5.499820e+20  0.000000e+00\n",
      "  3.934927e+08  3.934927e+08  7.573792e-16    6.679388e+20  6.679388e+20  0.000000e+00\n",
      "  4.421500e+08  4.421500e+08  6.740320e-16    8.111943e+20  8.111943e+20  0.000000e+00\n",
      "  4.968240e+08  4.968240e+08  8.397995e-16    9.851743e+20  9.851743e+20 -2.660890e-16\n",
      "  5.582586e+08  5.582586e+08  8.541510e-16    1.196468e+21  1.196468e+21  2.190981e-16\n",
      "  6.272900e+08  6.272900e+08  5.701157e-16    1.453080e+21  1.453080e+21  1.804058e-16\n",
      "  7.048574e+08  7.048574e+08  6.765016e-16    1.764727e+21  1.764727e+21  1.485465e-16\n",
      "  7.920164e+08  7.920164e+08  7.525683e-16    2.143215e+21  2.143215e+21  2.446268e-16\n",
      "  8.899530e+08  8.899530e+08  4.018503e-16    2.602879e+21  2.602879e+21  4.028524e-16\n",
      "  1.000000e+09  1.000000e+09  4.768372e-16    3.161129e+21  3.161129e+21  3.317094e-16\n",
      "\n",
      "SUCCESS: all values within tolerance\n"
     ]
    }
   ],
   "source": [
    "def test_eos(pressure_func,density_func,mue=2.0,tolerance=1.0e-12,\n",
    "        testfile='eos_table.txt',units='MKS'):\n",
    "    \"\"\"\n",
    "    compares pressure and density functions against tabulated values\n",
    "\n",
    "    Arguments\n",
    "        pressure_func\n",
    "            function that computes pressure given density and mue\n",
    "        density_func\n",
    "            function that computes density given pressure and mue\n",
    "        mue\n",
    "            baryon/electron ratio (default = 2.0)\n",
    "        tolerance\n",
    "            differences between computed and tabulated EOS values that are \n",
    "            larger than tolerance will trigger a warning (default = 1.0e-12)\n",
    "        testfile\n",
    "            table of density (kg/m**3), pressure (Pa), and Fermi energy \n",
    "            (electron rest mass-energy). Values computed by the eos module are              compared against this (default = 'eos_table.txt')\n",
    "        units (either 'MKS' or 'CGS')\n",
    "            specifies either MKS (default) or CGS units\n",
    "\n",
    "    Returns\n",
    "        True if all tests passed, False otherwise\n",
    "    \"\"\"\n",
    "\n",
    "    accept = True\n",
    "    \n",
    "    # load data, ignoring column containing Fermi energy/(m_e c**2)\n",
    "    data = np.loadtxt(testfile,skiprows=3,usecols=[0,1])\n",
    "    density_val = data[:,0]\n",
    "    pressure_val = data[:,1]\n",
    "\n",
    "    # conversion factors if eos outputs cgs units\n",
    "    density_mks_to_cgs = 1.0e-3\n",
    "    pressure_mks_to_cgs = 10.0\n",
    "    if units.lower()=='cgs':\n",
    "        density_val *= density_mks_to_cgs\n",
    "        pressure_val *= pressure_mks_to_cgs\n",
    "\n",
    "    # table header\n",
    "    print(\n",
    "        '{0:>14}{1:>14}{2:>14}  {3:>14}{4:>14}{5:>14}\\n'.format(\n",
    "            'rho (table)','rho (test)','difference',\n",
    "            'P (table)','P (test)','difference'))\n",
    "\n",
    "    # iterate over density, pressure values and test individually\n",
    "    for rho, p in zip(density_val, pressure_val):\n",
    "        Ptest = pressure_func(rho,mue)\n",
    "        rhotest = density_func(p,mue)\n",
    "        Perr = (Ptest-p)/p\n",
    "        rhoerr = (rhotest-rho)/rho\n",
    "        print(\n",
    "            '{0:14.6e}{1:14.6e}{2:14.6e}  {3:14.6e}{4:14.6e}{5:14.6e}'.\\\n",
    "            format(rho,rhotest,rhoerr,p,Ptest,Perr))\n",
    "\n",
    "        if max(abs(Perr),abs(rhoerr)) > tolerance:\n",
    "            print('******** value outside accepted tolerance ********\\n')\n",
    "            accept = False\n",
    "            \n",
    "    return accept\n",
    "\n",
    "\n",
    "if __name__ == \"__main__\":\n",
    "\n",
    "    print('Comparing EOS to eos_table.txt...\\n')\n",
    "    if (test_eos(pressure,density)):\n",
    "        print('\\nSUCCESS: all values within tolerance')\n",
    "    else:\n",
    "        print('\\nFAIL')\n"
   ]
  },
  {
   "cell_type": "markdown",
   "id": "c85e33ec-0805-472b-9fbc-6a6ad65c6c7b",
   "metadata": {},
   "source": [
    "### part 3 :)"
   ]
  },
  {
   "cell_type": "code",
   "execution_count": 12,
   "id": "98d77f4f-4ead-4075-90ce-df9554736de7",
   "metadata": {},
   "outputs": [],
   "source": [
    "def stellar_derivatives(m,z,mue):\n",
    "    \"\"\"\n",
    "    RHS of Lagrangian differential equations for radius and pressure\n",
    "    \n",
    "    Arguments\n",
    "        m\n",
    "            current value of the mass\n",
    "        z (array)\n",
    "            current values of (radius,pressure)\n",
    "        mue\n",
    "            ratio, nucleons to electrons. For a carbon-oxygen white dwarf, mue = 2.\n",
    "        \n",
    "    Returns\n",
    "        dzdm (array)\n",
    "            Lagrangian derivatives dr/dm, dP/dm\n",
    "    \"\"\"\n",
    "    \n",
    "    dzdm = np.zeros_like(z)\n",
    "    \n",
    "    dzdm[0] = (4*pi*(z[0]**2)*density(z[1],mue))**-1\n",
    "    dzdm[1] = (-G*m)/(4*pi*(z[0]**4))\n",
    "    \n",
    "    return dzdm"
   ]
  },
  {
   "cell_type": "markdown",
   "id": "89707952",
   "metadata": {},
   "source": [
    "part 4"
   ]
  },
  {
   "cell_type": "code",
   "execution_count": 13,
   "id": "2c9dc8e1",
   "metadata": {},
   "outputs": [],
   "source": [
    "def density(p, mue):\n",
    "    \"\"\"\n",
    "    Arguments\n",
    "        p\n",
    "            electron degeneracy pressure (Pascal)\n",
    "        mue\n",
    "            baryon/electron ratio  \n",
    "        mu\n",
    "            amu\n",
    "        h\n",
    "            Planck's constant\n",
    "        me\n",
    "            electron mass\n",
    "        \n",
    "    Returns\n",
    "        mass density (kg/m**3)\n",
    "    \"\"\"\n",
    "    \n",
    "#     rho = (p*(((1/5)*((3/8*pi)**2/3)*(h**2/(2*m_e)))**-1)**(3/5))*m_u*mue\n",
    "    \n",
    "    rho = mue*m_u*((5*p*(m_e/h**2)*(3/(8*np.pi))**(-2/3))**(3/5))\n",
    "    return rho"
   ]
  },
  {
   "cell_type": "code",
   "execution_count": 14,
   "id": "ebef8a53",
   "metadata": {},
   "outputs": [
    {
     "data": {
      "text/plain": [
       "0.00012591999558046895"
      ]
     },
     "execution_count": 14,
     "metadata": {},
     "output_type": "execute_result"
    }
   ],
   "source": [
    "density(1,2)"
   ]
  },
  {
   "cell_type": "code",
   "execution_count": 15,
   "id": "234602a9",
   "metadata": {},
   "outputs": [],
   "source": [
    "def central_values(Pc,delta_m,mue):\n",
    "    \"\"\"\n",
    "    Constructs the boundary conditions at the edge of a small, constant density \n",
    "    core of mass delta_m with central pressure P_c\n",
    "    \n",
    "    Arguments\n",
    "        Pc\n",
    "            central pressure (units = ?)\n",
    "        delta_m\n",
    "            core mass (units = ?)\n",
    "        mue\n",
    "            nucleon/electron ratio\n",
    "    \n",
    "    Returns\n",
    "        z = array([ r, p ])\n",
    "            central values of radius and pressure (units = ?)\n",
    "    \"\"\"\n",
    "    z = np.zeros(2)\n",
    "    \n",
    "    z[0] = ((3*delta_m)/(4 * np.pi * density(Pc, mue)))**1/3\n",
    "    z[1] = Pc   \n",
    "    return z"
   ]
  },
  {
   "cell_type": "markdown",
   "id": "0a88e38f",
   "metadata": {},
   "source": [
    "### part 5 :)"
   ]
  },
  {
   "cell_type": "code",
   "execution_count": 16,
   "id": "1997f0e4",
   "metadata": {},
   "outputs": [],
   "source": [
    "def lengthscales(m,z,mue):\n",
    "    \"\"\"\n",
    "    Computes the radial length scale H_r and the pressure length H_P\n",
    "    \n",
    "    Arguments\n",
    "        m\n",
    "            current mass coordinate (units = ?)\n",
    "        z (array)\n",
    "           [ r, p ] (units = ?)\n",
    "        mue\n",
    "            mean electron weight\n",
    "    \n",
    "    Returns\n",
    "        z/|dzdm| (units = ?)\n",
    "    \"\"\"    \n",
    "    \n",
    "    radius = z[0]\n",
    "    pressure = z[1]\n",
    "    rho = density(pressure, mue)\n",
    "    H_r = 4 * np.pi * (radius**3) * rho\n",
    "    H_p = (4 * np.pi * (radius**4) * pressure) / (G * m) \n",
    "    \n",
    "    out = [H_r, H_p]\n",
    "    \n",
    "    out = np.asarray(out)\n",
    "    \n",
    "    return out"
   ]
  },
  {
   "cell_type": "code",
   "execution_count": 17,
   "id": "caea531d",
   "metadata": {},
   "outputs": [],
   "source": [
    "def integrate(Pc,delta_m,eta,xi,mue,max_steps=10000):\n",
    "    \"\"\"\n",
    "    Integrates the scaled stellar structure equations\n",
    "\n",
    "    Arguments\n",
    "        Pc\n",
    "            central pressure (units = ?)\n",
    "        delta_m\n",
    "            initial offset from center (units = ?)\n",
    "        eta\n",
    "            The integration stops when P < eta * Pc\n",
    "        xi\n",
    "            The stepsize is set to be xi*min(p/|dp/dm|, r/|dr/dm|)\n",
    "        mue\n",
    "            mean electron mass\n",
    "        max_steps\n",
    "            solver will quit and throw error if this more than max_steps are \n",
    "            required (default is 10000)\n",
    "                        \n",
    "    Returns\n",
    "        m_step, r_step, p_step\n",
    "            arrays containing mass coordinates, radii and pressures during \n",
    "            integration (what are the units?)\n",
    "    \"\"\"\n",
    "        \n",
    "    m_step = np.zeros(max_steps)\n",
    "    r_step = np.zeros(max_steps)\n",
    "    p_step = np.zeros(max_steps)\n",
    "  \n",
    "    # set starting conditions using central values\n",
    "    z = central_values(Pc, delta_m, mue)\n",
    "    temp = delta_m\n",
    "    Nsteps = 0\n",
    "    \n",
    "    for step in range(max_steps):\n",
    "        radius = z[0]\n",
    "        pressure = z[1]\n",
    "        \n",
    "        # are we at the surface?\n",
    "        if (pressure < eta*Pc):\n",
    "            break\n",
    "            \n",
    "        # store the step\n",
    "#         m_step[step] = m_step[Nsteps-1] + delta_m  ##just delm\n",
    "        m_step[step] = temp\n",
    "        r_step[step] = radius\n",
    "        p_step[step] = pressure\n",
    "        \n",
    "        # set the stepsize\n",
    "#         H_r, H_p = lengthscales(m_step[step], z, mue)\n",
    "        h = xi*min(lengthscales(m_step[step], z, mue))\n",
    "\n",
    "        # take a step\n",
    "        z = rk4(stellar_derivatives,temp,z,h,args=(mue))\n",
    "        temp += h\n",
    "        \n",
    "        # increment the counter\n",
    "        Nsteps += 1\n",
    "    # if the loop runs to max_steps, then signal an error\n",
    "    else:\n",
    "        raise Exception('too many iterations')\n",
    "        \n",
    "    return m_step[0:Nsteps],r_step[0:Nsteps],p_step[0:Nsteps]"
   ]
  },
  {
   "cell_type": "markdown",
   "id": "9970adf6-3462-4550-80f3-7e4ddb8f4e63",
   "metadata": {},
   "source": [
    "# part 6 :)"
   ]
  },
  {
   "cell_type": "code",
   "execution_count": 18,
   "id": "95f4479b-a336-4e5a-ba41-ab8c12ac169d",
   "metadata": {},
   "outputs": [],
   "source": [
    "def guess_P_c(M, mue):\n",
    "    return ((G**5)/(K_e**4))*((M*(mue**2))**(10/3))"
   ]
  },
  {
   "cell_type": "code",
   "execution_count": 19,
   "id": "8b469b1a-2542-4c26-a0a3-d81a8e61873f",
   "metadata": {},
   "outputs": [],
   "source": [
    "P_c_guess=guess_P_c(Msun, mue)"
   ]
  },
  {
   "cell_type": "code",
   "execution_count": 20,
   "id": "6c491d1d",
   "metadata": {},
   "outputs": [],
   "source": [
    "delta_m = 1e-4\n",
    "eta = 1e-20\n",
    "xi = 0.05"
   ]
  },
  {
   "cell_type": "code",
   "execution_count": 21,
   "id": "b521b825",
   "metadata": {},
   "outputs": [
    {
     "name": "stderr",
     "output_type": "stream",
     "text": [
      "C:\\Users\\khaye\\AppData\\Local\\Temp\\ipykernel_12968\\2337862741.py:21: RuntimeWarning: divide by zero encountered in double_scalars\n",
      "  dzdm[1] = (-G*m)/(4*pi*(z[0]**4))\n",
      "C:\\Users\\khaye\\AppData\\Local\\Temp\\ipykernel_12968\\1518563475.py:28: RuntimeWarning: invalid value encountered in multiply\n",
      "  k2 = f(t + h/2, z + (h/2)*k1, *args)\n",
      "C:\\Users\\khaye\\AppData\\Local\\Temp\\ipykernel_12968\\1518563475.py:30: RuntimeWarning: invalid value encountered in multiply\n",
      "  k3 = f(t + h/2, z + (h/2)*k2, *args)\n"
     ]
    },
    {
     "ename": "Exception",
     "evalue": "too many iterations",
     "output_type": "error",
     "traceback": [
      "\u001b[1;31m---------------------------------------------------------------------------\u001b[0m",
      "\u001b[1;31mException\u001b[0m                                 Traceback (most recent call last)",
      "Input \u001b[1;32mIn [21]\u001b[0m, in \u001b[0;36m<cell line: 1>\u001b[1;34m()\u001b[0m\n\u001b[1;32m----> 1\u001b[0m \u001b[43mintegrate\u001b[49m\u001b[43m(\u001b[49m\u001b[43mP_c_guess\u001b[49m\u001b[43m,\u001b[49m\u001b[43mdelta_m\u001b[49m\u001b[43m,\u001b[49m\u001b[43meta\u001b[49m\u001b[43m,\u001b[49m\u001b[43mxi\u001b[49m\u001b[43m,\u001b[49m\u001b[43mmue\u001b[49m\u001b[43m,\u001b[49m\u001b[43mmax_steps\u001b[49m\u001b[38;5;241;43m=\u001b[39;49m\u001b[38;5;241;43m10000\u001b[39;49m\u001b[43m)\u001b[49m\n",
      "Input \u001b[1;32mIn [17]\u001b[0m, in \u001b[0;36mintegrate\u001b[1;34m(Pc, delta_m, eta, xi, mue, max_steps)\u001b[0m\n\u001b[0;32m     58\u001b[0m     Nsteps \u001b[38;5;241m+\u001b[39m\u001b[38;5;241m=\u001b[39m \u001b[38;5;241m1\u001b[39m\n\u001b[0;32m     59\u001b[0m \u001b[38;5;66;03m# if the loop runs to max_steps, then signal an error\u001b[39;00m\n\u001b[0;32m     60\u001b[0m \u001b[38;5;28;01melse\u001b[39;00m:\n\u001b[1;32m---> 61\u001b[0m     \u001b[38;5;28;01mraise\u001b[39;00m \u001b[38;5;167;01mException\u001b[39;00m(\u001b[38;5;124m'\u001b[39m\u001b[38;5;124mtoo many iterations\u001b[39m\u001b[38;5;124m'\u001b[39m)\n\u001b[0;32m     63\u001b[0m \u001b[38;5;28;01mreturn\u001b[39;00m m_step[\u001b[38;5;241m0\u001b[39m:Nsteps],r_step[\u001b[38;5;241m0\u001b[39m:Nsteps],p_step[\u001b[38;5;241m0\u001b[39m:Nsteps]\n",
      "\u001b[1;31mException\u001b[0m: too many iterations"
     ]
    }
   ],
   "source": [
    "integrate(P_c_guess,delta_m,eta,xi,mue,max_steps=10000)"
   ]
  },
  {
   "cell_type": "markdown",
   "id": "546a0cbb",
   "metadata": {},
   "source": [
    "part 7"
   ]
  },
  {
   "cell_type": "markdown",
   "id": "4ca3440f",
   "metadata": {},
   "source": [
    "# given arrays m, r, P\n",
    "\n",
    "m_final = m[-1]\n",
    "r_final = r[-1]\n",
    "p_final = P[0]\n",
    "\n",
    "def shooting(M_want, Pc_guess):\n",
    "    \n",
    "    diff = 1\n",
    "    max_steps = 10000\n",
    "    \n",
    "    while (diff != 0):\n",
    "        \n",
    "        # do stuff, output M_new\n",
    "        \n",
    "        diff = M_want - M_new\n",
    "        \n",
    "        if diff < 0:\n",
    "            \n",
    "            Pc_new = 0.5*(Pc_guess + 0.5*Pc_guess)\n",
    "            Pc_guess = Pc_new\n",
    "            \n",
    "        else:\n",
    "            \n",
    "            Pc_new = 0.5*(Pc_guess - 0.5*Pc_guess)\n",
    "            Pc_guess = Pc_new\n",
    "            \n",
    "    return shit_idk"
   ]
  },
  {
   "cell_type": "markdown",
   "id": "3451af9a",
   "metadata": {},
   "source": [
    "### part 8 :)"
   ]
  },
  {
   "cell_type": "code",
   "execution_count": null,
   "id": "f7e033ef",
   "metadata": {},
   "outputs": [],
   "source": [
    "import matplotlib.pyplot as plt\n",
    "from observations import MassRadiusObservations\n",
    "\n",
    "obs = MassRadiusObservations()\n",
    "\n",
    "print(f\"Masses:\\n {obs.masses}\\n\\nRadii:\\n {obs.radii}\\n\\nRadius Errors:\\n {obs.radius_errors}\\n\\n\")\n",
    "\n",
    "for source, info in obs.sources.items():\n",
    "    print('{0:20} M = {1:5.3f} +/- {2:5.3f} Msun'.format(source, info.mass, info.mass_error))"
   ]
  },
  {
   "cell_type": "code",
   "execution_count": null,
   "id": "5c96eca5",
   "metadata": {},
   "outputs": [],
   "source": [
    "# plt.plot(mass_stuff, radius_stuff, label = 'Our shit')\n",
    "plt.scatter(obs.masses, obs.radii, label = 'Joyce et al. 2018')\n",
    "plt.errorbar(obs.masses, obs.radii, xerr=obs.mass_errors, yerr=obs.radius_errors, fmt='o', ecolor = ['green', 'red'])\n",
    "\n",
    "plt.title(f'~cheese~ :)\\n', fontsize=15)\n",
    "axes_fontsize = 12\n",
    "plt.xlabel(r'$M/M_{\\odot}$', fontsize = axes_fontsize);\n",
    "plt.ylabel(r'$R/R_{\\odot}$', fontsize = axes_fontsize);\n",
    "plt.legend();"
   ]
  },
  {
   "cell_type": "markdown",
   "id": "128cf21e",
   "metadata": {},
   "source": []
  }
 ],
 "metadata": {
  "kernelspec": {
   "display_name": "Python 3 (ipykernel)",
   "language": "python",
   "name": "python3"
  },
  "language_info": {
   "codemirror_mode": {
    "name": "ipython",
    "version": 3
   },
   "file_extension": ".py",
   "mimetype": "text/x-python",
   "name": "python",
   "nbconvert_exporter": "python",
   "pygments_lexer": "ipython3",
   "version": "3.9.12"
  },
  "vscode": {
   "interpreter": {
    "hash": "ac931debea14ca3c8e3dee01818ef5710aabba4da47d0585a3bddf5988931415"
   }
  }
 },
 "nbformat": 4,
 "nbformat_minor": 5
}
