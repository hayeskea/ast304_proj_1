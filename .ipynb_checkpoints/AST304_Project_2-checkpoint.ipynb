{
 "cells": [
  {
   "cell_type": "markdown",
   "id": "fab2e4d0",
   "metadata": {},
   "source": [
    "# Project 2\n",
    "Keara Hayes, Atticus Chong, Zachary Malzahn, Evelyn Fuhrman"
   ]
  },
  {
   "cell_type": "code",
   "execution_count": 1,
   "id": "206cd86f",
   "metadata": {},
   "outputs": [],
   "source": [
    "import numpy as np\n",
    "from numpy.linalg import norm\n",
    "import math\n",
    "import matplotlib.pyplot as plt"
   ]
  }
 ],
 "metadata": {
  "kernelspec": {
   "display_name": "Python 3 (ipykernel)",
   "language": "python",
   "name": "python3"
  },
  "language_info": {
   "codemirror_mode": {
    "name": "ipython",
    "version": 3
   },
   "file_extension": ".py",
   "mimetype": "text/x-python",
   "name": "python",
   "nbconvert_exporter": "python",
   "pygments_lexer": "ipython3",
   "version": "3.8.12"
  }
 },
 "nbformat": 4,
 "nbformat_minor": 5
}
