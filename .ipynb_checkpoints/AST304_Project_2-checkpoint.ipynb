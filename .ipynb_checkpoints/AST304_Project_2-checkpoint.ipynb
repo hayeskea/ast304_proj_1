{
 "cells": [
  {
   "cell_type": "markdown",
   "id": "fab2e4d0",
   "metadata": {},
   "source": [
    "# Project 2\n",
    "Keara Hayes, Atticus Chong, Evelyn Fuhrman"
   ]
  },
  {
   "cell_type": "code",
   "execution_count": 35,
   "id": "206cd86f",
   "metadata": {},
   "outputs": [],
   "source": [
    "import numpy as np\n",
    "import pandas as pd\n",
    "from numpy.linalg import norm\n",
    "import math\n",
    "import matplotlib.pyplot as plt\n",
    "import astropy.constants as _ac\n",
    "import astropy.units as _au\n",
    "from numpy import pi\n",
    "from scipy import optimize"
   ]
  },
  {
   "cell_type": "markdown",
   "id": "12dea77d",
   "metadata": {},
   "source": [
    "# Useful Code from Project 1\n",
    "<br><br>Bring back rk4 from the first project to be used in `integrate()`."
   ]
  },
  {
   "cell_type": "code",
   "execution_count": 3,
   "id": "6b595510-9a5e-45c0-b20b-2fd2e54a0cd6",
   "metadata": {},
   "outputs": [],
   "source": [
    "def rk4(f,t,z,h,args=()):\n",
    "    \"\"\"    \n",
    "    Arguments\n",
    "        f(t,z,...)\n",
    "            function that contains the RHS of the equation dz/dt = f(t,z,...)\n",
    "    \n",
    "        t (scalar)\n",
    "            current time\n",
    "            \n",
    "        z (array-like)\n",
    "            function value\n",
    "            \n",
    "        h (scalar)\n",
    "            step size\n",
    "    \n",
    "        args (tuple, optional)\n",
    "            additional arguments to pass to f\n",
    "    \n",
    "    Returns\n",
    "        znew = z(t+h)\n",
    "    \"\"\"\n",
    "   \n",
    "    if not isinstance(args,tuple):\n",
    "        args = (args,)\n",
    "\n",
    "    k1 = f(t, z, *args)\n",
    "\n",
    "    k2 = f(t + h/2, z + (h/2)*k1, *args)\n",
    "\n",
    "    k3 = f(t + h/2, z + (h/2)*k2, *args)\n",
    "\n",
    "    k4 = f(t + h, z + h*k3, *args)\n",
    "    \n",
    "    return z + (h/6)*(k1 + 2*k2 + 2*k3 + k4)"
   ]
  },
  {
   "cell_type": "markdown",
   "id": "8438b397",
   "metadata": {},
   "source": [
    "# Project 2"
   ]
  },
  {
   "cell_type": "markdown",
   "id": "1e36c9b4",
   "metadata": {},
   "source": [
    "> **Part 1**\n",
    "<br><br>\n",
    "Import constants from astro_const.py for consistency.\n",
    "<br>Define other constants to be used in our solutions."
   ]
  },
  {
   "cell_type": "code",
   "execution_count": 4,
   "id": "bd2b8fca",
   "metadata": {},
   "outputs": [],
   "source": [
    "###importing constants\n",
    "\n",
    "# solar mass, radius, luminosity\n",
    "Msun = _ac.M_sun.value\n",
    "Rsun = _ac.R_sun.value\n",
    "Lsun = _ac.L_sun.value\n",
    "\n",
    "# physical constants from astropy, all in MKS units\n",
    "G = _ac.G.value\n",
    "h = _ac.h.value\n",
    "hbar = _ac.hbar.value\n",
    "m_e = _ac.m_e.value\n",
    "m_p = _ac.m_p.value\n",
    "m_n = _ac.m_n.value\n",
    "m_u = _ac.u.value\n",
    "c = _ac.c.value\n",
    "kB = _ac.k_B.value\n",
    "pc = _ac.pc.value\n",
    "au = _ac.au.value\n",
    "year = _au.year.to(_au.second)\n",
    "sigmaSB = _ac.sigma_sb.value\n",
    "\n",
    "# other constants\n",
    "mue = 2\n",
    "K_e = ((1/5)*((3/(8*pi))**(2/3))*(h**2/(m_e * m_u**(5/3))))"
   ]
  },
  {
   "cell_type": "markdown",
   "id": "04a9f5be",
   "metadata": {},
   "source": [
    "> **Part 2**\n",
    "<br><br>\n",
    "Define two functions, `pressure()` and `density()`, to be used throughout the notebook. Test them with `test_eos()`.\n",
    "<br><br>\n",
    "`pressure()`: Given a density $\\rho$ and mass density $\\mu_e$, calculate pressure: $P = ( \\,\\frac{1}{5}) \\,( \\,\\frac{3}{8\\pi}) \\,^\\frac{2}{3}( \\,\\frac{h^2}{m_e}) \\,( \\,\\frac{\\rho}{\\mu_{e}m_u}) \\,$\n",
    "<br><br>\n",
    "`density()`: Given a pressure $P$ and mass density $\\mu_e$, calculate the desntiy: $\\rho = \\mu_{e}m_u( \\,(\\,\\frac{5Pm_e}{h^2})\\,( \\,\\frac{3}{8\\pi}) \\,^\\frac{-2}{3}) \\,^\\frac{3}{5}$"
   ]
  },
  {
   "cell_type": "code",
   "execution_count": 5,
   "id": "f15b9d31",
   "metadata": {},
   "outputs": [],
   "source": [
    "def pressure(rho, mue):\n",
    "    \"\"\"\n",
    "    Arguments\n",
    "        rho\n",
    "            mass density (kg/m**3)\n",
    "        mue\n",
    "            baryon/electron ratio\n",
    "    \n",
    "    Returns\n",
    "        electron degeneracy pressure (Pascal)\n",
    "    \"\"\"\n",
    "\n",
    "    p = (1/5)*(3/(8*np.pi))**(2/3)*(h**2/m_e)*(rho/(mue*m_u))**(5/3)\n",
    "    return p"
   ]
  },
  {
   "cell_type": "code",
   "execution_count": null,
   "id": "766abd90",
   "metadata": {},
   "outputs": [],
   "source": [
    "def density(p, mue):\n",
    "    \"\"\"\n",
    "    Arguments\n",
    "        p\n",
    "            electron degeneracy pressure (Pascal)\n",
    "        mue\n",
    "            baryon/electron ratio  \n",
    "        mu\n",
    "            amu\n",
    "        h\n",
    "            Planck's constant\n",
    "        me\n",
    "            electron mass\n",
    "        \n",
    "    Returns\n",
    "        mass density (kg/m**3)\n",
    "    \"\"\"\n",
    "    \n",
    "    \n",
    "    rho = mue*m_u*((5*p*(m_e/h**2)*(3/(8*np.pi))**(-2/3))**(3/5))\n",
    "    return rho"
   ]
  },
  {
   "cell_type": "code",
   "execution_count": 6,
   "id": "54dc0069",
   "metadata": {},
   "outputs": [
    {
     "name": "stdout",
     "output_type": "stream",
     "text": [
      "Comparing EOS to eos_table.txt...\n",
      "\n"
     ]
    },
    {
     "ename": "NameError",
     "evalue": "name 'density' is not defined",
     "output_type": "error",
     "traceback": [
      "\u001b[0;31m---------------------------------------------------------------------------\u001b[0m",
      "\u001b[0;31mNameError\u001b[0m                                 Traceback (most recent call last)",
      "\u001b[0;32m<ipython-input-6-58b6a38d2b3d>\u001b[0m in \u001b[0;36m<module>\u001b[0;34m\u001b[0m\n\u001b[1;32m     64\u001b[0m \u001b[0;34m\u001b[0m\u001b[0m\n\u001b[1;32m     65\u001b[0m     \u001b[0mprint\u001b[0m\u001b[0;34m(\u001b[0m\u001b[0;34m'Comparing EOS to eos_table.txt...\\n'\u001b[0m\u001b[0;34m)\u001b[0m\u001b[0;34m\u001b[0m\u001b[0;34m\u001b[0m\u001b[0m\n\u001b[0;32m---> 66\u001b[0;31m     \u001b[0;32mif\u001b[0m \u001b[0;34m(\u001b[0m\u001b[0mtest_eos\u001b[0m\u001b[0;34m(\u001b[0m\u001b[0mpressure\u001b[0m\u001b[0;34m,\u001b[0m\u001b[0mdensity\u001b[0m\u001b[0;34m)\u001b[0m\u001b[0;34m)\u001b[0m\u001b[0;34m:\u001b[0m\u001b[0;34m\u001b[0m\u001b[0;34m\u001b[0m\u001b[0m\n\u001b[0m\u001b[1;32m     67\u001b[0m         \u001b[0mprint\u001b[0m\u001b[0;34m(\u001b[0m\u001b[0;34m'\\nSUCCESS: all values within tolerance'\u001b[0m\u001b[0;34m)\u001b[0m\u001b[0;34m\u001b[0m\u001b[0;34m\u001b[0m\u001b[0m\n\u001b[1;32m     68\u001b[0m     \u001b[0;32melse\u001b[0m\u001b[0;34m:\u001b[0m\u001b[0;34m\u001b[0m\u001b[0;34m\u001b[0m\u001b[0m\n",
      "\u001b[0;31mNameError\u001b[0m: name 'density' is not defined"
     ]
    }
   ],
   "source": [
    "def test_eos(pressure_func,density_func,mue=2.0,tolerance=1.0e-12,\n",
    "        testfile='eos_table.txt',units='MKS'):\n",
    "    \"\"\"\n",
    "    compares pressure and density functions against tabulated values\n",
    "\n",
    "    Arguments\n",
    "        pressure_func\n",
    "            function that computes pressure given density and mue\n",
    "        density_func\n",
    "            function that computes density given pressure and mue\n",
    "        mue\n",
    "            baryon/electron ratio (default = 2.0)\n",
    "        tolerance\n",
    "            differences between computed and tabulated EOS values that are \n",
    "            larger than tolerance will trigger a warning (default = 1.0e-12)\n",
    "        testfile\n",
    "            table of density (kg/m**3), pressure (Pa), and Fermi energy \n",
    "            (electron rest mass-energy). Values computed by the eos module are              compared against this (default = 'eos_table.txt')\n",
    "        units (either 'MKS' or 'CGS')\n",
    "            specifies either MKS (default) or CGS units\n",
    "\n",
    "    Returns\n",
    "        True if all tests passed, False otherwise\n",
    "    \"\"\"\n",
    "\n",
    "    accept = True\n",
    "    \n",
    "    # load data, ignoring column containing Fermi energy/(m_e c**2)\n",
    "    data = np.loadtxt(testfile,skiprows=3,usecols=[0,1])\n",
    "    density_val = data[:,0]\n",
    "    pressure_val = data[:,1]\n",
    "\n",
    "    # conversion factors if eos outputs cgs units\n",
    "    density_mks_to_cgs = 1.0e-3\n",
    "    pressure_mks_to_cgs = 10.0\n",
    "    if units.lower()=='cgs':\n",
    "        density_val *= density_mks_to_cgs\n",
    "        pressure_val *= pressure_mks_to_cgs\n",
    "\n",
    "    # table header\n",
    "    print(\n",
    "        '{0:>14}{1:>14}{2:>14}  {3:>14}{4:>14}{5:>14}\\n'.format(\n",
    "            'rho (table)','rho (test)','difference',\n",
    "            'P (table)','P (test)','difference'))\n",
    "\n",
    "    # iterate over density, pressure values and test individually\n",
    "    for rho, p in zip(density_val, pressure_val):\n",
    "        Ptest = pressure_func(rho,mue)\n",
    "        rhotest = density_func(p,mue)\n",
    "        Perr = (Ptest-p)/p\n",
    "        rhoerr = (rhotest-rho)/rho\n",
    "        print(\n",
    "            '{0:14.6e}{1:14.6e}{2:14.6e}  {3:14.6e}{4:14.6e}{5:14.6e}'.\\\n",
    "            format(rho,rhotest,rhoerr,p,Ptest,Perr))\n",
    "\n",
    "        if max(abs(Perr),abs(rhoerr)) > tolerance:\n",
    "            print('******** value outside accepted tolerance ********\\n')\n",
    "            accept = False\n",
    "            \n",
    "    return accept\n",
    "\n",
    "\n",
    "if __name__ == \"__main__\":\n",
    "\n",
    "    print('Comparing EOS to eos_table.txt...\\n')\n",
    "    if (test_eos(pressure,density)):\n",
    "        print('\\nSUCCESS: all values within tolerance')\n",
    "    else:\n",
    "        print('\\nFAIL')\n"
   ]
  },
  {
   "cell_type": "markdown",
   "id": "c85e33ec-0805-472b-9fbc-6a6ad65c6c7b",
   "metadata": {},
   "source": [
    "> **Part 3**\n",
    "<br><br>\n",
    "Define `stellar_derivatives()` to compute the RMS of equations (4) and (5)"
   ]
  },
  {
   "cell_type": "code",
   "execution_count": 8,
   "id": "98d77f4f-4ead-4075-90ce-df9554736de7",
   "metadata": {},
   "outputs": [],
   "source": [
    "def stellar_derivatives(m,z,mue):\n",
    "    \"\"\"\n",
    "    RHS of Lagrangian differential equations for radius and pressure\n",
    "    \n",
    "    Arguments\n",
    "        m\n",
    "            current value of the mass\n",
    "        z (array)\n",
    "            current values of (radius,pressure)\n",
    "        mue\n",
    "            ratio, nucleons to electrons. For a carbon-oxygen white dwarf, mue = 2.\n",
    "        \n",
    "    Returns\n",
    "        dzdm (array)\n",
    "            Lagrangian derivatives dr/dm, dP/dm\n",
    "    \"\"\"\n",
    "    \n",
    "    dzdm = np.zeros_like(z)\n",
    "    \n",
    "    dzdm[0] = (4*pi*(z[0]**2)*density(z[1],mue))**(-1)\n",
    "    dzdm[1] = (-G*m)/(4*pi*(z[0]**4))\n",
    "    \n",
    "    return dzdm"
   ]
  },
  {
   "cell_type": "markdown",
   "id": "89707952",
   "metadata": {},
   "source": [
    "> **Part 4**\n",
    "<br><br>\n",
    "Define `central_values()` to find the central boundary conditions of the white dwarf."
   ]
  },
  {
   "cell_type": "code",
   "execution_count": 10,
   "id": "ebef8a53",
   "metadata": {},
   "outputs": [
    {
     "data": {
      "text/plain": [
       "0.00012591999558046895"
      ]
     },
     "execution_count": 10,
     "metadata": {},
     "output_type": "execute_result"
    }
   ],
   "source": [
    "density(1,2)"
   ]
  },
  {
   "cell_type": "code",
   "execution_count": 11,
   "id": "234602a9",
   "metadata": {},
   "outputs": [],
   "source": [
    "def central_values(Pc,delta_m,mue):\n",
    "    \"\"\"\n",
    "    Constructs the boundary conditions at the edge of a small, constant density \n",
    "    core of mass delta_m with central pressure P_c\n",
    "    \n",
    "    Arguments\n",
    "        Pc\n",
    "            central pressure (units = ?)\n",
    "        delta_m\n",
    "            core mass (units = ?)\n",
    "        mue\n",
    "            nucleon/electron ratio\n",
    "    \n",
    "    Returns\n",
    "        z = array([ r, p ])\n",
    "            central values of radius and pressure (units = ?)\n",
    "    \"\"\"\n",
    "    z = np.zeros(2)\n",
    "    \n",
    "    z[0] = ((3*delta_m)/(4 * np.pi * density(Pc, mue)))**1/3\n",
    "    z[1] = Pc   \n",
    "    return z"
   ]
  },
  {
   "cell_type": "markdown",
   "id": "0a88e38f",
   "metadata": {},
   "source": [
    "> **Part 5**\n",
    "<br><br>\n",
    "Define `lengthscales()` and `integrate()` to integrate our structure equations. "
   ]
  },
  {
   "cell_type": "code",
   "execution_count": 12,
   "id": "1997f0e4",
   "metadata": {},
   "outputs": [],
   "source": [
    "def lengthscales(m,z,mue):\n",
    "    \"\"\"\n",
    "    Computes the radial length scale H_r and the pressure length H_P\n",
    "    \n",
    "    Arguments\n",
    "        m\n",
    "            current mass coordinate (units = ?)\n",
    "        z (array)\n",
    "           [ r, p ] (units = ?)\n",
    "        mue\n",
    "            mean electron weight\n",
    "    \n",
    "    Returns\n",
    "        z/|dzdm| (units = ?)\n",
    "    \"\"\"    \n",
    "    \n",
    "    radius = z[0]\n",
    "    pressure = z[1]\n",
    "    rho = density(pressure, mue)\n",
    "    H_r = 4 * np.pi * (radius**3) * rho\n",
    "    H_p = (4 * np.pi * (radius**4) * pressure) / (G * m) \n",
    "    \n",
    "    out = [H_r, H_p]\n",
    "    \n",
    "    out = np.asarray(out)\n",
    "    \n",
    "    return out"
   ]
  },
  {
   "cell_type": "code",
   "execution_count": 13,
   "id": "caea531d",
   "metadata": {},
   "outputs": [],
   "source": [
    "def integrate(Pc,delta_m,eta,xi,mue,max_steps=10000):\n",
    "    \"\"\"\n",
    "    Integrates the scaled stellar structure equations\n",
    "\n",
    "    Arguments\n",
    "        Pc\n",
    "            central pressure (units = ?)\n",
    "        delta_m\n",
    "            initial offset from center (units = ?)\n",
    "        eta\n",
    "            The integration stops when P < eta * Pc\n",
    "        xi\n",
    "            The stepsize is set to be xi*min(p/|dp/dm|, r/|dr/dm|)\n",
    "        mue\n",
    "            mean electron mass\n",
    "        max_steps\n",
    "            solver will quit and throw error if this more than max_steps are \n",
    "            required (default is 10000)\n",
    "                        \n",
    "    Returns\n",
    "        m_step, r_step, p_step\n",
    "            arrays containing mass coordinates, radii and pressures during \n",
    "            integration (what are the units?)\n",
    "    \"\"\"\n",
    "        \n",
    "    m_step = np.zeros(max_steps)\n",
    "    r_step = np.zeros(max_steps)\n",
    "    p_step = np.zeros(max_steps)\n",
    "  \n",
    "    # set starting conditions using central values\n",
    "    temp = delta_m\n",
    "    z = central_values(Pc, delta_m, mue)\n",
    "    Nsteps = 0\n",
    "    \n",
    "    for step in range(max_steps):\n",
    "        radius = z[0]\n",
    "        pressure = z[1]\n",
    "        \n",
    "        # are we at the surface?\n",
    "        if (pressure < eta*Pc):\n",
    "            break\n",
    "            \n",
    "        # store the step\n",
    "        m_step[step] = temp\n",
    "        r_step[step] = radius\n",
    "        p_step[step] = pressure\n",
    "        \n",
    "        # set the stepsize\n",
    "#         H_r, H_p = lengthscales(m_step[step], z, mue)\n",
    "        h = xi*min(lengthscales(m_step[step], z, mue))\n",
    "\n",
    "        # take a step\n",
    "        z = rk4(stellar_derivatives,temp,z,h,args=(mue))\n",
    "        temp += h\n",
    "        \n",
    "        # increment the counter\n",
    "        Nsteps += 1\n",
    "    # if the loop runs to max_steps, then signal an error\n",
    "    else:\n",
    "        raise Exception('too many iterations')\n",
    "        \n",
    "    return m_step[0:Nsteps],r_step[0:Nsteps],p_step[0:Nsteps]"
   ]
  },
  {
   "cell_type": "markdown",
   "id": "9970adf6-3462-4550-80f3-7e4ddb8f4e63",
   "metadata": {},
   "source": [
    "> **Part 6**\n",
    "<br><br>\n",
    "Given a trial mass value and integration parameters $\\delta_m$, $\\xi$, and $n$, compute a guess for central pressure $P_{c}^{guess}$. Adjust integration parameters one at a time until we reach a converged value for the mass and radius. Then adjust $P_c$ until we find a lower and upper range value for pressure that will produce masses in the range of (0.1 to 1.0) $M_{\\odot}$\n"
   ]
  },
  {
   "cell_type": "code",
   "execution_count": 14,
   "id": "95f4479b-a336-4e5a-ba41-ab8c12ac169d",
   "metadata": {},
   "outputs": [],
   "source": [
    "def guess_P_c(M, mue):\n",
    "    return ((G**5)/(K_e**4))*((M*(mue**2))**(10/3))"
   ]
  },
  {
   "cell_type": "code",
   "execution_count": 15,
   "id": "8b469b1a-2542-4c26-a0a3-d81a8e61873f",
   "metadata": {},
   "outputs": [],
   "source": [
    "P_c_guess=guess_P_c(Msun, mue)"
   ]
  },
  {
   "cell_type": "code",
   "execution_count": 16,
   "id": "6c491d1d",
   "metadata": {},
   "outputs": [],
   "source": [
    "delta_m = 1e-4\n",
    "eta = 1e-20\n",
    "xi = 0.05"
   ]
  },
  {
   "cell_type": "code",
   "execution_count": 17,
   "id": "b521b825",
   "metadata": {},
   "outputs": [
    {
     "data": {
      "text/plain": [
       "(array([1.00000000e-04, 1.00000000e-04, 1.00000000e-04, ...,\n",
       "        6.01769068e+30, 6.01769068e+30, 6.01769068e+30]),\n",
       " array([2.13839360e-16, 2.24037272e-16, 2.34721519e-16, ...,\n",
       "        6.13816878e+06, 6.13816878e+06, 6.13816878e+06]),\n",
       " array([1.31123234e+24, 1.31123234e+24, 1.31123234e+24, ...,\n",
       "        1.48085866e+04, 1.40681573e+04, 1.33647494e+04]))"
      ]
     },
     "execution_count": 17,
     "metadata": {},
     "output_type": "execute_result"
    }
   ],
   "source": [
    "integrate(P_c_guess,delta_m,eta,xi,mue,max_steps=10000)\n"
   ]
  },
  {
   "cell_type": "markdown",
   "id": "546a0cbb",
   "metadata": {},
   "source": [
    "> **Part 7**"
   ]
  },
  {
   "cell_type": "code",
   "execution_count": 18,
   "id": "cea5f8fa",
   "metadata": {},
   "outputs": [],
   "source": [
    "masses = np.arange(0.1, 1, 0.1)*Msun\n",
    "pcs = []\n",
    "\n",
    "m_step, r_step, p_step = integrate(P_c_guess,delta_m,eta,xi,mue)\n",
    "\n",
    "def mass_diff(Pc, m_want, delta_m, eta, mue):\n",
    "    \n",
    "    m_step, r_step, p_step = integrate(Pc,delta_m,eta,xi,mue)\n",
    "\n",
    "    diff = m_step[-1] - m_want\n",
    "    \n",
    "    return diff\n",
    "\n",
    "for i in masses:\n",
    "    \n",
    "    out = optimize.bisect(mass_diff, a = 1e19, b = 1e23, xtol=1e-6, args = (i, delta_m, eta, mue))\n",
    "    \n",
    "    pcs.append(out)\n",
    "    "
   ]
  },
  {
   "cell_type": "code",
   "execution_count": 21,
   "id": "a42bf41d",
   "metadata": {},
   "outputs": [
    {
     "data": {
      "text/plain": [
       "[1.5179815171545375e+19,\n",
       " 1.5300294946247662e+20,\n",
       " 5.911132103104252e+20,\n",
       " 1.542173093187189e+21,\n",
       " 3.2446398532427967e+21,\n",
       " 5.958047819643775e+21,\n",
       " 9.96001403872837e+21,\n",
       " 1.5544130718675136e+22,\n",
       " 2.301838494376299e+22]"
      ]
     },
     "execution_count": 21,
     "metadata": {},
     "output_type": "execute_result"
    }
   ],
   "source": [
    "pcs"
   ]
  },
  {
   "cell_type": "code",
   "execution_count": 41,
   "id": "2a86a47c",
   "metadata": {},
   "outputs": [
    {
     "data": {
      "text/html": [
       "<div>\n",
       "<style scoped>\n",
       "    .dataframe tbody tr th:only-of-type {\n",
       "        vertical-align: middle;\n",
       "    }\n",
       "\n",
       "    .dataframe tbody tr th {\n",
       "        vertical-align: top;\n",
       "    }\n",
       "\n",
       "    .dataframe thead th {\n",
       "        text-align: right;\n",
       "    }\n",
       "</style>\n",
       "<table border=\"1\" class=\"dataframe\">\n",
       "  <thead>\n",
       "    <tr style=\"text-align: right;\">\n",
       "      <th></th>\n",
       "      <th>$\\frac{M}{M_{\\odot}}$</th>\n",
       "      <th>$\\frac{R}{0.01R_{\\odot}}$</th>\n",
       "      <th>$P_c (MKS)$</th>\n",
       "      <th>$\\frac{P_c}{(GM^2R^{-4})}$</th>\n",
       "      <th>$\\rho (MKS)$</th>\n",
       "      <th>$\\frac{\\rho_{c}}{[\\frac{3M}{4\\pi R^3}]}$</th>\n",
       "    </tr>\n",
       "  </thead>\n",
       "  <tbody>\n",
       "    <tr>\n",
       "      <th>0</th>\n",
       "      <td>0.1</td>\n",
       "      <td>1.725187</td>\n",
       "      <td>1.517982e+19</td>\n",
       "      <td>0.119366</td>\n",
       "      <td>1.150089e+08</td>\n",
       "      <td>2.745636e+07</td>\n",
       "    </tr>\n",
       "    <tr>\n",
       "      <th>1</th>\n",
       "      <td>0.2</td>\n",
       "      <td>1.369282</td>\n",
       "      <td>1.530029e+20</td>\n",
       "      <td>0.119366</td>\n",
       "      <td>4.600357e+08</td>\n",
       "      <td>1.098254e+08</td>\n",
       "    </tr>\n",
       "    <tr>\n",
       "      <th>2</th>\n",
       "      <td>0.3</td>\n",
       "      <td>1.196178</td>\n",
       "      <td>5.911132e+20</td>\n",
       "      <td>0.119366</td>\n",
       "      <td>1.035080e+09</td>\n",
       "      <td>2.471072e+08</td>\n",
       "    </tr>\n",
       "    <tr>\n",
       "      <th>3</th>\n",
       "      <td>0.4</td>\n",
       "      <td>1.086800</td>\n",
       "      <td>1.542173e+21</td>\n",
       "      <td>0.119366</td>\n",
       "      <td>1.840143e+09</td>\n",
       "      <td>4.393018e+08</td>\n",
       "    </tr>\n",
       "    <tr>\n",
       "      <th>4</th>\n",
       "      <td>0.5</td>\n",
       "      <td>1.008895</td>\n",
       "      <td>3.244640e+21</td>\n",
       "      <td>0.119366</td>\n",
       "      <td>2.875223e+09</td>\n",
       "      <td>6.864090e+08</td>\n",
       "    </tr>\n",
       "    <tr>\n",
       "      <th>5</th>\n",
       "      <td>0.6</td>\n",
       "      <td>0.949407</td>\n",
       "      <td>5.958048e+21</td>\n",
       "      <td>0.119366</td>\n",
       "      <td>4.140322e+09</td>\n",
       "      <td>9.884290e+08</td>\n",
       "    </tr>\n",
       "    <tr>\n",
       "      <th>6</th>\n",
       "      <td>0.7</td>\n",
       "      <td>0.901855</td>\n",
       "      <td>9.960014e+21</td>\n",
       "      <td>0.119366</td>\n",
       "      <td>5.635438e+09</td>\n",
       "      <td>1.345362e+09</td>\n",
       "    </tr>\n",
       "    <tr>\n",
       "      <th>7</th>\n",
       "      <td>0.8</td>\n",
       "      <td>0.862593</td>\n",
       "      <td>1.554413e+22</td>\n",
       "      <td>0.119366</td>\n",
       "      <td>7.360572e+09</td>\n",
       "      <td>1.757207e+09</td>\n",
       "    </tr>\n",
       "    <tr>\n",
       "      <th>8</th>\n",
       "      <td>0.9</td>\n",
       "      <td>0.829383</td>\n",
       "      <td>2.301838e+22</td>\n",
       "      <td>0.119366</td>\n",
       "      <td>9.315723e+09</td>\n",
       "      <td>2.223965e+09</td>\n",
       "    </tr>\n",
       "  </tbody>\n",
       "</table>\n",
       "</div>"
      ],
      "text/plain": [
       "   $\\frac{M}{M_{\\odot}}$  $\\frac{R}{0.01R_{\\odot}}$   $P_c (MKS)$  \\\n",
       "0                    0.1                   1.725187  1.517982e+19   \n",
       "1                    0.2                   1.369282  1.530029e+20   \n",
       "2                    0.3                   1.196178  5.911132e+20   \n",
       "3                    0.4                   1.086800  1.542173e+21   \n",
       "4                    0.5                   1.008895  3.244640e+21   \n",
       "5                    0.6                   0.949407  5.958048e+21   \n",
       "6                    0.7                   0.901855  9.960014e+21   \n",
       "7                    0.8                   0.862593  1.554413e+22   \n",
       "8                    0.9                   0.829383  2.301838e+22   \n",
       "\n",
       "   $\\frac{P_c}{(GM^2R^{-4})}$  $\\rho (MKS)$  \\\n",
       "0                    0.119366  1.150089e+08   \n",
       "1                    0.119366  4.600357e+08   \n",
       "2                    0.119366  1.035080e+09   \n",
       "3                    0.119366  1.840143e+09   \n",
       "4                    0.119366  2.875223e+09   \n",
       "5                    0.119366  4.140322e+09   \n",
       "6                    0.119366  5.635438e+09   \n",
       "7                    0.119366  7.360572e+09   \n",
       "8                    0.119366  9.315723e+09   \n",
       "\n",
       "   $\\frac{\\rho_{c}}{[\\frac{3M}{4\\pi R^3}]}$  \n",
       "0                              2.745636e+07  \n",
       "1                              1.098254e+08  \n",
       "2                              2.471072e+08  \n",
       "3                              4.393018e+08  \n",
       "4                              6.864090e+08  \n",
       "5                              9.884290e+08  \n",
       "6                              1.345362e+09  \n",
       "7                              1.757207e+09  \n",
       "8                              2.223965e+09  "
      ]
     },
     "execution_count": 41,
     "metadata": {},
     "output_type": "execute_result"
    }
   ],
   "source": [
    "df = pd.DataFrame()\n",
    "\n",
    "df[r'$\\frac{M}{M_{\\odot}}$'] = masses / Msun\n",
    "df[r'$\\frac{R}{0.01R_{\\odot}}$'] = radii / (Rsun*0.01)\n",
    "df[r'$P_c (MKS)$'] = pcs\n",
    "df[r'$\\frac{P_c}{(GM^2R^{-4})}$'] = pcs / (G * (masses**2) * (radii**(-4)))\n",
    "df[r'$\\rho (MKS)$'] = masses / (radii**3)\n",
    "df[r'$\\frac{\\rho_{c}}{[\\frac{3M}{4\\pi R^3}]}$'] = (3 * masses) / (4 * np.pi * (radii**3))\n",
    "\n",
    "df"
   ]
  },
  {
   "cell_type": "markdown",
   "id": "3451af9a",
   "metadata": {},
   "source": [
    "> **Part 8**"
   ]
  },
  {
   "cell_type": "code",
   "execution_count": 22,
   "id": "f7e033ef",
   "metadata": {
    "scrolled": true
   },
   "outputs": [
    {
     "name": "stdout",
     "output_type": "stream",
     "text": [
      "Masses:\n",
      " [0.927 0.607 0.643 0.541 0.59  0.398 0.277 0.729 0.543 0.723 0.559 0.524\n",
      " 0.633 0.376]\n",
      "\n",
      "Radii:\n",
      " [0.802 1.461 1.457 1.34  1.378 1.418 1.464 1.235 1.42  1.717 2.183 1.452\n",
      " 1.993 1.504]\n",
      "\n",
      "Radius Errors:\n",
      " [0.011 0.009 0.036 0.013 0.011 0.009 0.018 0.018 0.014 0.009 0.043 0.024\n",
      " 0.009 0.042]\n",
      "\n",
      "\n",
      "Sirius B-HST         M = 0.927 +/- 0.107 Msun\n",
      "HZ43-HST             M = 0.607 +/- 0.106 Msun\n",
      "HZ43-FUSE            M = 0.643 +/- 0.065 Msun\n",
      "14 Aur Cb-HST        M = 0.541 +/- 0.086 Msun\n",
      "14 Aur Cb-FUSE       M = 0.590 +/- 0.028 Msun\n",
      "HD2133 B-HST         M = 0.398 +/- 0.138 Msun\n",
      "HD2133 B-FUSE        M = 0.277 +/- 0.069 Msun\n",
      "HR1358 B-HST         M = 0.729 +/- 0.053 Msun\n",
      "RE 0357-FUSE         M = 0.543 +/- 0.039 Msun\n",
      "HD 223816-FUSE       M = 0.723 +/- 0.019 Msun\n",
      "RE 1024-FUSE         M = 0.559 +/- 0.030 Msun\n",
      "REJ 1925-FUSE        M = 0.524 +/- 0.040 Msun\n",
      "Feige 24-FUSE        M = 0.633 +/- 0.012 Msun\n",
      "HD15638-FUSE         M = 0.376 +/- 0.026 Msun\n"
     ]
    }
   ],
   "source": [
    "import matplotlib.pyplot as plt\n",
    "from observations import MassRadiusObservations\n",
    "\n",
    "obs = MassRadiusObservations()\n",
    "\n",
    "print(f\"Masses:\\n {obs.masses}\\n\\nRadii:\\n {obs.radii}\\n\\nRadius Errors:\\n {obs.radius_errors}\\n\\n\")\n",
    "\n",
    "for source, info in obs.sources.items():\n",
    "    print('{0:20} M = {1:5.3f} +/- {2:5.3f} Msun'.format(source, info.mass, info.mass_error))"
   ]
  },
  {
   "cell_type": "code",
   "execution_count": 34,
   "id": "5c96eca5",
   "metadata": {},
   "outputs": [
    {
     "data": {
      "image/png": "[encoded data removed]",
      "text/plain": [
       "<Figure size 432x288 with 1 Axes>"
      ]
     },
     "metadata": {
      "needs_background": "light"
     },
     "output_type": "display_data"
    }
   ],
   "source": [
    "radii = (((3/(8*np.pi)) * G * ((masses**2)/pcs)))**((1/4))\n",
    "\n",
    "solar_masses = masses / Msun\n",
    "solar_radii = radii / (Rsun*0.01)\n",
    "\n",
    "plt.scatter(solar_masses, solar_radii, label = 'Our Calculations', color = 'purple')\n",
    "plt.scatter(obs.masses, obs.radii, label = 'Joyce et al. 2018')\n",
    "plt.errorbar(obs.masses, obs.radii, xerr=obs.mass_errors, yerr=obs.radius_errors, fmt='o', \n",
    "             ecolor = ['violet', 'mediumvioletred'])\n",
    "\n",
    "plt.title(f'Mass-Radius Relation and Comparison\\n', fontsize=15)\n",
    "axes_fontsize = 12\n",
    "plt.xlabel(r'$M/M_{\\odot}$', fontsize = axes_fontsize);\n",
    "plt.ylabel(r'$R/R_{\\odot}$', fontsize = axes_fontsize);\n",
    "plt.legend();"
   ]
  },
  {
   "cell_type": "markdown",
   "id": "128cf21e",
   "metadata": {},
   "source": []
  }
 ],
 "metadata": {
  "kernelspec": {
   "display_name": "Python 3",
   "language": "python",
   "name": "python3"
  },
  "language_info": {
   "codemirror_mode": {
    "name": "ipython",
    "version": 3
   },
   "file_extension": ".py",
   "mimetype": "text/x-python",
   "name": "python",
   "nbconvert_exporter": "python",
   "pygments_lexer": "ipython3",
   "version": "3.8.8"
  },
  "vscode": {
   "interpreter": {
    "hash": "ac931debea14ca3c8e3dee01818ef5710aabba4da47d0585a3bddf5988931415"
   }
  }
 },
 "nbformat": 4,
 "nbformat_minor": 5
}
