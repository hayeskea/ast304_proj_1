{
 "cells": [
  {
   "cell_type": "markdown",
   "id": "eabf5c35",
   "metadata": {},
   "source": [
    "# Project 3"
   ]
  },
  {
   "cell_type": "markdown",
   "id": "2c133928",
   "metadata": {},
   "source": [
    "Atticus Chong, Evelyn Fuhrman, Keara Hayes, Zachary Malzahn"
   ]
  },
  {
   "cell_type": "markdown",
   "id": "f3d78289",
   "metadata": {},
   "source": [
    "### Imports and Constants"
   ]
  },
  {
   "cell_type": "code",
   "execution_count": null,
   "id": "12c9d7eb",
   "metadata": {},
   "outputs": [],
   "source": [
    "import numpy as np\n",
    "import pandas as pd\n",
    "from numpy.linalg import norm\n",
    "import math\n",
    "import matplotlib.pyplot as plt\n",
    "import astropy.constants as _ac\n",
    "import astropy.units as _au\n",
    "from numpy import pi\n",
    "from scipy import optimize\n",
    "\n",
    "### importing functions from previous projects that don't get modified here\n",
    "\n",
    "from bits_n_pieces.py import *"
   ]
  },
  {
   "cell_type": "code",
   "execution_count": null,
   "id": "94dc6535",
   "metadata": {},
   "outputs": [],
   "source": [
    "###importing constants\n",
    "\n",
    "# solar mass, radius, luminosity\n",
    "Msun = _ac.M_sun.value\n",
    "Rsun = _ac.R_sun.value\n",
    "Lsun = _ac.L_sun.value\n",
    "\n",
    "# physical constants from astropy, all in MKS units\n",
    "G = _ac.G.value\n",
    "h = _ac.h.value\n",
    "hbar = _ac.hbar.value\n",
    "m_e = _ac.m_e.value\n",
    "m_p = _ac.m_p.value\n",
    "m_n = _ac.m_n.value\n",
    "m_u = _ac.u.value\n",
    "c = _ac.c.value\n",
    "kB = _ac.k_B.value\n",
    "pc = _ac.pc.value\n",
    "au = _ac.au.value\n",
    "year = _au.year.to(_au.second)\n",
    "sigmaSB = _ac.sigma_sb.value\n",
    "\n",
    "# other constants\n",
    "mue = 2\n",
    "K_e = ((1/5)*((3/(8*pi))**(2/3))*(h**2/(m_e*(mue*m_u)**(5/3))))"
   ]
  },
  {
   "cell_type": "markdown",
   "id": "78a74b66",
   "metadata": {},
   "source": [
    "### shit from project 2 that someone needs probably"
   ]
  },
  {
   "cell_type": "code",
   "execution_count": null,
   "id": "fd02fb76",
   "metadata": {},
   "outputs": [],
   "source": [
    "def stellar_derivatives(m,z,mue):\n",
    "    \"\"\"\n",
    "    RHS of Lagrangian differential equations for radius and pressure\n",
    "    \n",
    "    Arguments\n",
    "        m\n",
    "            current value of the mass\n",
    "        z (array)\n",
    "            current values of (radius,pressure)\n",
    "        mue\n",
    "            ratio, nucleons to electrons. For a carbon-oxygen white dwarf, mue = 2.\n",
    "        \n",
    "    Returns\n",
    "        dzdm (array)\n",
    "            Lagrangian derivatives dr/dm, dP/dm\n",
    "    \"\"\"\n",
    "    \n",
    "    dzdm = np.zeros_like(z)\n",
    "    \n",
    "    dzdm[0] = (4*pi*(z[0]**2)*density(z[1],mue))**(-1)\n",
    "    dzdm[1] = (-G*m)/(4*pi*(z[0]**4))\n",
    "    \n",
    "    return dzdm"
   ]
  },
  {
   "cell_type": "code",
   "execution_count": null,
   "id": "decd6d7b",
   "metadata": {},
   "outputs": [],
   "source": [
    "def central_values(Pc,delta_m,mue):\n",
    "    \"\"\"\n",
    "    Constructs the boundary conditions at the edge of a small, constant density \n",
    "    core of mass delta_m with central pressure P_c\n",
    "    \n",
    "    Arguments\n",
    "        Pc\n",
    "            central pressure (units = ?)\n",
    "        delta_m\n",
    "            core mass (units = ?)\n",
    "        mue\n",
    "            nucleon/electron ratio\n",
    "    \n",
    "    Returns\n",
    "        z = array([ r, p ])\n",
    "            central value of radius and pressure (units = ?)\n",
    "    \"\"\"\n",
    "    z = np.zeros(2)\n",
    "    \n",
    "    z[0] = ((3*delta_m)/(4 * np.pi * density(Pc, mue)))**(1/3)\n",
    "    z[1] = Pc   \n",
    "    return z"
   ]
  },
  {
   "cell_type": "code",
   "execution_count": null,
   "id": "a9a1f582",
   "metadata": {},
   "outputs": [],
   "source": [
    "def lengthscales(m,z,mue):\n",
    "    \"\"\"\n",
    "    Computes the radial length scale H_r and the pressure length H_P\n",
    "    \n",
    "    Arguments\n",
    "        m\n",
    "            current mass coordinate (units = kg)\n",
    "        z (array)\n",
    "           [ r, p ] (units = [ m, Pa ])\n",
    "        mue\n",
    "            mean electron weight\n",
    "    \n",
    "    Returns\n",
    "        z/|dzdm| (units = [ m^6/kg, 1/s^4 ])\n",
    "    \"\"\"    \n",
    "    \n",
    "    radius = z[0]\n",
    "    pressure = z[1]\n",
    "    rho = density(pressure, mue)\n",
    "    H_r = 4 * np.pi * (radius**3) * rho\n",
    "    H_p = (4 * np.pi * (radius**4) * pressure) / (G * m) \n",
    "    \n",
    "    out = [H_r, H_p]\n",
    "    \n",
    "    out = np.asarray(out)\n",
    "    \n",
    "    return out"
   ]
  },
  {
   "cell_type": "code",
   "execution_count": null,
   "id": "8c36e16f",
   "metadata": {},
   "outputs": [],
   "source": [
    "def integrate(Pc,delta_m,eta,xi,mue,max_steps=10000):\n",
    "    \"\"\"\n",
    "    Integrates the scaled stellar structure equations\n",
    "\n",
    "    Arguments\n",
    "        Pc\n",
    "            central pressure (units = ?)\n",
    "        delta_m\n",
    "            initial offset from center (units = ?)\n",
    "        eta\n",
    "            The integration stops when P < eta * Pc\n",
    "        xi\n",
    "            The stepsize is set to be xi*min(p/|dp/dm|, r/|dr/dm|)\n",
    "        mue\n",
    "            mean electron mass\n",
    "        max_steps\n",
    "            solver will quit and throw error if this more than max_steps are \n",
    "            required (default is 10000)\n",
    "                        \n",
    "    Returns\n",
    "        m_step, r_step, p_step\n",
    "            arrays containing mass coordinates, radii and pressures during \n",
    "            integration (what are the units?)\n",
    "    \"\"\"\n",
    "        \n",
    "    m_step = np.zeros(max_steps)\n",
    "    r_step = np.zeros(max_steps)\n",
    "    p_step = np.zeros(max_steps)\n",
    "  \n",
    "    # set starting conditions using central values\n",
    "    temp = delta_m\n",
    "    z = central_values(Pc, delta_m, mue)\n",
    "    Nsteps = 0\n",
    "    \n",
    "    for step in range(max_steps):\n",
    "        radius = z[0]\n",
    "        pressure = z[1]\n",
    "        \n",
    "        # are we at the surface?\n",
    "        if (pressure < eta*Pc):\n",
    "            break\n",
    "            \n",
    "        # store the step\n",
    "        m_step[step] = temp\n",
    "        r_step[step] = radius\n",
    "        p_step[step] = pressure\n",
    "        \n",
    "        # set the stepsize\n",
    "        h = xi*min(lengthscales(m_step[step], z, mue))\n",
    "\n",
    "        # take a step\n",
    "        z = rk4(stellar_derivatives,temp,z,h,args=(mue))\n",
    "        temp += h\n",
    "        # increment the counter\n",
    "        Nsteps += 1\n",
    "    # if the loop runs to max_steps, then signal an error\n",
    "    else:\n",
    "        raise Exception('too many iterations')\n",
    "        \n",
    "    return m_step[0:Nsteps],r_step[0:Nsteps],p_step[0:Nsteps]"
   ]
  },
  {
   "cell_type": "markdown",
   "id": "f7225660",
   "metadata": {},
   "source": [
    "## 1)"
   ]
  },
  {
   "cell_type": "code",
   "execution_count": null,
   "id": "27de373a",
   "metadata": {},
   "outputs": [],
   "source": [
    "def guess_P_c(M, mue):\n",
    "    return ((G**5)/(K_e**4))*((M*(mue**2))**(10/3))"
   ]
  },
  {
   "cell_type": "code",
   "execution_count": null,
   "id": "a01da1fa",
   "metadata": {},
   "outputs": [],
   "source": [
    "P_c_guess=guess_P_c(Msun, mue)"
   ]
  },
  {
   "cell_type": "code",
   "execution_count": null,
   "id": "11513217",
   "metadata": {},
   "outputs": [],
   "source": [
    "delta_m = 1e-4\n",
    "eta = 1e-20\n",
    "xi = 0.01"
   ]
  },
  {
   "cell_type": "code",
   "execution_count": null,
   "id": "45a1e3fa",
   "metadata": {},
   "outputs": [],
   "source": [
    "integrate(P_c_guess,delta_m,eta,xi,mue,max_steps=10000)"
   ]
  },
  {
   "cell_type": "code",
   "execution_count": null,
   "id": "83a7789f",
   "metadata": {},
   "outputs": [],
   "source": [
    "masses = np.arange(0.1, 1.1, 0.1)*Msun\n",
    "pcs=[]\n",
    "r_step_list=[]\n",
    " \n",
    "def mass_diff(Pc, m_want, delta_m, eta, mue):\n",
    "    m_step, r_step, p_step = integrate(Pc,delta_m,eta,xi,mue)\n",
    "    diff = m_step[-1] - m_want\n",
    "    return diff\n",
    "\n",
    "for i in masses:\n",
    "    out = optimize.bisect(mass_diff, a = 1e19, b = 1e23, xtol=1e-6, args = (i, delta_m, eta, mue))\n",
    "    m_step, r_step, p_step = integrate(out,delta_m,eta,xi,mue)\n",
    "    r_step_list.append(r_step[-1])\n",
    "    pcs.append(out)"
   ]
  },
  {
   "cell_type": "code",
   "execution_count": null,
   "id": "444418d8",
   "metadata": {},
   "outputs": [],
   "source": [
    "pcs=np.asarray(pcs)\n",
    "r_step_list = np.asarray(r_step_list)\n",
    "solar_masses = masses / Msun\n",
    "solar_radii = r_step_list / (Rsun*0.01)"
   ]
  },
  {
   "cell_type": "code",
   "execution_count": null,
   "id": "ccc6a799",
   "metadata": {},
   "outputs": [],
   "source": [
    "df = pd.DataFrame()\n",
    "\n",
    "df[r'$\\frac{M}{M_{\\odot}}$'] = masses / Msun\n",
    "df[r'$\\frac{R}{0.01R_{\\odot}}$'] = r_step_list / (Rsun*0.01)\n",
    "df[r'$P_c (MKS)$'] = pcs\n",
    "df[r'$\\frac{P_c}{(GM^2R^{-4})}$'] = pcs / (G * (masses**2) * (r_step_list**(-4)))\n",
    "df[r'$\\rho (MKS)$'] = density(pcs,mue)\n",
    "df[r'$\\frac{\\rho_{c}}{[\\frac{3M}{4\\pi R^3}]}$'] = density(pcs,mue)/((3 * masses) / (4 * np.pi * (r_step_list**3)))\n",
    "\n",
    "df"
   ]
  }
 ],
 "metadata": {
  "kernelspec": {
   "display_name": "Python 3 (ipykernel)",
   "language": "python",
   "name": "python3"
  },
  "language_info": {
   "codemirror_mode": {
    "name": "ipython",
    "version": 3
   },
   "file_extension": ".py",
   "mimetype": "text/x-python",
   "name": "python",
   "nbconvert_exporter": "python",
   "pygments_lexer": "ipython3",
   "version": "3.9.12"
  }
 },
 "nbformat": 4,
 "nbformat_minor": 5
}
