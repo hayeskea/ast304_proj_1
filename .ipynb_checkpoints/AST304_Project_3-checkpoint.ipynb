{
 "cells": [
  {
   "cell_type": "markdown",
   "id": "eabf5c35",
   "metadata": {},
   "source": [
    "# Project 3"
   ]
  },
  {
   "cell_type": "markdown",
   "id": "2c133928",
   "metadata": {},
   "source": [
    "Atticus Chong, Evelyn Fuhrman, Keara Hayes, Zachary Malzahn"
   ]
  },
  {
   "cell_type": "markdown",
   "id": "f3d78289",
   "metadata": {},
   "source": [
    "### Imports and Constants"
   ]
  },
  {
   "cell_type": "code",
   "execution_count": 1,
   "id": "12c9d7eb",
   "metadata": {},
   "outputs": [],
   "source": [
    "import numpy as np\n",
    "import pandas as pd\n",
    "from numpy.linalg import norm\n",
    "import math\n",
    "import matplotlib.pyplot as plt\n",
    "import astropy.constants as _ac\n",
    "import astropy.units as _au\n",
    "from numpy import pi\n",
    "from scipy import optimize"
   ]
  },
  {
   "cell_type": "code",
   "execution_count": 2,
   "id": "94dc6535",
   "metadata": {},
   "outputs": [],
   "source": [
    "###importing constants\n",
    "\n",
    "# solar mass, radius, luminosity\n",
    "Msun = _ac.M_sun.value\n",
    "Rsun = _ac.R_sun.value\n",
    "Lsun = _ac.L_sun.value\n",
    "\n",
    "# physical constants from astropy, all in MKS units\n",
    "G = _ac.G.value\n",
    "h = _ac.h.value\n",
    "hbar = _ac.hbar.value\n",
    "m_e = _ac.m_e.value\n",
    "m_p = _ac.m_p.value\n",
    "m_n = _ac.m_n.value\n",
    "m_u = _ac.u.value\n",
    "c = _ac.c.value\n",
    "kB = _ac.k_B.value\n",
    "pc = _ac.pc.value\n",
    "au = _ac.au.value\n",
    "year = _au.year.to(_au.second)\n",
    "sigmaSB = _ac.sigma_sb.value\n",
    "\n",
    "# other constants\n",
    "mue = 2\n",
    "K = ((1/5)*((3/(8*pi))**(2/3))*(h**2/(m_e*(mue*m_u)**(5/3))))"
   ]
  },
  {
   "cell_type": "code",
   "execution_count": 3,
   "id": "56fc81ef",
   "metadata": {},
   "outputs": [],
   "source": [
    "from bits_n_pieces import *"
   ]
  },
  {
   "cell_type": "markdown",
   "id": "78a74b66",
   "metadata": {},
   "source": [
    "### stuff from project 2 that someone needs probably"
   ]
  },
  {
   "cell_type": "code",
   "execution_count": 4,
   "id": "fd02fb76",
   "metadata": {},
   "outputs": [],
   "source": [
    "def stellar_derivatives(m,z,mue):\n",
    "    \"\"\"\n",
    "    RHS of Lagrangian differential equations for radius and pressure\n",
    "    \n",
    "    Arguments\n",
    "        m\n",
    "            current value of the mass\n",
    "        z (array)\n",
    "            current values of (radius,pressure)\n",
    "        mue\n",
    "            ratio, nucleons to electrons. For a carbon-oxygen white dwarf, mue = 2.\n",
    "        \n",
    "    Returns\n",
    "        dzdm (array)\n",
    "            Lagrangian derivatives dr/dm, dP/dm\n",
    "    \"\"\"\n",
    "    \n",
    "    dzdm = np.zeros_like(z)\n",
    "    \n",
    "    dzdm[0] = (4*pi*(z[0]**2)*density(z[1],mue))**(-1)\n",
    "    dzdm[1] = (-G*m)/(4*pi*(z[0]**4))\n",
    "    \n",
    "    return dzdm"
   ]
  },
  {
   "cell_type": "code",
   "execution_count": 5,
   "id": "decd6d7b",
   "metadata": {},
   "outputs": [],
   "source": [
    "def central_values(Pc,delta_m,mue):\n",
    "    \"\"\"\n",
    "    Constructs the boundary conditions at the edge of a small, constant density \n",
    "    core of mass delta_m with central pressure Pc\n",
    "    \n",
    "    Arguments\n",
    "        Pc\n",
    "            central pressure (units = ?)\n",
    "        delta_m\n",
    "            core mass (units = ?)\n",
    "        mue\n",
    "            nucleon/electron ratio\n",
    "    \n",
    "    Returns\n",
    "        z = array([ r, p ])\n",
    "            central value of radius and pressure (units = ?)\n",
    "    \"\"\"\n",
    "    z = np.zeros(2)\n",
    "    \n",
    "    z[0] = ((3*delta_m)/(4 * np.pi * density(Pc, mue)))**(1/3)\n",
    "    z[1] = Pc   \n",
    "    return z"
   ]
  },
  {
   "cell_type": "code",
   "execution_count": 6,
   "id": "a9a1f582",
   "metadata": {},
   "outputs": [],
   "source": [
    "def lengthscales(m,z,mue,eps_nuc,luminosity):\n",
    "    \"\"\"\n",
    "    Computes the radial length scale H_r and the pressure length H_P\n",
    "    \n",
    "    Arguments\n",
    "        m\n",
    "            current mass coordinate (units = kg)\n",
    "        z (array)\n",
    "           [ r, p ] (units = [ m, Pa ])\n",
    "        mue\n",
    "            mean electron weight\n",
    "    \n",
    "    Returns\n",
    "        z/|dzdm| (units = [ m^6/kg, 1/s^4 ])\n",
    "    \"\"\"    \n",
    "    \n",
    "    radius = z[0]\n",
    "    pressure = z[1]\n",
    "    rho = density(pressure, mue)\n",
    "    H_r = 4 * np.pi * (radius**3) * rho\n",
    "    H_p = (4 * np.pi * (radius**4) * pressure) / (G * m) \n",
    "    H_l = luminosity / eps_nuc\n",
    "    \n",
    "    out = [H_r, H_p, H_l]\n",
    "    \n",
    "    out = np.asarray(out)\n",
    "    \n",
    "    return out"
   ]
  },
  {
   "cell_type": "code",
   "execution_count": 7,
   "id": "8c36e16f",
   "metadata": {},
   "outputs": [],
   "source": [
    "def integrate(Pc,delta_m,eta,xi,mue,max_steps=10000):\n",
    "    \"\"\"\n",
    "    Integrates the scaled stellar structure equations\n",
    "\n",
    "    Arguments\n",
    "        Pc\n",
    "            central pressure (units = ?)\n",
    "        delta_m\n",
    "            initial offset from center (units = ?)\n",
    "        eta\n",
    "            The integration stops when P < eta * Pc\n",
    "        xi\n",
    "            The stepsize is set to be xi*min(p/|dp/dm|, r/|dr/dm|)\n",
    "        mue\n",
    "            mean electron mass\n",
    "        max_steps\n",
    "            solver will quit and throw error if this more than max_steps are \n",
    "            required (default is 10000)\n",
    "                        \n",
    "    Returns\n",
    "        m_step, r_step, p_step\n",
    "            arrays containing mass coordinates, radii and pressures during \n",
    "            integration (what are the units?)\n",
    "    \"\"\"\n",
    "        \n",
    "    m_step = np.zeros(max_steps)\n",
    "    r_step = np.zeros(max_steps)\n",
    "    p_step = np.zeros(max_steps)\n",
    "  \n",
    "    # set starting conditions using central values\n",
    "    temp = delta_m\n",
    "    z = central_values(Pc, delta_m, mue)\n",
    "    Nsteps = 0\n",
    "    \n",
    "    for step in range(max_steps):\n",
    "        radius = z[0]\n",
    "        pressure = z[1]\n",
    "        \n",
    "        # are we at the surface?\n",
    "        if (pressure < eta*Pc):\n",
    "            break\n",
    "            \n",
    "        # store the step\n",
    "        m_step[step] = temp\n",
    "        r_step[step] = radius\n",
    "        p_step[step] = pressure\n",
    "        \n",
    "        # set the stepsize\n",
    "        h = xi*min(lengthscales(m_step[step], z, mue,eps_nuc,luminosity))\n",
    "\n",
    "        # take a step\n",
    "        z = rk4(stellar_derivatives,temp,z,h,args=(mue))\n",
    "        temp += h\n",
    "        # increment the counter\n",
    "        Nsteps += 1\n",
    "    # if the loop runs to max_steps, then signal an error\n",
    "    else:\n",
    "        raise Exception('too many iterations')\n",
    "        \n",
    "    return m_step[0:Nsteps],r_step[0:Nsteps],p_step[0:Nsteps]"
   ]
  },
  {
   "cell_type": "markdown",
   "id": "f7225660",
   "metadata": {},
   "source": [
    "## 1)"
   ]
  },
  {
   "cell_type": "code",
   "execution_count": 8,
   "id": "11513217",
   "metadata": {},
   "outputs": [],
   "source": [
    "### these are identical to what we had before since we already had the proper number of sigfigs\n",
    "\n",
    "delta_m = 1e-4\n",
    "eta = 1e-20\n",
    "xi = 0.01"
   ]
  },
  {
   "cell_type": "code",
   "execution_count": 9,
   "id": "83a7789f",
   "metadata": {},
   "outputs": [],
   "source": [
    "# masses = np.arange(0.1, 1.1, 0.1)*Msun\n",
    "# pcs=[]\n",
    "# r_step_list=[]\n",
    " \n",
    "# def mass_diff(Pc, m_want, delta_m, eta, mue):\n",
    "#     m_step, r_step, p_step = integrate(Pc,delta_m,eta,xi,mue)\n",
    "#     diff = m_step[-1] - m_want\n",
    "#     return diff\n",
    "\n",
    "# for i in masses:\n",
    "#     out = optimize.bisect(mass_diff, a = 1e19, b = 1e23, xtol=1e-6, args = (i, delta_m, eta, mue))\n",
    "#     m_step, r_step, p_step = integrate(out,delta_m,eta,xi,mue)\n",
    "#     r_step_list.append(r_step[-1])\n",
    "#     pcs.append(out)"
   ]
  },
  {
   "cell_type": "code",
   "execution_count": 10,
   "id": "444418d8",
   "metadata": {},
   "outputs": [],
   "source": [
    "# pcs=np.asarray(pcs)\n",
    "# r_step_list = np.asarray(r_step_list)\n",
    "# solar_masses = masses / Msun\n",
    "# solar_radii = r_step_list / (Rsun*0.01)"
   ]
  },
  {
   "cell_type": "code",
   "execution_count": 11,
   "id": "ccc6a799",
   "metadata": {},
   "outputs": [],
   "source": [
    "# df = pd.DataFrame()\n",
    "\n",
    "# df[r'$\\frac{M}{M_{\\odot}}$'] = masses / Msun\n",
    "# df[r'$\\frac{R}{0.01R_{\\odot}}$'] = r_step_list / (Rsun*0.01)\n",
    "# df[r'$P_c (MKS)$'] = pcs\n",
    "# df[r'$\\frac{P_c}{(GM^2R^{-4})}$'] = pcs / (G * (masses**2) * (r_step_list**(-4)))\n",
    "# df[r'$\\rho (MKS)$'] = density(pcs,mue)\n",
    "# df[r'$\\frac{\\rho_{c}}{[\\frac{3M}{4\\pi R^3}]}$'] = density(pcs,mue)/((3 * masses) / (4 * np.pi * (r_step_list**3)))\n",
    "\n",
    "# df"
   ]
  },
  {
   "cell_type": "markdown",
   "id": "5877d327",
   "metadata": {},
   "source": [
    "### Testing K values"
   ]
  },
  {
   "cell_type": "code",
   "execution_count": 12,
   "id": "5d7e9590",
   "metadata": {},
   "outputs": [],
   "source": [
    "K = (((1/5)*((3/(8*pi))**(2/3))*(h**2/(m_e*(mue*m_u)**(5/3)))))*2"
   ]
  },
  {
   "cell_type": "code",
   "execution_count": 13,
   "id": "c66e95b1",
   "metadata": {},
   "outputs": [
    {
     "ename": "NameError",
     "evalue": "name 'eps_nuc' is not defined",
     "output_type": "error",
     "traceback": [
      "\u001b[1;31m---------------------------------------------------------------------------\u001b[0m",
      "\u001b[1;31mNameError\u001b[0m                                 Traceback (most recent call last)",
      "Input \u001b[1;32mIn [13]\u001b[0m, in \u001b[0;36m<cell line: 10>\u001b[1;34m()\u001b[0m\n\u001b[0;32m      8\u001b[0m     \u001b[38;5;28;01mreturn\u001b[39;00m diff\n\u001b[0;32m     10\u001b[0m \u001b[38;5;28;01mfor\u001b[39;00m i \u001b[38;5;129;01min\u001b[39;00m masses:\n\u001b[1;32m---> 11\u001b[0m     out \u001b[38;5;241m=\u001b[39m \u001b[43moptimize\u001b[49m\u001b[38;5;241;43m.\u001b[39;49m\u001b[43mbrentq\u001b[49m\u001b[43m(\u001b[49m\u001b[43mmass_diff\u001b[49m\u001b[43m,\u001b[49m\u001b[43m \u001b[49m\u001b[43ma\u001b[49m\u001b[43m \u001b[49m\u001b[38;5;241;43m=\u001b[39;49m\u001b[43m \u001b[49m\u001b[38;5;241;43m1e19\u001b[39;49m\u001b[43m,\u001b[49m\u001b[43m \u001b[49m\u001b[43mb\u001b[49m\u001b[43m \u001b[49m\u001b[38;5;241;43m=\u001b[39;49m\u001b[43m \u001b[49m\u001b[38;5;241;43m1e23\u001b[39;49m\u001b[43m,\u001b[49m\u001b[43m \u001b[49m\u001b[43mxtol\u001b[49m\u001b[38;5;241;43m=\u001b[39;49m\u001b[38;5;241;43m1e-6\u001b[39;49m\u001b[43m,\u001b[49m\u001b[43m \u001b[49m\u001b[43margs\u001b[49m\u001b[43m \u001b[49m\u001b[38;5;241;43m=\u001b[39;49m\u001b[43m \u001b[49m\u001b[43m(\u001b[49m\u001b[43mi\u001b[49m\u001b[43m,\u001b[49m\u001b[43m \u001b[49m\u001b[43mdelta_m\u001b[49m\u001b[43m,\u001b[49m\u001b[43m \u001b[49m\u001b[43meta\u001b[49m\u001b[43m,\u001b[49m\u001b[43m \u001b[49m\u001b[43mmue\u001b[49m\u001b[43m)\u001b[49m\u001b[43m)\u001b[49m\n\u001b[0;32m     12\u001b[0m     m_step, r_step, p_step \u001b[38;5;241m=\u001b[39m integrate(out,delta_m,eta,xi,mue)\n\u001b[0;32m     13\u001b[0m     r_step_list\u001b[38;5;241m.\u001b[39mappend(r_step[\u001b[38;5;241m-\u001b[39m\u001b[38;5;241m1\u001b[39m])\n",
      "File \u001b[1;32m~\\anaconda3\\lib\\site-packages\\scipy\\optimize\\zeros.py:776\u001b[0m, in \u001b[0;36mbrentq\u001b[1;34m(f, a, b, args, xtol, rtol, maxiter, full_output, disp)\u001b[0m\n\u001b[0;32m    774\u001b[0m \u001b[38;5;28;01mif\u001b[39;00m rtol \u001b[38;5;241m<\u001b[39m _rtol:\n\u001b[0;32m    775\u001b[0m     \u001b[38;5;28;01mraise\u001b[39;00m \u001b[38;5;167;01mValueError\u001b[39;00m(\u001b[38;5;124m\"\u001b[39m\u001b[38;5;124mrtol too small (\u001b[39m\u001b[38;5;132;01m%g\u001b[39;00m\u001b[38;5;124m < \u001b[39m\u001b[38;5;132;01m%g\u001b[39;00m\u001b[38;5;124m)\u001b[39m\u001b[38;5;124m\"\u001b[39m \u001b[38;5;241m%\u001b[39m (rtol, _rtol))\n\u001b[1;32m--> 776\u001b[0m r \u001b[38;5;241m=\u001b[39m \u001b[43m_zeros\u001b[49m\u001b[38;5;241;43m.\u001b[39;49m\u001b[43m_brentq\u001b[49m\u001b[43m(\u001b[49m\u001b[43mf\u001b[49m\u001b[43m,\u001b[49m\u001b[43m \u001b[49m\u001b[43ma\u001b[49m\u001b[43m,\u001b[49m\u001b[43m \u001b[49m\u001b[43mb\u001b[49m\u001b[43m,\u001b[49m\u001b[43m \u001b[49m\u001b[43mxtol\u001b[49m\u001b[43m,\u001b[49m\u001b[43m \u001b[49m\u001b[43mrtol\u001b[49m\u001b[43m,\u001b[49m\u001b[43m \u001b[49m\u001b[43mmaxiter\u001b[49m\u001b[43m,\u001b[49m\u001b[43m \u001b[49m\u001b[43margs\u001b[49m\u001b[43m,\u001b[49m\u001b[43m \u001b[49m\u001b[43mfull_output\u001b[49m\u001b[43m,\u001b[49m\u001b[43m \u001b[49m\u001b[43mdisp\u001b[49m\u001b[43m)\u001b[49m\n\u001b[0;32m    777\u001b[0m \u001b[38;5;28;01mreturn\u001b[39;00m results_c(full_output, r)\n",
      "Input \u001b[1;32mIn [13]\u001b[0m, in \u001b[0;36mmass_diff\u001b[1;34m(Pc, m_want, delta_m, eta, mue)\u001b[0m\n\u001b[0;32m      5\u001b[0m \u001b[38;5;28;01mdef\u001b[39;00m \u001b[38;5;21mmass_diff\u001b[39m(Pc, m_want, delta_m, eta, mue):\n\u001b[1;32m----> 6\u001b[0m     m_step, r_step, p_step \u001b[38;5;241m=\u001b[39m \u001b[43mintegrate\u001b[49m\u001b[43m(\u001b[49m\u001b[43mPc\u001b[49m\u001b[43m,\u001b[49m\u001b[43mdelta_m\u001b[49m\u001b[43m,\u001b[49m\u001b[43meta\u001b[49m\u001b[43m,\u001b[49m\u001b[43mxi\u001b[49m\u001b[43m,\u001b[49m\u001b[43mmue\u001b[49m\u001b[43m)\u001b[49m\n\u001b[0;32m      7\u001b[0m     diff \u001b[38;5;241m=\u001b[39m m_step[\u001b[38;5;241m-\u001b[39m\u001b[38;5;241m1\u001b[39m] \u001b[38;5;241m-\u001b[39m m_want\n\u001b[0;32m      8\u001b[0m     \u001b[38;5;28;01mreturn\u001b[39;00m diff\n",
      "Input \u001b[1;32mIn [7]\u001b[0m, in \u001b[0;36mintegrate\u001b[1;34m(Pc, delta_m, eta, xi, mue, max_steps)\u001b[0m\n\u001b[0;32m     46\u001b[0m p_step[step] \u001b[38;5;241m=\u001b[39m pressure\n\u001b[0;32m     48\u001b[0m \u001b[38;5;66;03m# set the stepsize\u001b[39;00m\n\u001b[1;32m---> 49\u001b[0m h \u001b[38;5;241m=\u001b[39m xi\u001b[38;5;241m*\u001b[39m\u001b[38;5;28mmin\u001b[39m(lengthscales(m_step[step], z, mue,\u001b[43meps_nuc\u001b[49m,luminosity))\n\u001b[0;32m     51\u001b[0m \u001b[38;5;66;03m# take a step\u001b[39;00m\n\u001b[0;32m     52\u001b[0m z \u001b[38;5;241m=\u001b[39m rk4(stellar_derivatives,temp,z,h,args\u001b[38;5;241m=\u001b[39m(mue))\n",
      "\u001b[1;31mNameError\u001b[0m: name 'eps_nuc' is not defined"
     ]
    }
   ],
   "source": [
    "masses = np.arange(0.1, 1.1, 0.1)*Msun\n",
    "pcs=[]\n",
    "r_step_list=[]\n",
    " \n",
    "def mass_diff(Pc, m_want, delta_m, eta, mue):\n",
    "    m_step, r_step, p_step = integrate(Pc,delta_m,eta,xi,mue)\n",
    "    diff = m_step[-1] - m_want\n",
    "    return diff\n",
    "\n",
    "for i in masses:\n",
    "    out = optimize.brentq(mass_diff, a = 1e19, b = 1e23, xtol=1e-6, args = (i, delta_m, eta, mue))\n",
    "    m_step, r_step, p_step = integrate(out,delta_m,eta,xi,mue)\n",
    "    r_step_list.append(r_step[-1])\n",
    "    pcs.append(out)"
   ]
  },
  {
   "cell_type": "code",
   "execution_count": null,
   "id": "65bd824a",
   "metadata": {},
   "outputs": [],
   "source": [
    "pcs=np.asarray(pcs)\n",
    "r_step_list = np.asarray(r_step_list)\n",
    "solar_masses = masses / Msun\n",
    "solar_radii = r_step_list / (Rsun*0.01)"
   ]
  },
  {
   "cell_type": "code",
   "execution_count": null,
   "id": "c96cb83c",
   "metadata": {},
   "outputs": [],
   "source": [
    "df = pd.DataFrame()\n",
    "\n",
    "df[r'$\\frac{M}{M_{\\odot}}$'] = masses / Msun\n",
    "df[r'$\\frac{R}{0.01R_{\\odot}}$'] = r_step_list / (Rsun*0.01)\n",
    "df[r'$P_c (MKS)$'] = pcs\n",
    "df[r'$\\frac{P_c}{(GM^2R^{-4})}$'] = pcs / (G * (masses**2) * (r_step_list**(-4)))\n",
    "df[r'$\\rho (MKS)$'] = density(pcs,mue)\n",
    "df[r'$\\frac{\\rho_{c}}{[\\frac{3M}{4\\pi R^3}]}$'] = density(pcs,mue)/((3 * masses) / (4 * np.pi * (r_step_list**3)))\n",
    "\n",
    "df"
   ]
  },
  {
   "cell_type": "code",
   "execution_count": null,
   "id": "c1564d50",
   "metadata": {},
   "outputs": [],
   "source": [
    "# K = (((1/5)*((3/(8*pi))**(2/3))*(h**2/(m_e*(mue*m_u)**(5/3)))))*0.5"
   ]
  },
  {
   "cell_type": "code",
   "execution_count": null,
   "id": "734253fd",
   "metadata": {},
   "outputs": [],
   "source": [
    "# masses = np.arange(0.1, 1.1, 0.1)*Msun\n",
    "# pcs=[]\n",
    "# r_step_list=[]\n",
    " \n",
    "# def mass_diff(Pc, m_want, delta_m, eta, mue):\n",
    "#     m_step, r_step, p_step = integrate(Pc,delta_m,eta,xi,mue)\n",
    "#     diff = m_step[-1] - m_want\n",
    "#     return diff\n",
    "\n",
    "# for i in masses:\n",
    "#     out = optimize.bisect(mass_diff, a = 1e19, b = 1e23, xtol=1e-6, args = (i, delta_m, eta, mue))\n",
    "#     m_step, r_step, p_step = integrate(out,delta_m,eta,xi,mue)\n",
    "#     r_step_list.append(r_step[-1])\n",
    "#     pcs.append(out)"
   ]
  },
  {
   "cell_type": "code",
   "execution_count": null,
   "id": "53c477b1",
   "metadata": {},
   "outputs": [],
   "source": [
    "# pcs=np.asarray(pcs)\n",
    "# r_step_list = np.asarray(r_step_list)\n",
    "# solar_masses = masses / Msun\n",
    "# solar_radii = r_step_list / (Rsun*0.01)"
   ]
  },
  {
   "cell_type": "code",
   "execution_count": null,
   "id": "d0f6e424",
   "metadata": {},
   "outputs": [],
   "source": [
    "# df = pd.DataFrame()\n",
    "\n",
    "# df[r'$\\frac{M}{M_{\\odot}}$'] = masses / Msun\n",
    "# df[r'$\\frac{R}{0.01R_{\\odot}}$'] = r_step_list / (Rsun*0.01)\n",
    "# df[r'$P_c (MKS)$'] = pcs\n",
    "# df[r'$\\frac{P_c}{(GM^2R^{-4})}$'] = pcs / (G * (masses**2) * (r_step_list**(-4)))\n",
    "# df[r'$\\rho (MKS)$'] = density(pcs,mue)\n",
    "# df[r'$\\frac{\\rho_{c}}{[\\frac{3M}{4\\pi R^3}]}$'] = density(pcs,mue)/((3 * masses) / (4 * np.pi * (r_step_list**3)))\n",
    "\n",
    "# # df"
   ]
  },
  {
   "cell_type": "markdown",
   "id": "7d048b76",
   "metadata": {},
   "source": [
    "## 2)"
   ]
  },
  {
   "cell_type": "code",
   "execution_count": null,
   "id": "f13eff74",
   "metadata": {},
   "outputs": [],
   "source": [
    "def mean_molecular_weight(Z,A,X):\n",
    "    \"\"\"Computes the mean molecular weight for a fully ionized plasma with an \n",
    "    arbitrary mixture of species\n",
    "    \n",
    "    Arguments\n",
    "        Z, A, X (either scaler or array)\n",
    "            charge numbers, atomic numbers, and mass fractions\n",
    "            The mass fractions must sum to 1\n",
    "    \"\"\"\n",
    "    Zs = np.array(Z)\n",
    "    As = np.array(A)\n",
    "    Xs = np.array(X)\n",
    "    assert np.sum(Xs) == 1.0\n",
    "    \n",
    "    # compute value of mean molecular weight\n",
    "    mu_array = Xs * (Zs / As)\n",
    "    mu = np.sum(mu_array)\n",
    "    return mu"
   ]
  },
  {
   "cell_type": "markdown",
   "id": "12fd2fc0",
   "metadata": {},
   "source": [
    "## 3)"
   ]
  },
  {
   "cell_type": "code",
   "execution_count": null,
   "id": "b4a8dd1d",
   "metadata": {},
   "outputs": [],
   "source": [
    "def get_rho_and_T(P,P_c,rho_c,T_c):\n",
    "    \"\"\"\n",
    "    Compute density and temperature along an adiabat of index gamma given a \n",
    "    pressure and a reference point (central pressure, density, and temperature).\n",
    "    \n",
    "    Arguments\n",
    "        P (either scalar or array-like)\n",
    "            value of pressure\n",
    "    \n",
    "        P_c, rho_c, T_c\n",
    "            reference values; these values should be consistent with an ideal \n",
    "            gas EOS\n",
    "    \n",
    "    Returns\n",
    "        density, temperature\n",
    "    \"\"\"\n",
    "    gamma=5/3\n",
    "    # replace with computed values\n",
    "    rho = rho_c*(P/P_c)**(1/gamma)\n",
    "    T = T_c*(P/P_c)**(1-1/gamma)\n",
    "\n",
    "    return rho, T"
   ]
  },
  {
   "cell_type": "markdown",
   "id": "8462a7d4",
   "metadata": {},
   "source": [
    "## 5)"
   ]
  },
  {
   "cell_type": "code",
   "execution_count": null,
   "id": "cb31445e",
   "metadata": {},
   "outputs": [],
   "source": [
    "def central_thermal(m,r,mu):\n",
    "    \"\"\" \n",
    "    Computes the central pressure, density, and temperature from the polytropic\n",
    "    relations for n = 3/2.\n",
    "\n",
    "    Arguments\n",
    "        m\n",
    "            mass in solar units\n",
    "        r\n",
    "            radius is solar units\n",
    "        mu\n",
    "            mean molecular weight\n",
    "    Returns\n",
    "        Pc, rhoc, Tc\n",
    "            central pressure, density, and temperature in solar units\n",
    "    \"\"\"\n",
    "    \n",
    "    n = 3/2\n",
    "    \n",
    "    # virial\n",
    "    rhoc = (3/(4*np.pi))*(m/r**3)\n",
    "    Tc = 0.5*(Gm/r)*(mu*m_u/kB)\n",
    "    \n",
    "    # polytopic eos\n",
    "    Pc = K*rhoc**(1+(1/n))\n",
    "    \n",
    "    return Pc, rhoc, Tc"
   ]
  },
  {
   "cell_type": "code",
   "execution_count": null,
   "id": "62101133",
   "metadata": {},
   "outputs": [],
   "source": [
    "### testing\n",
    "\n",
    "from test_structure import test_central_thermal\n",
    "\n",
    "test_central_thermal()"
   ]
  }
 ],
 "metadata": {
  "kernelspec": {
   "display_name": "Python 3 (ipykernel)",
   "language": "python",
   "name": "python3"
  },
  "language_info": {
   "codemirror_mode": {
    "name": "ipython",
    "version": 3
   },
   "file_extension": ".py",
   "mimetype": "text/x-python",
   "name": "python",
   "nbconvert_exporter": "python",
   "pygments_lexer": "ipython3",
   "version": "3.9.12"
  }
 },
 "nbformat": 4,
 "nbformat_minor": 5
}
