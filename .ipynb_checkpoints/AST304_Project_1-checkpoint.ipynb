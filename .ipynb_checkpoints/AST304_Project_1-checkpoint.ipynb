{
 "cells": [
  {
   "cell_type": "markdown",
   "id": "fab2e4d0",
   "metadata": {},
   "source": [
    "## Keara Hayes, Atticus Chong, Zachary Malzahn, Evelyn Fuhrman"
   ]
  },
  {
   "cell_type": "code",
   "execution_count": 1,
   "id": "206cd86f",
   "metadata": {},
   "outputs": [],
   "source": [
    "import numpy as np\n",
    "from numpy.linalg import norm\n",
    "import math\n",
    "import matplotlib.pyplot as plt"
   ]
  },
  {
   "cell_type": "markdown",
   "id": "dbddb156",
   "metadata": {},
   "source": [
    "1) From ODE.py"
   ]
  },
  {
   "cell_type": "code",
   "execution_count": 2,
   "id": "485b0c26",
   "metadata": {},
   "outputs": [],
   "source": [
    "alpha = 4*np.pi**2"
   ]
  },
  {
   "cell_type": "code",
   "execution_count": 3,
   "id": "c84afd78",
   "metadata": {},
   "outputs": [],
   "source": [
    "def fEuler(f,t,z,h,args=()):\n",
    "    \"\"\"    \n",
    "    Arguments\n",
    "        f(t,z,...)\n",
    "            function that contains the RHS of the equation dz/dt = f(t,z,...)\n",
    "    \n",
    "        t (scalar)\n",
    "            current time\n",
    "            \n",
    "        z (array-like)\n",
    "            function value\n",
    "            \n",
    "        h (scalar)\n",
    "            step size\n",
    "    \n",
    "        args (tuple, optional)\n",
    "            additional arguments to pass to f\n",
    "    \n",
    "    Returns\n",
    "        znew = z(t+h)\n",
    "    \"\"\"\n",
    "    \n",
    "    # The following trick allows us to pass additional parameters to f\n",
    "    # first we make sure that args is of type tuple; if not, we make it into\n",
    "    # that form\n",
    "    if not isinstance(args,tuple):\n",
    "        args = (args,)\n",
    "    \n",
    "    # when we call f, we use *args to pass it as a list of parameters.\n",
    "    # for example, if elsewhere we define f like\n",
    "    # def f(t,z,x,y):\n",
    "    #    ...\n",
    "    # then we would call this routine as\n",
    "    # znew = fEuler(f,t,z,h,args=(x,y))\n",
    "    #\n",
    "    return z + h*f(t,z,*args)"
   ]
  },
  {
   "cell_type": "code",
   "execution_count": 4,
   "id": "9f9b77ad",
   "metadata": {},
   "outputs": [],
   "source": [
    "def rk2(f,t,z,h,args=()):\n",
    "    \"\"\"\n",
    "    <Description of routine goes here: what it does, how it's called>\n",
    "    \n",
    "    Arguments\n",
    "        f(t,z,...)\n",
    "            function that contains the RHS of the equation dz/dt = f(t,z,...)\n",
    "    \n",
    "        t (scalar)\n",
    "            final time (which we're iterating to)\n",
    "            \n",
    "        z (array-like)\n",
    "            function value\n",
    "            \n",
    "        h (scalar)\n",
    "            step size\n",
    "    \n",
    "        args (tuple, optional)\n",
    "            additional arguments to pass to f\n",
    "    \n",
    "    Returns\n",
    "        znew = z(t+h)\n",
    "    \"\"\"\n",
    "\n",
    "    if not isinstance(args,tuple):\n",
    "        args = (args,)\n",
    "    \n",
    "    \n",
    "    zp = z + (h/2)*f(t,z,*args)\n",
    "    \n",
    "    return z + h*f(t + h/2, zp, *args)"
   ]
  },
  {
   "cell_type": "code",
   "execution_count": 5,
   "id": "1f1b564b",
   "metadata": {},
   "outputs": [],
   "source": [
    "\n",
    "\n",
    "def rk4(f,t,z,h,args=()):\n",
    "    \"\"\"\n",
    "    <Description of routine goes here: what it does, how it's called>\n",
    "    \n",
    "    Arguments\n",
    "        f(t,z,...)\n",
    "            function that contains the RHS of the equation dz/dt = f(t,z,...)\n",
    "    \n",
    "        t (scalar)\n",
    "            final time (which we're iterating to)\n",
    "            \n",
    "        z (array-like)\n",
    "            function value\n",
    "            \n",
    "        h (scalar)\n",
    "            step size\n",
    "    \n",
    "        args (tuple, optional)\n",
    "            additional arguments to pass to f\n",
    "    \n",
    "    Returns\n",
    "        znew = z(t+h)\n",
    "    \"\"\"\n",
    "   \n",
    "    if not isinstance(args,tuple):\n",
    "        args = (args,)\n",
    "\n",
    "    k1 = f(t, z, *args)\n",
    "\n",
    "    k2 = f(t + h/2, z + (h/2)*k1, *args)\n",
    "\n",
    "    k3 = f(t + h/2, z + (h/2)*k2, *args)\n",
    "\n",
    "    k4 = f(t + h, z + h*k3, *args)\n",
    "    \n",
    "    return z + (h/6)*(k1 + 2*k2 + 2*k3 + k4)\n",
    "\n"
   ]
  },
  {
   "cell_type": "markdown",
   "id": "5dc7292c",
   "metadata": {},
   "source": [
    "2) from kepler.py"
   ]
  },
  {
   "cell_type": "code",
   "execution_count": 6,
   "id": "bf8a2a1f",
   "metadata": {
    "tags": []
   },
   "outputs": [],
   "source": [
    "# use this to identify methods\n",
    "integration_methods = {\n",
    "    'Euler':fEuler,\n",
    "    'RK2':rk2,\n",
    "    'RK4':rk4\n",
    "    }"
   ]
  },
  {
   "cell_type": "code",
   "execution_count": 7,
   "id": "86c7c86c",
   "metadata": {
    "tags": []
   },
   "outputs": [],
   "source": [
    "# energies\n",
    "def kinetic_energy(v):\n",
    "    \"\"\"\n",
    "    Returns kinetic energy per unit mass: KE(v) = 0.5 v*v.\n",
    "    \n",
    "    Arguments\n",
    "        v (array-like)\n",
    "            velocity vector\n",
    "    \"\"\"\n",
    "    return 0.5*np.linalg.norm(v)**2\n",
    "\n",
    "def potential_energy(r,m):\n",
    "    \"\"\"\n",
    "    Returns potential energy per unit mass: PE(x, m) = -m/norm(r)\n",
    "\n",
    "    Arguments\n",
    "        x (array-like)\n",
    "            position vector\n",
    "        m (scalar)\n",
    "            total mass in normalized units\n",
    "    \"\"\"\n",
    "    # the norm function returns the length of the vector\n",
    "#     r = norm(x)\n",
    "    return -m/np.linalg.norm(r)\n",
    "\n",
    "def total_energy(z,m):\n",
    "    \"\"\"\n",
    "    Returns energy per unit mass: E(z,m) = KE(v) + PE(x,m)\n",
    "\n",
    "    Arguments\n",
    "        x (array-like)\n",
    "            position array\n",
    "            \n",
    "        z (array-like)\n",
    "            function value\n",
    "            \n",
    "        m (scalar)\n",
    "            total mass in normalized units\n",
    "    \"\"\"\n",
    "    # to break z into position, velocity vectors, we use array slices:\n",
    "    # here z[n:m] means take elements of z with indices n <= j < m\n",
    "    r = z[0:2]  # start with index 0 and take two indices: 0 and 1\n",
    "    v = z[2:4]  # start with index 2 and take two indices: 2 and 3\n",
    "\n",
    "    # replace the following two lines\n",
    "    return kinetic_energy(v) + potential_energy(r,m)"
   ]
  },
  {
   "cell_type": "code",
   "execution_count": 8,
   "id": "471712f1",
   "metadata": {
    "tags": []
   },
   "outputs": [],
   "source": [
    "def derivs(t,z,m):\n",
    "    \"\"\"\n",
    "    Computes derivatives of position and velocity for Kepler's problem \n",
    "    \n",
    "    Arguments\n",
    "        t (scalar)\n",
    "            final time (which we're iterating to)\n",
    "            \n",
    "        z (array-like)\n",
    "            function value at supplied t, z, etc\n",
    "            \n",
    "        m (scalar)\n",
    "            total mass in normalized units\n",
    "            \n",
    "    Returns\n",
    "        numpy array dzdt with components [ dx/dt, dy/dt, dv_x/dt, dv_y/dt ]\n",
    "    \"\"\"\n",
    "\n",
    "    r = z[0:2]\n",
    "    v = z[2:4]\n",
    "    rabs = np.linalg.norm(r)\n",
    "\n",
    "    drdt = v\n",
    "    \n",
    "    # scaled to the solar system\n",
    "    dvdt = -2*np.pi*m*r/(rabs**3)\n",
    "    \n",
    "    # join the arrays\n",
    "    dzdt = np.concatenate((drdt,dvdt))\n",
    "    return dzdt"
   ]
  },
  {
   "cell_type": "markdown",
   "id": "50beb051",
   "metadata": {},
   "source": [
    "3)"
   ]
  },
  {
   "cell_type": "code",
   "execution_count": 9,
   "id": "0e567468",
   "metadata": {
    "tags": []
   },
   "outputs": [],
   "source": [
    "def integrate_orbit(z0,m,tend,h,method='RK4'):\n",
    "    \"\"\"\n",
    "    Integrates orbit starting from an initial position and velocity from t = 0 \n",
    "    to t = tend.\n",
    "    \n",
    "    Arguments:\n",
    "        z0 (scalar)\n",
    "            initial function value\n",
    "        m (scalar)\n",
    "            mass of star\n",
    "    \n",
    "        tend (scalar)\n",
    "            final timestep\n",
    "    \n",
    "        h (scalar)\n",
    "            incrementing stepsize\n",
    "    \n",
    "        method ('Euler', 'RK2', or 'RK4')\n",
    "            identifies which stepper routine to use (default: 'RK4')\n",
    "    Returns\n",
    "        ts, Xs, Ys, KEs, PEs, TEs := arrays of time, x postions, y positions, \n",
    "        and energies (kin., pot., total) \n",
    "    \"\"\"\n",
    "\n",
    "    # set the initial time and phase space array\n",
    "    t = 0.0\n",
    "    z = z0\n",
    "\n",
    "    # expected number of steps\n",
    "    Nsteps = int(tend/h)+1\n",
    "\n",
    "    # arrays holding t, x, y, kinetic energy, potential energy, and total energy\n",
    "    ts = np.zeros(Nsteps) # time\n",
    "    Xs = np.zeros(Nsteps) # x-axis position\n",
    "    Ys = np.zeros(Nsteps) # y-axis position\n",
    "    KEs = np.zeros(Nsteps) # kinetic energy\n",
    "    PEs = np.zeros(Nsteps) # potential energy\n",
    "    TEs = np.zeros(Nsteps) # total energy\n",
    "\n",
    "    # store the initial point\n",
    "    ts[0] = t\n",
    "    Xs[0] = z[0]\n",
    "    Ys[0] = z[1]\n",
    "    KEs[0]=(1/2)*m*np.linalg.norm(z[2:4])**2\n",
    "    PEs[0]=-m/np.linalg.norm(z[0:2])\n",
    "    TEs[0]=KEs[0]+PEs[0]\n",
    "\n",
    "    # select the stepping method\n",
    "    advance_one_step = integration_methods[method]\n",
    "    # run through the steps\n",
    "\n",
    "    for step in range(1,Nsteps):\n",
    "        z = advance_one_step(derivs,t,z,h,args=m)\n",
    "        t += h\n",
    "        # store values\n",
    "        ts[step] = t\n",
    "        dzdt = derivs(t,z,m)\n",
    "        v = dzdt[0:2]  # define velocity at this step\n",
    "        acc = dzdt[2:4] # define acceleration at this step\n",
    "        # fill in with assignments for Xs, Ys, KEs, PEs, TEs\n",
    "        Xs[step] = z[0]\n",
    "        Ys[step] = z[1]\n",
    "        KEs[step] = kinetic_energy(v)\n",
    "        PEs[step] = potential_energy(z[0:2],m)\n",
    "        TEs[step] = total_energy(z,m)\n",
    "    return ts, Xs, Ys, KEs, PEs, TEs\n",
    "    \n",
    "def set_initial_conditions(a, m, e):\n",
    "    \"\"\"\n",
    "    set the initial conditions for the orbit.  The orientation of the orbit is \n",
    "    chosen so that y0 = 0.0 and vx0 = 0.0.\n",
    "    \n",
    "    Arguments\n",
    "        a (scalar)\n",
    "            semi-major axis in AU\n",
    "        m (scalar)\n",
    "            total mass in Msun\n",
    "        e (scalar)\n",
    "            eccentricity ( x0 = (1+e)*a )\n",
    "    \n",
    "    Returns:\n",
    "    [x0, y0, vx0, vy0], eps0, Tperiod := initial position and velocity, energy, \n",
    "        and period\n",
    "    \"\"\"\n",
    "    eps0=((a/m)*2)**-1\n",
    "    T=(np.pi/math.sqrt(2))*m*(eps0**(-3/2))\n",
    "    x0=(1+e)*a\n",
    "    y0=0\n",
    "    vx0=0\n",
    "    vy0=math.sqrt(2*eps0+2*m/x0)\n",
    "    r_init=np.array([x0,y0])\n",
    "    v_init=np.array([vx0,vy0])\n",
    "    z_init=np.append(r_init,v_init)\n",
    "    return z_init,eps0,T"
   ]
  },
  {
   "cell_type": "markdown",
   "id": "af8065fa-4f21-44b2-b4be-f476abeebe12",
   "metadata": {},
   "source": [
    "4) $$\\hphantom{0}$$"
   ]
  },
  {
   "cell_type": "code",
   "execution_count": 10,
   "id": "7a5868f6-f9eb-4dfa-bfc8-e158d1154721",
   "metadata": {},
   "outputs": [],
   "source": [
    "z_init,eps0,T=set_initial_conditions(1,1,0.5)\n",
    "h_0=0.1*T\n",
    "h_arr=h_0/2**np.arange(0,11)\n",
    "\n",
    "output_list=[]\n",
    "\n",
    "for i,h in enumerate(h_arr):\n",
    "    output_list.append(integrate_orbit(z_init, 1, tend = 3*T, h = h, method = 'RK4'))\n",
    "    #ts, Xs, Ys, KEs, PEs, TEs\n",
    "#     (z0,m,tend,h,method='RK4')"
   ]
  },
  {
   "cell_type": "code",
   "execution_count": 11,
   "id": "c5cbeba0-568a-4ae4-a4b6-ff2d1a3c9afc",
   "metadata": {},
   "outputs": [],
   "source": [
    "e_err=[]\n",
    "for i in range(11):   \n",
    "    e_err.append(output_list[i][5][-1]/output_list[i][5][0])"
   ]
  },
  {
   "cell_type": "code",
   "execution_count": 12,
   "id": "39ed2644-38f4-4e42-b3f4-8ba6277c0701",
   "metadata": {},
   "outputs": [
    {
     "data": {
      "text/plain": [
       "[2.296651065519866,\n",
       " 38.85132704170498,\n",
       " 34.11767229875713,\n",
       " 1.9041893307162998,\n",
       " 1.2053790789231609,\n",
       " 1.1912322163433107,\n",
       " 1.1908043018043637,\n",
       " 1.1907915854141784,\n",
       " 1.1907912299553736,\n",
       " 1.190791221476005,\n",
       " 1.1907912213747271]"
      ]
     },
     "execution_count": 12,
     "metadata": {},
     "output_type": "execute_result"
    }
   ],
   "source": [
    "e_err"
   ]
  },
  {
   "cell_type": "code",
   "execution_count": 13,
   "id": "6fb029a4-f7ac-4f41-992c-4f7428135402",
   "metadata": {},
   "outputs": [
    {
     "data": {
      "text/plain": [
       "[<matplotlib.lines.Line2D at 0x2361f4eefd0>]"
      ]
     },
     "execution_count": 13,
     "metadata": {},
     "output_type": "execute_result"
    },
    {
     "data": {
      "image/png": "[encoded data removed]",
      "text/plain": [
       "<Figure size 432x288 with 1 Axes>"
      ]
     },
     "metadata": {
      "needs_background": "light"
     },
     "output_type": "display_data"
    }
   ],
   "source": [
    "plt.plot(output_list[10][1],output_list[10][2])"
   ]
  },
  {
   "cell_type": "code",
   "execution_count": 19,
   "id": "4ed45cc7-fd8f-48d3-aecd-9c5c03843462",
   "metadata": {},
   "outputs": [
    {
     "data": {
      "text/plain": [
       "[<matplotlib.lines.Line2D at 0x23620ec2a60>]"
      ]
     },
     "execution_count": 19,
     "metadata": {},
     "output_type": "execute_result"
    },
    {
     "data": {
      "image/png": "[encoded data removed]",
      "text/plain": [
       "<Figure size 432x288 with 1 Axes>"
      ]
     },
     "metadata": {
      "needs_background": "light"
     },
     "output_type": "display_data"
    }
   ],
   "source": [
    "plt.plot(output_list[10][0],output_list[10][5])"
   ]
  },
  {
   "cell_type": "markdown",
   "id": "fc98463e",
   "metadata": {},
   "source": [
    "5)"
   ]
  },
  {
   "cell_type": "code",
   "execution_count": 15,
   "id": "77d3f140",
   "metadata": {},
   "outputs": [
    {
     "ename": "NameError",
     "evalue": "name 'axis' is not defined",
     "output_type": "error",
     "traceback": [
      "\u001b[1;31m---------------------------------------------------------------------------\u001b[0m",
      "\u001b[1;31mNameError\u001b[0m                                 Traceback (most recent call last)",
      "\u001b[1;32m~\\AppData\\Local\\Temp/ipykernel_22148/3432133518.py\u001b[0m in \u001b[0;36m<module>\u001b[1;34m\u001b[0m\n\u001b[1;32m----> 1\u001b[1;33m \u001b[0maxis\u001b[0m\u001b[1;33m[\u001b[0m\u001b[1;36m0\u001b[0m\u001b[1;33m,\u001b[0m\u001b[1;36m0\u001b[0m\u001b[1;33m]\u001b[0m\u001b[1;33m.\u001b[0m\u001b[0mplot\u001b[0m\u001b[1;33m(\u001b[0m\u001b[0mx00\u001b[0m\u001b[1;33m,\u001b[0m\u001b[0my00\u001b[0m\u001b[1;33m)\u001b[0m\u001b[1;33m\u001b[0m\u001b[1;33m\u001b[0m\u001b[0m\n\u001b[0m\u001b[0;32m      2\u001b[0m \u001b[0maxis\u001b[0m\u001b[1;33m[\u001b[0m\u001b[1;36m0\u001b[0m\u001b[1;33m,\u001b[0m\u001b[1;36m0\u001b[0m\u001b[1;33m]\u001b[0m\u001b[1;33m.\u001b[0m\u001b[0mset_title\u001b[0m\u001b[1;33m(\u001b[0m\u001b[1;34m\"Trajectory Found with Forward Euler (Smallest h Value)\"\u001b[0m\u001b[1;33m)\u001b[0m\u001b[1;33m\u001b[0m\u001b[1;33m\u001b[0m\u001b[0m\n\u001b[0;32m      3\u001b[0m \u001b[1;33m\u001b[0m\u001b[0m\n\u001b[0;32m      4\u001b[0m \u001b[0maxis\u001b[0m\u001b[1;33m[\u001b[0m\u001b[1;36m1\u001b[0m\u001b[1;33m,\u001b[0m\u001b[1;36m0\u001b[0m\u001b[1;33m]\u001b[0m\u001b[1;33m.\u001b[0m\u001b[0mplot\u001b[0m\u001b[1;33m(\u001b[0m\u001b[0mx10\u001b[0m\u001b[1;33m,\u001b[0m\u001b[0my10\u001b[0m\u001b[1;33m)\u001b[0m\u001b[1;33m\u001b[0m\u001b[1;33m\u001b[0m\u001b[0m\n\u001b[0;32m      5\u001b[0m \u001b[0maxis\u001b[0m\u001b[1;33m[\u001b[0m\u001b[1;36m1\u001b[0m\u001b[1;33m,\u001b[0m\u001b[1;36m0\u001b[0m\u001b[1;33m]\u001b[0m\u001b[1;33m.\u001b[0m\u001b[0mset_title\u001b[0m\u001b[1;33m(\u001b[0m\u001b[1;34m\"Trajectory Found with Second-Order Runge-Kutta (Smallest h Value)\"\u001b[0m\u001b[1;33m)\u001b[0m\u001b[1;33m\u001b[0m\u001b[1;33m\u001b[0m\u001b[0m\n",
      "\u001b[1;31mNameError\u001b[0m: name 'axis' is not defined"
     ]
    }
   ],
   "source": [
    "axis[0,0].plot(x00,y00)\n",
    "axis[0,0].set_title(\"Trajectory Found with Forward Euler (Smallest h Value)\")\n",
    "\n",
    "axis[1,0].plot(x10,y10)\n",
    "axis[1,0].set_title(\"Trajectory Found with Second-Order Runge-Kutta (Smallest h Value)\")\n",
    "\n",
    "axis[2,0].plot(x20,y20)\n",
    "axis[2,0].set_title(\"Trajectory Found with Fourth-Order Runge-Kutta (Smallest h Value)\")\n",
    "\n",
    "axis[0,1].plot(x01,y1)\n",
    "axis[0,1].set_title(\"Trajectory Found with Forward Euler (Largest h Value)\")\n",
    "\n",
    "axis[1,1].plot(x2,y2)\n",
    "axis[1,1].set_title(\"Trajectory Found with Second-Order Runge-Kutta (Largest h Value)\")\n",
    "\n",
    "axis[2,2].plot(x3,y3)\n",
    "axis[2,2].set_title(\"Trajectory Found with Fourth-Order Runge-Kutta (Largest h Value)\")"
   ]
  },
  {
   "cell_type": "code",
   "execution_count": null,
   "id": "3f4de172",
   "metadata": {},
   "outputs": [],
   "source": [
    "def energy_plot(KE, PE, t):\n",
    "    \n",
    "    \"\"\"\n",
    "    Creates  energy of the orbiting particle.\n",
    "    \n",
    "    Arguments\n",
    "        KE (array-like)\n",
    "            Kinetic energy of the particle.\n",
    "        PE (array-like)\n",
    "            Potential energy of the particle.\n",
    "        t (array-like)\n",
    "            Time\n",
    "        \n",
    "    Returns\n",
    "        Single plot of kinetic, potential, and total energies of the particle.\n",
    "    \n",
    "    \"\"\"\n",
    "    E = KE + PE\n",
    "    \n",
    "    plt.plot(KE,t)\n",
    "    plt.plot(PE,t)\n",
    "    plt.plot(E, t)\n",
    "    plt.legend(\"Kinetic Energy\", \"Potential Energy\", 'Total Energy')\n",
    "    plt.show()"
   ]
  }
 ],
 "metadata": {
  "kernelspec": {
   "display_name": "Python 3 (ipykernel)",
   "language": "python",
   "name": "python3"
  },
  "language_info": {
   "codemirror_mode": {
    "name": "ipython",
    "version": 3
   },
   "file_extension": ".py",
   "mimetype": "text/x-python",
   "name": "python",
   "nbconvert_exporter": "python",
   "pygments_lexer": "ipython3",
   "version": "3.8.12"
  }
 },
 "nbformat": 4,
 "nbformat_minor": 5
}
