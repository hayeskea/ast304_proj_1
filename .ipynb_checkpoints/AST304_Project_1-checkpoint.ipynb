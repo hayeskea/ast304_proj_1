{
 "cells": [
  {
   "cell_type": "markdown",
   "id": "fab2e4d0",
   "metadata": {},
   "source": [
    "## Project 1\n",
    "Keara Hayes, Atticus Chong, Zachary Malzahn, Evelyn Fuhrman"
   ]
  },
  {
   "cell_type": "code",
   "execution_count": 1,
   "id": "206cd86f",
   "metadata": {},
   "outputs": [],
   "source": [
    "import numpy as np\n",
    "from numpy.linalg import norm\n",
    "import math\n",
    "import matplotlib.pyplot as plt"
   ]
  },
  {
   "cell_type": "markdown",
   "id": "dbddb156",
   "metadata": {},
   "source": [
    "# 1) "
   ]
  },
  {
   "cell_type": "markdown",
   "id": "f2e5ba81",
   "metadata": {},
   "source": [
    "Pulling from ode.py, we complete routines for Euler, RK2, and RK4:"
   ]
  },
  {
   "cell_type": "code",
   "execution_count": 2,
   "id": "c84afd78",
   "metadata": {},
   "outputs": [],
   "source": [
    "def fEuler(f,t,z,h,args=()):\n",
    "    \"\"\"    \n",
    "    Arguments\n",
    "        f(t,z,...)\n",
    "            function that contains the RHS of the equation dz/dt = f(t,z,...)\n",
    "    \n",
    "        t (scalar)\n",
    "            current time\n",
    "            \n",
    "        z (array-like)\n",
    "            function value\n",
    "            \n",
    "        h (scalar)\n",
    "            step size\n",
    "    \n",
    "        args (tuple, optional)\n",
    "            additional arguments to pass to f\n",
    "    \n",
    "    Returns\n",
    "        znew = z(t+h)\n",
    "    \"\"\"\n",
    "    \n",
    "    # The following trick allows us to pass additional parameters to f\n",
    "    # first we make sure that args is of type tuple; if not, we make it into\n",
    "    # that form\n",
    "    if not isinstance(args,tuple):\n",
    "        args = (args,)\n",
    "    \n",
    "    # when we call f, we use *args to pass it as a list of parameters.\n",
    "    # for example, if elsewhere we define f like\n",
    "    # def f(t,z,x,y):\n",
    "    #    ...\n",
    "    # then we would call this routine as\n",
    "    # znew = fEuler(f,t,z,h,args=(x,y))\n",
    "    #\n",
    "    return z + h*f(t,z,*args)"
   ]
  },
  {
   "cell_type": "code",
   "execution_count": 3,
   "id": "9f9b77ad",
   "metadata": {},
   "outputs": [],
   "source": [
    "def rk2(f,t,z,h,args=()):\n",
    "    \"\"\"    \n",
    "    Arguments\n",
    "        f(t,z,...)\n",
    "            function that contains the RHS of the equation dz/dt = f(t,z,...)\n",
    "    \n",
    "        t (scalar)\n",
    "            final time (which we're iterating to)\n",
    "            \n",
    "        z (array-like)\n",
    "            function value\n",
    "            \n",
    "        h (scalar)\n",
    "            step size\n",
    "    \n",
    "        args (tuple, optional)\n",
    "            additional arguments to pass to f\n",
    "    \n",
    "    Returns\n",
    "        znew = z(t+h)\n",
    "    \"\"\"\n",
    "\n",
    "    if not isinstance(args,tuple):\n",
    "        args = (args,)\n",
    "    \n",
    "    zp = z + (h/2)*f(t,z,*args)\n",
    "    \n",
    "    znew = z + h*f((t + h/2), zp, *args)\n",
    "    \n",
    "    return znew"
   ]
  },
  {
   "cell_type": "code",
   "execution_count": 4,
   "id": "1f1b564b",
   "metadata": {},
   "outputs": [],
   "source": [
    "def rk4(f,t,z,h,args=()):\n",
    "    \"\"\"    \n",
    "    Arguments\n",
    "        f(t,z,...)\n",
    "            function that contains the RHS of the equation dz/dt = f(t,z,...)\n",
    "    \n",
    "        t (scalar)\n",
    "            final time (which we're iterating to)\n",
    "            \n",
    "        z (array-like)\n",
    "            function value\n",
    "            \n",
    "        h (scalar)\n",
    "            step size\n",
    "    \n",
    "        args (tuple, optional)\n",
    "            additional arguments to pass to f\n",
    "    \n",
    "    Returns\n",
    "        znew = z(t+h)\n",
    "    \"\"\"\n",
    "   \n",
    "    if not isinstance(args,tuple):\n",
    "        args = (args,)\n",
    "\n",
    "    k1 = f(t, z, *args)\n",
    "\n",
    "    k2 = f(t + h/2, z + (h/2)*k1, *args)\n",
    "\n",
    "    k3 = f(t + h/2, z + (h/2)*k2, *args)\n",
    "\n",
    "    k4 = f(t + h, z + h*k3, *args)\n",
    "    \n",
    "    return z + (h/6)*(k1 + 2*k2 + 2*k3 + k4)"
   ]
  },
  {
   "cell_type": "code",
   "execution_count": 5,
   "id": "3d35107a",
   "metadata": {},
   "outputs": [],
   "source": [
    "integration_methods = {\n",
    "        'Euler': fEuler,\n",
    "        'RK2': rk2,\n",
    "        'RK4': rk4\n",
    "        }"
   ]
  },
  {
   "cell_type": "markdown",
   "id": "c555590a",
   "metadata": {},
   "source": [
    "Testing our routines using the provided test code. The results do match the sample output."
   ]
  },
  {
   "cell_type": "code",
   "execution_count": 6,
   "id": "5843052c",
   "metadata": {},
   "outputs": [
    {
     "name": "stdout",
     "output_type": "stream",
     "text": [
      "\n",
      "====================Forward Euler====================\n",
      "integrating from t = 0.0 to t = 2.0 with 200 steps; h = 0.010\n",
      "\n",
      " step      t        z0     s0  |z0-s0|        z1     s1  |z1-s1|\n",
      "    5  0.050     0.312  0.309 2.66e-03     0.961  0.951 9.54e-03\n",
      "   10  0.100     0.599  0.588 1.10e-02     0.826  0.809 1.66e-02\n",
      "   15  0.150     0.833  0.809 2.35e-02     0.606  0.588 1.87e-02\n",
      "   20  0.200     0.989  0.951 3.77e-02     0.323  0.309 1.41e-02\n",
      "   25  0.250     1.050  1.000 5.05e-02     0.002 -0.000 2.17e-03\n",
      "   30  0.300     1.010  0.951 5.87e-02    -0.325 -0.309 1.63e-02\n",
      "   35  0.350     0.869  0.809 5.96e-02    -0.627 -0.588 3.95e-02\n",
      "   40  0.400     0.639  0.588 5.11e-02    -0.873 -0.809 6.42e-02\n",
      "   45  0.450     0.342  0.309 3.25e-02    -1.038 -0.951 8.69e-02\n",
      "   50  0.500     0.005 -0.000 4.55e-03    -1.104 -1.000 1.04e-01\n",
      "   55  0.550    -0.340 -0.309 3.06e-02    -1.061 -0.951 1.10e-01\n",
      "   60  0.600    -0.657 -0.588 6.92e-02    -0.914 -0.809 1.05e-01\n",
      "   65  0.650    -0.916 -0.809 1.07e-01    -0.673 -0.588 8.52e-02\n",
      "   70  0.700    -1.090 -0.951 1.39e-01    -0.361 -0.309 5.20e-02\n",
      "   75  0.750    -1.159 -1.000 1.59e-01    -0.007  0.000 7.17e-03\n",
      "   80  0.800    -1.116 -0.951 1.65e-01     0.354  0.309 4.54e-02\n",
      "   85  0.850    -0.961 -0.809 1.52e-01     0.688  0.588 1.00e-01\n",
      "   90  0.900    -0.709 -0.588 1.21e-01     0.961  0.809 1.52e-01\n",
      "   95  0.950    -0.382 -0.309 7.26e-02     1.144  0.951 1.93e-01\n",
      "  100  1.000    -0.010  0.000 1.00e-02     1.218  1.000 2.18e-01\n",
      "  105  1.050     0.370  0.309 6.09e-02     1.173  0.951 2.22e-01\n",
      "  110  1.100     0.721  0.588 1.33e-01     1.011  0.809 2.02e-01\n",
      "  115  1.150     1.008  0.809 1.99e-01     0.747  0.588 1.59e-01\n",
      "  120  1.200     1.201  0.951 2.50e-01     0.403  0.309 9.43e-02\n",
      "  125  1.250     1.279  1.000 2.79e-01     0.013 -0.000 1.32e-02\n",
      "  130  1.300     1.233  0.951 2.82e-01    -0.386 -0.309 7.70e-02\n",
      "  135  1.350     1.064  0.809 2.55e-01    -0.755 -0.588 1.67e-01\n",
      "  140  1.400     0.787  0.588 1.99e-01    -1.057 -0.809 2.48e-01\n",
      "  145  1.450     0.426  0.309 1.17e-01    -1.260 -0.951 3.09e-01\n",
      "  150  1.500     0.017 -0.000 1.66e-02    -1.344 -1.000 3.44e-01\n",
      "  155  1.550    -0.403 -0.309 9.38e-02    -1.296 -0.951 3.45e-01\n",
      "  160  1.600    -0.791 -0.588 2.03e-01    -1.119 -0.809 3.10e-01\n",
      "  165  1.650    -1.109 -0.809 3.00e-01    -0.829 -0.588 2.41e-01\n",
      "  170  1.700    -1.323 -0.951 3.72e-01    -0.451 -0.309 1.42e-01\n",
      "  175  1.750    -1.411 -1.000 4.11e-01    -0.020  0.000 2.04e-02\n",
      "  180  1.800    -1.362 -0.951 4.11e-01     0.420  0.309 1.11e-01\n",
      "  185  1.850    -1.178 -0.809 3.69e-01     0.828  0.588 2.41e-01\n",
      "  190  1.900    -0.873 -0.588 2.85e-01     1.163  0.809 3.54e-01\n",
      "  195  1.950    -0.476 -0.309 1.67e-01     1.389  0.951 4.38e-01\n",
      "  200  2.000    -0.024  0.000 2.45e-02     1.483  1.000 4.83e-01\n",
      "\n",
      "================2nd order Runge-Kutta================\n",
      "integrating from t = 0.0 to t = 2.0 with 200 steps; h = 0.010\n",
      "\n",
      " step      t        z0     s0  |z0-s0|        z1     s1  |z1-s1|\n",
      "    5  0.050     0.309  0.309 1.99e-04     0.951  0.951 5.46e-05\n",
      "   10  0.100     0.588  0.588 3.45e-04     0.809  0.809 2.27e-04\n",
      "   15  0.150     0.809  0.809 3.88e-04     0.587  0.588 4.84e-04\n",
      "   20  0.200     0.951  0.951 2.92e-04     0.308  0.309 7.74e-04\n",
      "   25  0.250     1.000  1.000 4.82e-05    -0.001 -0.000 1.03e-03\n",
      "   30  0.300     0.951  0.951 3.28e-04    -0.310 -0.309 1.20e-03\n",
      "   35  0.350     0.808  0.809 7.95e-04    -0.589 -0.588 1.21e-03\n",
      "   40  0.400     0.586  0.588 1.29e-03    -0.810 -0.809 1.03e-03\n",
      "   45  0.450     0.307  0.309 1.74e-03    -0.952 -0.951 6.56e-04\n",
      "   50  0.500    -0.002 -0.000 2.06e-03    -1.000 -1.000 9.53e-05\n",
      "   55  0.550    -0.311 -0.309 2.19e-03    -0.950 -0.951 6.02e-04\n",
      "   60  0.600    -0.590 -0.588 2.07e-03    -0.808 -0.809 1.36e-03\n",
      "   65  0.650    -0.811 -0.809 1.68e-03    -0.586 -0.588 2.10e-03\n",
      "   70  0.700    -0.952 -0.951 1.02e-03    -0.306 -0.309 2.71e-03\n",
      "   75  0.750    -1.000 -1.000 1.41e-04     0.003  0.000 3.10e-03\n",
      "   80  0.800    -0.950 -0.951 8.78e-04     0.312  0.309 3.19e-03\n",
      "   85  0.850    -0.807 -0.809 1.93e-03     0.591  0.588 2.93e-03\n",
      "   90  0.900    -0.585 -0.588 2.91e-03     0.811  0.809 2.32e-03\n",
      "   95  0.950    -0.305 -0.309 3.68e-03     0.952  0.951 1.38e-03\n",
      "  100  1.000     0.004  0.000 4.13e-03     1.000  1.000 1.86e-04\n",
      "  105  1.050     0.313  0.309 4.18e-03     0.950  0.951 1.15e-03\n",
      "  110  1.100     0.592  0.588 3.80e-03     0.807  0.809 2.51e-03\n",
      "  115  1.150     0.812  0.809 2.96e-03     0.584  0.588 3.72e-03\n",
      "  120  1.200     0.953  0.951 1.74e-03     0.304  0.309 4.65e-03\n",
      "  125  1.250     1.000  1.000 2.30e-04    -0.005 -0.000 5.16e-03\n",
      "  130  1.300     0.950  0.951 1.43e-03    -0.314 -0.309 5.18e-03\n",
      "  135  1.350     0.806  0.809 3.08e-03    -0.592 -0.588 4.66e-03\n",
      "  140  1.400     0.583  0.588 4.53e-03    -0.813 -0.809 3.61e-03\n",
      "  145  1.450     0.303  0.309 5.61e-03    -0.953 -0.951 2.10e-03\n",
      "  150  1.500    -0.006 -0.000 6.20e-03    -1.000 -1.000 2.73e-04\n",
      "  155  1.550    -0.315 -0.309 6.18e-03    -0.949 -0.951 1.71e-03\n",
      "  160  1.600    -0.593 -0.588 5.52e-03    -0.805 -0.809 3.65e-03\n",
      "  165  1.650    -0.813 -0.809 4.25e-03    -0.582 -0.588 5.34e-03\n",
      "  170  1.700    -0.954 -0.951 2.46e-03    -0.302 -0.309 6.58e-03\n",
      "  175  1.750    -1.000 -1.000 3.15e-04     0.007  0.000 7.23e-03\n",
      "  180  1.800    -0.949 -0.951 1.99e-03     0.316  0.309 7.17e-03\n",
      "  185  1.850    -0.805 -0.809 4.22e-03     0.594  0.588 6.38e-03\n",
      "  190  1.900    -0.582 -0.588 6.15e-03     0.814  0.809 4.89e-03\n",
      "  195  1.950    -0.301 -0.309 7.55e-03     0.954  0.951 2.82e-03\n",
      "  200  2.000     0.008  0.000 8.26e-03     1.000  1.000 3.56e-04\n",
      "\n",
      "================4th order Runge-Kutta================\n",
      "integrating from t = 0.0 to t = 2.0 with 200 steps; h = 0.010\n",
      "\n",
      " step      t        z0     s0  |z0-s0|        z1     s1  |z1-s1|\n",
      "    5  0.050     0.309  0.309 3.94e-08     0.951  0.951 1.06e-08\n",
      "   10  0.100     0.588  0.588 6.84e-08     0.809  0.809 4.44e-08\n",
      "   15  0.150     0.809  0.809 7.70e-08     0.588  0.588 9.51e-08\n",
      "   20  0.200     0.951  0.951 5.85e-08     0.309  0.309 1.52e-07\n",
      "   25  0.250     1.000  1.000 1.07e-08     0.000 -0.000 2.04e-07\n",
      "   30  0.300     0.951  0.951 6.34e-08    -0.309 -0.309 2.36e-07\n",
      "   35  0.350     0.809  0.809 1.56e-07    -0.588 -0.588 2.40e-07\n",
      "   40  0.400     0.588  0.588 2.54e-07    -0.809 -0.809 2.05e-07\n",
      "   45  0.450     0.309  0.309 3.43e-07    -0.951 -0.951 1.32e-07\n",
      "   50  0.500     0.000 -0.000 4.07e-07    -1.000 -1.000 2.14e-08\n",
      "   55  0.550    -0.309 -0.309 4.34e-07    -0.951 -0.951 1.16e-07\n",
      "   60  0.600    -0.588 -0.588 4.11e-07    -0.809 -0.809 2.67e-07\n",
      "   65  0.650    -0.809 -0.809 3.34e-07    -0.588 -0.588 4.12e-07\n",
      "   70  0.700    -0.951 -0.951 2.05e-07    -0.309 -0.309 5.33e-07\n",
      "   75  0.750    -1.000 -1.000 3.20e-08    -0.000  0.000 6.11e-07\n",
      "   80  0.800    -0.951 -0.951 1.69e-07     0.309  0.309 6.31e-07\n",
      "   85  0.850    -0.809 -0.809 3.78e-07     0.588  0.588 5.82e-07\n",
      "   90  0.900    -0.588 -0.588 5.71e-07     0.809  0.809 4.62e-07\n",
      "   95  0.950    -0.309 -0.309 7.24e-07     0.951  0.951 2.78e-07\n",
      "  100  1.000    -0.000  0.000 8.15e-07     1.000  1.000 4.27e-08\n",
      "  105  1.050     0.309  0.309 8.28e-07     0.951  0.951 2.22e-07\n",
      "  110  1.100     0.588  0.588 7.53e-07     0.809  0.809 4.89e-07\n",
      "  115  1.150     0.809  0.809 5.91e-07     0.588  0.588 7.29e-07\n",
      "  120  1.200     0.951  0.951 3.51e-07     0.309  0.309 9.14e-07\n",
      "  125  1.250     1.000  1.000 5.34e-08     0.000 -0.000 1.02e-06\n",
      "  130  1.300     0.951  0.951 2.75e-07    -0.309 -0.309 1.02e-06\n",
      "  135  1.350     0.809  0.809 6.00e-07    -0.588 -0.588 9.24e-07\n",
      "  140  1.400     0.588  0.588 8.88e-07    -0.809 -0.809 7.19e-07\n",
      "  145  1.450     0.309  0.309 1.10e-06    -0.951 -0.951 4.24e-07\n",
      "  150  1.500     0.000 -0.000 1.22e-06    -1.000 -1.000 6.41e-08\n",
      "  155  1.550    -0.309 -0.309 1.22e-06    -0.951 -0.951 3.27e-07\n",
      "  160  1.600    -0.588 -0.588 1.09e-06    -0.809 -0.809 7.11e-07\n",
      "  165  1.650    -0.809 -0.809 8.47e-07    -0.588 -0.588 1.05e-06\n",
      "  170  1.700    -0.951 -0.951 4.97e-07    -0.309 -0.309 1.30e-06\n",
      "  175  1.750    -1.000 -1.000 7.47e-08    -0.000  0.000 1.43e-06\n",
      "  180  1.800    -0.951 -0.951 3.80e-07     0.309  0.309 1.42e-06\n",
      "  185  1.850    -0.809 -0.809 8.22e-07     0.588  0.588 1.27e-06\n",
      "  190  1.900    -0.588 -0.588 1.20e-06     0.809  0.809 9.76e-07\n",
      "  195  1.950    -0.309 -0.309 1.49e-06     0.951  0.951 5.70e-07\n",
      "  200  2.000    -0.000  0.000 1.63e-06     1.000  1.000 8.54e-08\n"
     ]
    }
   ],
   "source": [
    "# our test problem is to integrate\n",
    "#   dz/dt = [ w*z[1], -w*z[0] ]\n",
    "# with initial conditions\n",
    "#   z(t=0) = [ 0.0, 1.0 ].\n",
    "# The solution is z = [ sin(w*t), cos(w*t) ].  For this test, we set\n",
    "# w = 2*pi, and integrate from t = 0 to t = 2.\n",
    "\n",
    "def f(t,z,w):\n",
    "    \"\"\"\n",
    "    function returning RHS of our ODE.\n",
    "    \n",
    "    Arguments\n",
    "        t (scalar)\n",
    "        z (2 dimensional array)            \n",
    "        w (scalar)\n",
    "    Returns\n",
    "        dzdt (2-D numpy array)\n",
    "    \"\"\"\n",
    "    dzdt = np.zeros_like(z)\n",
    "    dzdt[0] =  w*z[1]\n",
    "    dzdt[1] = -w*z[0]\n",
    "    return dzdt\n",
    "\n",
    "def soln(t,w):\n",
    "    \"\"\"\n",
    "    returns analytical solution of ODE\n",
    "    Arguments\n",
    "        t (scalar or array-like)\n",
    "            independent variable\n",
    "        w (scalar)\n",
    "            parameter in system of ODEs\n",
    "    Returns\n",
    "        2-d solution array at times in argument t\n",
    "    \"\"\"\n",
    "    return np.array([np.sin(w*t),np.cos(w*t)])\n",
    "\n",
    "def do_one(method):\n",
    "    # set initial conditions\n",
    "    z = np.zeros(2)\n",
    "    z[1] = 1.0\n",
    "\n",
    "    # period is 1.0, frequency is 2*pi, stepsize is 1/100 of a period\n",
    "    P = 1.0\n",
    "    w = 2.0*np.pi/P\n",
    "    h = P/100.0\n",
    "\n",
    "    # we'll integrate from t = 0 to t = t_f = 2*P\n",
    "    t = 0.0\n",
    "    t_f = 2*P\n",
    "    # Number of steps\n",
    "    N = int(t_f/h)\n",
    "\n",
    "    # check everything!\n",
    "    print('integrating from t = {0} to t = {1} with {2} steps; h = {3:5.3f}\\n'.\\\n",
    "        format(t,t_f,N,h))\n",
    "    \n",
    "    # print every 5th line\n",
    "    PRINT_INTERVAL = 5\n",
    "    # counter for steps\n",
    "    cnt = 0\n",
    "    # format for outputing results\n",
    "    fmt = '{0:5d}{1:7.3f}   {2:7.3f}{3:7.3f}{4:9.2e}   {5:7.3f}{6:7.3f}{7:9.2e}'\n",
    "    # format for header\n",
    "    head_fmt = '{0:>5s}{1:>7s}   {2:>7s}{3:>7s}{4:>9s}   {5:>7s}{6:>7s}{7:>9s}'\n",
    "    print(head_fmt.format(\n",
    "        'step','t','z0','s0','|z0-s0|','z1','s1','|z1-s1|')\n",
    "    )\n",
    "    stepper = integration_methods[method]\n",
    "    for step in range(N):\n",
    "        z = stepper(f,t,z,h,args=w)\n",
    "        t += h\n",
    "        cnt += 1\n",
    "        if (cnt % PRINT_INTERVAL == 0):\n",
    "            zs = soln(t,w)\n",
    "            resid = np.abs(z-zs)\n",
    "            print(fmt.format(cnt,t,z[0],zs[0],resid[0],z[1],zs[1],resid[1]))\n",
    "\n",
    "print('\\n====================Forward Euler====================')\n",
    "do_one('Euler')\n",
    "print('\\n================2nd order Runge-Kutta================')\n",
    "do_one('RK2')\n",
    "print('\\n================4th order Runge-Kutta================')\n",
    "do_one('RK4')\n"
   ]
  },
  {
   "cell_type": "markdown",
   "id": "5dc7292c",
   "metadata": {},
   "source": [
    "# 2) "
   ]
  },
  {
   "cell_type": "markdown",
   "id": "e5627b5a",
   "metadata": {},
   "source": [
    "Pulling the functions from kepler.py:"
   ]
  },
  {
   "cell_type": "code",
   "execution_count": 7,
   "id": "86c7c86c",
   "metadata": {
    "tags": []
   },
   "outputs": [],
   "source": [
    "# energies\n",
    "def kinetic_energy(v):\n",
    "    \"\"\"\n",
    "    Returns kinetic energy per unit mass: KE(v) = 0.5 v*v.\n",
    "    \n",
    "    Arguments\n",
    "        v (array-like)\n",
    "            velocity vector\n",
    "    \"\"\"\n",
    "    return 0.5*np.dot(v,v)\n",
    "\n",
    "def potential_energy(r,m):\n",
    "    \"\"\"\n",
    "    Returns potential energy per unit mass: PE(x, m) = -m/norm(r)\n",
    "\n",
    "    Arguments\n",
    "        r (array-like)\n",
    "            position vector\n",
    "            \n",
    "        m (scalar)\n",
    "            total mass in normalized units\n",
    "    \"\"\"\n",
    "    # the norm function returns the length of the vector\n",
    "\n",
    "    return -m/np.linalg.norm(r)\n",
    "\n",
    "def total_energy(z,m):\n",
    "    \"\"\"\n",
    "    Returns energy per unit mass: E(z,m) = KE(v) + PE(x,m)\n",
    "\n",
    "    Arguments            \n",
    "        z (array-like)\n",
    "            function value\n",
    "            \n",
    "        m (scalar)\n",
    "            total mass in normalized units\n",
    "    \"\"\"\n",
    "    # array z contains the arrays r and v, pulled out here\n",
    "    r = z[0:2]  \n",
    "    v = z[2:4]  \n",
    "\n",
    "    return kinetic_energy(v) + potential_energy(r,m)"
   ]
  },
  {
   "cell_type": "code",
   "execution_count": 8,
   "id": "471712f1",
   "metadata": {
    "tags": []
   },
   "outputs": [],
   "source": [
    "def derivs(t,z,m):\n",
    "    \"\"\"\n",
    "    Computes derivatives of position and velocity for Kepler's problem \n",
    "    \n",
    "    Arguments\n",
    "        t (scalar)\n",
    "            final time (which we're iterating to)\n",
    "            \n",
    "        z (array-like)\n",
    "            function value at supplied t, z, etc\n",
    "            \n",
    "        m (scalar)\n",
    "            total mass in normalized units\n",
    "            \n",
    "    Returns\n",
    "        numpy array dzdt with components [ dx/dt, dy/dt, dv_x/dt, dv_y/dt ]\n",
    "    \"\"\"\n",
    "\n",
    "    r = z[0:2]\n",
    "    v = z[2:4]\n",
    "    rmag = np.linalg.norm(r)\n",
    "\n",
    "    drdt = v\n",
    "    \n",
    "    # scaled to the solar system\n",
    "    dvdt = -m*r/(rmag**3)\n",
    "    \n",
    "    # join the arrays\n",
    "    dzdt = np.concatenate((drdt,dvdt))\n",
    "    return dzdt"
   ]
  },
  {
   "cell_type": "markdown",
   "id": "50beb051",
   "metadata": {},
   "source": [
    "# 3)"
   ]
  },
  {
   "cell_type": "code",
   "execution_count": 9,
   "id": "0e567468",
   "metadata": {
    "tags": []
   },
   "outputs": [],
   "source": [
    "def integrate_orbit(z0,m,tend,h,method='RK4'):\n",
    "    \"\"\"\n",
    "    Integrates orbit starting from an initial position and velocity from t = 0 \n",
    "    to t = tend.\n",
    "    \n",
    "    Arguments:\n",
    "        z0 (scalar)\n",
    "            initial function value\n",
    "        \n",
    "        m (scalar)\n",
    "            mass of star in units of M_sun\n",
    "    \n",
    "        tend (scalar)\n",
    "            final timestep\n",
    "    \n",
    "        h (scalar)\n",
    "            incrementing stepsize\n",
    "    \n",
    "        method ('Euler', 'RK2', or 'RK4')\n",
    "            identifies which stepper routine to use (default: 'RK4')\n",
    "    Returns\n",
    "        ts, Xs, Ys, KEs, PEs, TEs := arrays of time, x postions, y positions, \n",
    "        and energies (kin., pot., total) \n",
    "    \"\"\"\n",
    "\n",
    "    # set the initial time and phase space array\n",
    "    t = 0.0\n",
    "    z = z0\n",
    "\n",
    "    # expected number of steps\n",
    "    Nsteps = int(tend/h)+1\n",
    "\n",
    "    # arrays holding t, x, y, kinetic energy, potential energy, and total energy\n",
    "    ts = np.zeros(Nsteps) # time\n",
    "    Xs = np.zeros(Nsteps) # x-axis position\n",
    "    Ys = np.zeros(Nsteps) # y-axis position\n",
    "    KEs = np.zeros(Nsteps) # kinetic energy\n",
    "    PEs = np.zeros(Nsteps) # potential energy\n",
    "    TEs = np.zeros(Nsteps) # total energy\n",
    "\n",
    "    # store the initial point\n",
    "    ts[0] = t\n",
    "    Xs[0] = z[0]\n",
    "    Ys[0] = z[1]\n",
    "    KEs[0]=(1/2)*m*np.linalg.norm(z[2:4])**2\n",
    "    PEs[0]=-m/np.linalg.norm(z[0:2])\n",
    "    TEs[0]=KEs[0]+PEs[0]\n",
    "\n",
    "    # select the stepping method\n",
    "    advance_one_step = integration_methods[method]\n",
    "    # run through the steps\n",
    "\n",
    "    for step in range(1,Nsteps):\n",
    "        z = advance_one_step(derivs,t,z,h,args=m)\n",
    "        t += h\n",
    "        # store values\n",
    "        ts[step] = t\n",
    "        dzdt = derivs(t,z,m)\n",
    "        v = dzdt[0:2]  # define velocity at this step\n",
    "        acc = dzdt[2:4] # define acceleration at this step\n",
    "        # fill in with assignments for Xs, Ys, KEs, PEs, TEs\n",
    "        Xs[step] = z[0]\n",
    "        Ys[step] = z[1]\n",
    "        KEs[step] = kinetic_energy(v)\n",
    "        PEs[step] = potential_energy(z[0:2],m)\n",
    "        TEs[step] = total_energy(z,m)\n",
    "    return ts, Xs, Ys, KEs, PEs, TEs\n",
    "    \n",
    "def set_initial_conditions(a, m, e):\n",
    "    \"\"\"\n",
    "    set the initial conditions for the orbit.  The orientation of the orbit is \n",
    "    chosen so that y0 = 0.0 and vx0 = 0.0.\n",
    "    \n",
    "    Arguments\n",
    "        a (scalar)\n",
    "            semi-major axis in AU\n",
    "        m (scalar)\n",
    "            total mass in Msun\n",
    "        e (scalar)\n",
    "            eccentricity ( x0 = (1+e)*a )\n",
    "    \n",
    "    Returns:\n",
    "    [x0, y0, vx0, vy0], eps0, Tperiod := initial position and velocity, energy, \n",
    "        and period\n",
    "    \"\"\"\n",
    "    eps0=-(m/(2*a))\n",
    "    T=(np.pi/math.sqrt(2))*m*(np.abs(eps0)**(-3/2))\n",
    "    x0=(1+e)*a\n",
    "    y0=0\n",
    "    vx0=0\n",
    "    vy0=math.sqrt(2*eps0+2*(m/x0))\n",
    "    r_init=np.array([x0,y0])\n",
    "    v_init=np.array([vx0,vy0])\n",
    "    z_init=np.append(r_init,v_init)\n",
    "    return z_init,eps0,T"
   ]
  },
  {
   "cell_type": "markdown",
   "id": "af8065fa-4f21-44b2-b4be-f476abeebe12",
   "metadata": {},
   "source": [
    "# 4) "
   ]
  },
  {
   "cell_type": "markdown",
   "id": "d6b4cc81",
   "metadata": {},
   "source": [
    "## Trajectories:"
   ]
  },
  {
   "cell_type": "markdown",
   "id": "4de7a6a8",
   "metadata": {},
   "source": [
    "Euler"
   ]
  },
  {
   "cell_type": "code",
   "execution_count": 10,
   "id": "7a5868f6-f9eb-4dfa-bfc8-e158d1154721",
   "metadata": {},
   "outputs": [
    {
     "name": "stdout",
     "output_type": "stream",
     "text": [
      "[1.5        0.         0.         0.57735027] -0.5 6.283185307179587\n"
     ]
    }
   ],
   "source": [
    "z_init, eps0, T = set_initial_conditions(1,1,0.5)   # setting intitial conditions\n",
    "h_0 = 0.1*T                                         # choosing initial step size\n",
    "h_arr = h_0/2**np.arange(0,11)                      # calculating other step sizes with powers of 2\n",
    "\n",
    "E_output_list = []                                    # prepare somewhere to store all the outputs\n",
    "\n",
    "for i,h in enumerate(h_arr):\n",
    "    E_output_list.append(integrate_orbit(z_init, 1, tend = 3*T, h = h, method = 'Euler'))   # actually do the integration\n",
    "    \n",
    "# ts, Xs, Ys, KEs, PEs, TEs\n",
    "\n",
    "print(z_init,eps0,T)"
   ]
  },
  {
   "cell_type": "markdown",
   "id": "f059eaf9",
   "metadata": {},
   "source": [
    "RK2"
   ]
  },
  {
   "cell_type": "code",
   "execution_count": 11,
   "id": "b2f7e014",
   "metadata": {},
   "outputs": [],
   "source": [
    "z_init, eps0, T = set_initial_conditions(1,1,0.5)   # setting intitial conditions\n",
    "h_0 = 0.1*T                                         # choosing initial step size\n",
    "h_arr = h_0/2**np.arange(0,11)                      # calculating other step sizes with powers of 2\n",
    "\n",
    "RK2_output_list = []                                    # prepare somewhere to store all the outputs\n",
    "\n",
    "for i,h in enumerate(h_arr):\n",
    "    RK2_output_list.append(integrate_orbit(z_init, 1, tend = 3*T, h = h, method = 'RK2'))   # actually do the integration\n",
    "    \n",
    "# ts, Xs, Ys, KEs, PEs, TEs"
   ]
  },
  {
   "cell_type": "markdown",
   "id": "37c9dc47",
   "metadata": {},
   "source": [
    "RK4"
   ]
  },
  {
   "cell_type": "code",
   "execution_count": 12,
   "id": "11872a47",
   "metadata": {},
   "outputs": [],
   "source": [
    "z_init, eps0, T = set_initial_conditions(1,1,0.5)   # setting intitial conditions\n",
    "h_0 = 0.1*T                                         # choosing initial step size\n",
    "h_arr = h_0/2**np.arange(0,11)                      # calculating other step sizes with powers of 2\n",
    "\n",
    "RK4_output_list = []                                    # prepare somewhere to store all the outputs\n",
    "\n",
    "for i,h in enumerate(h_arr):\n",
    "    RK4_output_list.append(integrate_orbit(z_init, 1, tend = 3*T, h = h, method = 'RK4'))   # actually do the integration\n",
    "    \n",
    "# ts, Xs, Ys, KEs, PEs, TEs"
   ]
  },
  {
   "cell_type": "markdown",
   "id": "7ee680ef",
   "metadata": {},
   "source": [
    "## Energies"
   ]
  },
  {
   "cell_type": "code",
   "execution_count": 34,
   "id": "c5cbeba0-568a-4ae4-a4b6-ff2d1a3c9afc",
   "metadata": {},
   "outputs": [],
   "source": [
    "E_energy_err = []      # we'll also store error in a similar way\n",
    "\n",
    "for i in range(11):   \n",
    "    E_energy_err.append((E_output_list[i][5][-1]-E_output_list[i][5][0])/E_output_list[i][5][0])"
   ]
  },
  {
   "cell_type": "code",
   "execution_count": 36,
   "id": "cb997701",
   "metadata": {},
   "outputs": [],
   "source": [
    "RK2_energy_err = []      # we'll also store error in a similar way\n",
    "\n",
    "for i in range(11):   \n",
    "    RK2_energy_err.append((RK2_output_list[i][5][-1]-RK2_output_list[i][5][0])/RK2_output_list[i][5][0])"
   ]
  },
  {
   "cell_type": "code",
   "execution_count": 35,
   "id": "acbb1a3d",
   "metadata": {},
   "outputs": [],
   "source": [
    "RK4_energy_err = []      # we'll also store error in a similar way\n",
    "\n",
    "for i in range(11):   \n",
    "    RK4_energy_err.append((RK4_output_list[i][5][-1]-RK4_output_list[i][5][0])/RK4_output_list[i][5][0])"
   ]
  },
  {
   "cell_type": "code",
   "execution_count": 29,
   "id": "2f83804a",
   "metadata": {},
   "outputs": [
    {
     "data": {
      "image/png": "[encoded data removed]",
      "text/plain": [
       "<Figure size 432x288 with 1 Axes>"
      ]
     },
     "metadata": {
      "needs_background": "light"
     },
     "output_type": "display_data"
    }
   ],
   "source": [
    "plt.plot(h_arr,RK2_energy_err)\n",
    "plt.plot(h_arr,RK2_energy_err)\n",
    "plt.plot(h_arr,RK2_energy_err)\n",
    "plt.xscale(\"log\")"
   ]
  },
  {
   "cell_type": "code",
   "execution_count": 23,
   "id": "65262dad",
   "metadata": {},
   "outputs": [
    {
     "data": {
      "image/png": "[encoded data removed]",
      "text/plain": [
       "<Figure size 432x288 with 1 Axes>"
      ]
     },
     "metadata": {
      "needs_background": "light"
     },
     "output_type": "display_data"
    }
   ],
   "source": [
    "# add legend\n",
    "\n",
    "plt.plot(RK4_output_list[10][0], RK4_output_list[10][5])\n",
    "plt.plot(RK4_output_list[10][0], RK4_output_list[10][4])\n",
    "plt.plot(RK4_output_list[10][0], RK4_output_list[10][3])\n",
    "plt.show()"
   ]
  },
  {
   "cell_type": "code",
   "execution_count": 16,
   "id": "7eb74286",
   "metadata": {},
   "outputs": [],
   "source": []
  },
  {
   "cell_type": "code",
   "execution_count": 17,
   "id": "d4f8df60",
   "metadata": {},
   "outputs": [],
   "source": [
    "# fig, axis = plt.subplots(3, 1)\n",
    "# fig.tight_layout()\n",
    "\n",
    "# axis[0].plot(E_output_list[0][0], E_energy_err)"
   ]
  },
  {
   "cell_type": "markdown",
   "id": "fc98463e",
   "metadata": {},
   "source": [
    "5)"
   ]
  },
  {
   "cell_type": "code",
   "execution_count": 33,
   "id": "77d3f140",
   "metadata": {},
   "outputs": [
    {
     "data": {
      "image/png": "[encoded data removed]",
      "text/plain": [
       "<Figure size 1080x1080 with 6 Axes>"
      ]
     },
     "metadata": {
      "needs_background": "light"
     },
     "output_type": "display_data"
    }
   ],
   "source": [
    "fig, axis = plt.subplots(3, 2, figsize=(15,15))\n",
    "\n",
    "axis[0,0].plot(E_output_list[0][1],E_output_list[0][2])\n",
    "axis[0,0].set_title(\"Trajectory Found with Forward Euler (Smallest h Value)\")\n",
    "\n",
    "axis[0,1].plot(E_output_list[10][1],E_output_list[10][2])\n",
    "axis[0,1].set_title(\"Trajectory Found with Forward Euler (Largest h Value)\")\n",
    "\n",
    "axis[1,0].plot(RK2_output_list[0][1],RK2_output_list[0][2])\n",
    "axis[1,0].set_title(\"Trajectory Found with Second-Order Runge-Kutta (Smallest h Value)\")\n",
    "\n",
    "axis[1,1].plot(RK2_output_list[10][1],RK2_output_list[10][2])\n",
    "axis[1,1].set_title(\"Trajectory Found with Second-Order Runge-Kutta (Largest h Value)\")\n",
    "\n",
    "axis[2,0].plot(RK4_output_list[0][1],RK4_output_list[0][2])\n",
    "axis[2,0].set_title(\"Fourth-Order Runge-Kutta (Smallest h Value\")\n",
    "\n",
    "axis[2,1].plot(RK4_output_list[10][1],RK4_output_list[10][2])\n",
    "axis[2,1].set_title(\"Fourth-Order Runge-Kutta (Largest h Value)\")\n",
    "\n",
    "plt.show()"
   ]
  },
  {
   "cell_type": "code",
   "execution_count": 19,
   "id": "3f4de172",
   "metadata": {},
   "outputs": [],
   "source": [
    "def energy_plot(KE, PE, t):\n",
    "    \n",
    "    \"\"\"\n",
    "    Creates  energy of the orbiting particle.\n",
    "    \n",
    "    Arguments\n",
    "        KE (array-like)\n",
    "            Kinetic energy of the particle.\n",
    "        PE (array-like)\n",
    "            Potential energy of the particle.\n",
    "        t (array-like)\n",
    "            Time\n",
    "        \n",
    "    Returns\n",
    "        Single plot of kinetic, potential, and total energies of the particle.\n",
    "    \n",
    "    \"\"\"\n",
    "    E = KE + PE\n",
    "    \n",
    "    plt.plot(KE,t)\n",
    "    plt.plot(PE,t)\n",
    "    plt.plot(E, t)\n",
    "    plt.legend(\"Kinetic Energy\", \"Potential Energy\", 'Total Energy')\n",
    "    plt.show()"
   ]
  }
 ],
 "metadata": {
  "kernelspec": {
   "display_name": "Python 3 (ipykernel)",
   "language": "python",
   "name": "python3"
  },
  "language_info": {
   "codemirror_mode": {
    "name": "ipython",
    "version": 3
   },
   "file_extension": ".py",
   "mimetype": "text/x-python",
   "name": "python",
   "nbconvert_exporter": "python",
   "pygments_lexer": "ipython3",
   "version": "3.9.12"
  }
 },
 "nbformat": 4,
 "nbformat_minor": 5
}
