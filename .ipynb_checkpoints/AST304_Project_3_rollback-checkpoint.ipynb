{
 "cells": [
  {
   "cell_type": "markdown",
   "id": "eabf5c35",
   "metadata": {},
   "source": [
    "# Project 3"
   ]
  },
  {
   "cell_type": "markdown",
   "id": "2c133928",
   "metadata": {},
   "source": [
    "Atticus Chong, Evelyn Fuhrman, Keara Hayes, Zachary Malzahn"
   ]
  },
  {
   "cell_type": "markdown",
   "id": "f3d78289",
   "metadata": {},
   "source": [
    "### Imports and Constants"
   ]
  },
  {
   "cell_type": "code",
   "execution_count": 69,
   "id": "12c9d7eb",
   "metadata": {
    "tags": []
   },
   "outputs": [],
   "source": [
    "import numpy as np\n",
    "import pandas as pd\n",
    "from numpy.linalg import norm\n",
    "import math\n",
    "import matplotlib.pyplot as plt\n",
    "import astropy.constants as _ac\n",
    "import astropy.units as _au\n",
    "from numpy import pi\n",
    "from scipy import optimize\n",
    "from numcheck import within_tolerance"
   ]
  },
  {
   "cell_type": "code",
   "execution_count": 70,
   "id": "94dc6535",
   "metadata": {},
   "outputs": [],
   "source": [
    "###importing constants\n",
    "\n",
    "# solar mass, radius, luminosity\n",
    "Msun = _ac.M_sun.value\n",
    "Rsun = _ac.R_sun.value\n",
    "Lsun = _ac.L_sun.value\n",
    "\n",
    "# physical constants from astropy, all in MKS units\n",
    "G = _ac.G.value\n",
    "h = _ac.h.value\n",
    "hbar = _ac.hbar.value\n",
    "m_e = _ac.m_e.value\n",
    "m_p = _ac.m_p.value\n",
    "m_n = _ac.m_n.value\n",
    "m_u = _ac.u.value\n",
    "c = _ac.c.value\n",
    "kB = _ac.k_B.value\n",
    "pc = _ac.pc.value\n",
    "au = _ac.au.value\n",
    "year = _au.year.to(_au.second)\n",
    "sigmaSB = _ac.sigma_sb.value\n",
    "\n",
    "# other constants\n",
    "mue = 2\n",
    "K = ((1/5)*((3/(8*pi))**(2/3))*(h**2/(m_e*(mue*m_u)**(5/3))))"
   ]
  },
  {
   "cell_type": "code",
   "execution_count": 71,
   "id": "56fc81ef",
   "metadata": {},
   "outputs": [],
   "source": [
    "from bits_n_pieces import *"
   ]
  },
  {
   "cell_type": "markdown",
   "id": "78a74b66",
   "metadata": {},
   "source": [
    "### Things and Stuff from Project 2"
   ]
  },
  {
   "cell_type": "markdown",
   "id": "32a6357c",
   "metadata": {},
   "source": [
    "Functions that aren't altered at all from the previous project are imported with the script bits_n_pieces.py."
   ]
  },
  {
   "cell_type": "code",
   "execution_count": 72,
   "id": "fd02fb76",
   "metadata": {},
   "outputs": [],
   "source": [
    "def stellar_derivatives(m, z, mue):\n",
    "    \"\"\"\n",
    "    RHS of Lagrangian differential equations for radius and pressure\n",
    "    \n",
    "    Arguments\n",
    "        m\n",
    "            current value of the mass\n",
    "        z (array)\n",
    "            current values of (radius, pressure)\n",
    "        mue\n",
    "            ratio, nucleons to electrons. For a carbon-oxygen white dwarf, mue = 2.\n",
    "        \n",
    "    Returns\n",
    "        dzdm (array)\n",
    "            Lagrangian derivatives dr/dm, dP/dm\n",
    "    \"\"\"\n",
    "    \n",
    "    dzdm = np.zeros_like(z)\n",
    "    \n",
    "    dzdm[0] = (4*pi*(z[0]**2)*density(z[1],mue))**(-1)\n",
    "    dzdm[1] = (-G*m)/(4*pi*(z[0]**4))\n",
    "    \n",
    "    return dzdm"
   ]
  },
  {
   "cell_type": "code",
   "execution_count": 73,
   "id": "decd6d7b",
   "metadata": {},
   "outputs": [],
   "source": [
    "def central_values(Pc,delta_m,mue):\n",
    "    \"\"\"\n",
    "    Constructs the boundary conditions at the edge of a small, constant density \n",
    "    core of mass delta_m with central pressure Pc\n",
    "    \n",
    "    Arguments\n",
    "        Pc\n",
    "            central pressure (units = Pa)\n",
    "        delta_m\n",
    "            core mass (units = kg)\n",
    "        mue\n",
    "            nucleon/electron ratio\n",
    "    \n",
    "    Returns\n",
    "        z = array([ r, p ])\n",
    "            central value of radius and pressure\n",
    "    \"\"\"\n",
    "    z = np.zeros(2)\n",
    "    \n",
    "    z[0] = ((3*delta_m)/(4 * np.pi * density(Pc, mue)))**(1/3)\n",
    "    z[1] = Pc   \n",
    "    return z"
   ]
  },
  {
   "cell_type": "code",
   "execution_count": 74,
   "id": "a9a1f582",
   "metadata": {},
   "outputs": [],
   "source": [
    "def lengthscales(m,z,mue):\n",
    "    \"\"\"\n",
    "    Computes the radial length scale H_r and the pressure length H_P\n",
    "    \n",
    "    Arguments\n",
    "        m\n",
    "            current mass coordinate (units = kg)\n",
    "        z (array)\n",
    "           [ r, p ] (units = [ m, Pa ])\n",
    "        mue\n",
    "            mean electron weight\n",
    "    \n",
    "    Returns\n",
    "        z/|dzdm| (units = [ m^6/kg, 1/s^4 ])\n",
    "    \"\"\"    \n",
    "    \n",
    "    radius = z[0]\n",
    "    pressure = z[1]\n",
    "    rho = density(pressure, mue)\n",
    "    H_r = 4 * np.pi * (radius**3) * rho\n",
    "    H_p = (4 * np.pi * (radius**4) * pressure) / (G * m) \n",
    "    \n",
    "    out = [H_r, H_p]\n",
    "    \n",
    "    out = np.asarray(out)\n",
    "    \n",
    "    return out"
   ]
  },
  {
   "cell_type": "code",
   "execution_count": 76,
   "id": "8c36e16f",
   "metadata": {},
   "outputs": [],
   "source": [
    "def integrate(Pc,delta_m,eta,xi,mue,max_steps=10000):\n",
    "    \"\"\"\n",
    "    Integrates the scaled stellar structure equations\n",
    "\n",
    "    Arguments\n",
    "        Pc\n",
    "            central pressure (units = ?)\n",
    "        delta_m\n",
    "            initial offset from center (units = ?)\n",
    "        eta\n",
    "            The integration stops when P < eta * Pc\n",
    "        xi\n",
    "            The stepsize is set to be xi*min(p/|dp/dm|, r/|dr/dm|)\n",
    "        mue\n",
    "            mean electron mass\n",
    "        max_steps\n",
    "            solver will quit and throw error if this more than max_steps are \n",
    "            required (default is 10000)\n",
    "                        \n",
    "    Returns\n",
    "        m_step, r_step, p_step\n",
    "            arrays containing mass coordinates, radii and pressures during \n",
    "            integration (what are the units?)\n",
    "    \"\"\"\n",
    "        \n",
    "    m_step = np.zeros(max_steps)\n",
    "    r_step = np.zeros(max_steps)\n",
    "    p_step = np.zeros(max_steps)\n",
    "  \n",
    "    # set starting conditions using central values\n",
    "    temp = delta_m\n",
    "    z = central_values(Pc, delta_m, mue)\n",
    "    Nsteps = 0\n",
    "    \n",
    "    for step in range(max_steps):\n",
    "        radius = z[0]\n",
    "        pressure = z[1]\n",
    "        \n",
    "        # are we at the surface?\n",
    "        if (pressure < eta*Pc):\n",
    "            break\n",
    "            \n",
    "        # store the step\n",
    "        m_step[step] = temp\n",
    "        r_step[step] = radius\n",
    "        p_step[step] = pressure\n",
    "        \n",
    "        # set the stepsize\n",
    "        h = xi*min(lengthscales(m_step[step], z, mue))\n",
    "\n",
    "        # take a step\n",
    "        z = rk4(stellar_derivatives,temp,z,h,args=(mue))\n",
    "        temp += h\n",
    "        # increment the counter\n",
    "        Nsteps += 1\n",
    "    # if the loop runs to max_steps, then signal an error\n",
    "    else:\n",
    "        raise Exception('too many iterations')\n",
    "        \n",
    "    return m_step[0:Nsteps],r_step[0:Nsteps],p_step[0:Nsteps]"
   ]
  },
  {
   "cell_type": "markdown",
   "id": "f7225660",
   "metadata": {},
   "source": [
    "## 1)"
   ]
  },
  {
   "cell_type": "markdown",
   "id": "d387a999",
   "metadata": {},
   "source": [
    "Here, we choose to shrink down $\\delta_{m}$, $\\eta$, and $\\xi$."
   ]
  },
  {
   "cell_type": "code",
   "execution_count": 77,
   "id": "11513217",
   "metadata": {},
   "outputs": [],
   "source": [
    "delta_m = Msun * 1e-18\n",
    "eta = 1e-20\n",
    "xi = 5e-2"
   ]
  },
  {
   "cell_type": "code",
   "execution_count": 78,
   "id": "83a7789f",
   "metadata": {},
   "outputs": [],
   "source": [
    "masses = np.arange(0.1, 1.1, 0.1)*Msun\n",
    "pcs=[]\n",
    "r_step_list=[]\n",
    " \n",
    "def mass_diff(Pc, m_want, delta_m, eta, mue):\n",
    "    m_step, r_step, p_step = integrate(Pc,delta_m,eta,xi,mue)\n",
    "    diff = m_step[-1] - m_want\n",
    "    return diff\n",
    "\n",
    "for i in masses:\n",
    "    out = optimize.bisect(mass_diff, a = 1e19, b = 1e23, xtol=1e-6, args = (i, delta_m, eta, mue))\n",
    "    m_step, r_step, p_step = integrate(out,delta_m,eta,xi,mue)\n",
    "    r_step_list.append(r_step[-1])\n",
    "    pcs.append(out)"
   ]
  },
  {
   "cell_type": "code",
   "execution_count": 79,
   "id": "444418d8",
   "metadata": {},
   "outputs": [],
   "source": [
    "pcs=np.asarray(pcs)\n",
    "r_step_list = np.asarray(r_step_list)\n",
    "solar_masses = masses / Msun\n",
    "solar_radii = r_step_list / (Rsun*0.01)"
   ]
  },
  {
   "cell_type": "code",
   "execution_count": 80,
   "id": "ccc6a799",
   "metadata": {},
   "outputs": [
    {
     "data": {
      "text/html": [
       "<div>\n",
       "<style scoped>\n",
       "    .dataframe tbody tr th:only-of-type {\n",
       "        vertical-align: middle;\n",
       "    }\n",
       "\n",
       "    .dataframe tbody tr th {\n",
       "        vertical-align: top;\n",
       "    }\n",
       "\n",
       "    .dataframe thead th {\n",
       "        text-align: right;\n",
       "    }\n",
       "</style>\n",
       "<table border=\"1\" class=\"dataframe\">\n",
       "  <thead>\n",
       "    <tr style=\"text-align: right;\">\n",
       "      <th></th>\n",
       "      <th>$\\frac{M}{M_{\\odot}}$</th>\n",
       "      <th>$\\frac{R}{0.01R_{\\odot}}$</th>\n",
       "      <th>$P_c (MKS)$</th>\n",
       "      <th>$\\frac{P_c}{(GM^2R^{-4})}$</th>\n",
       "      <th>$\\rho (MKS)$</th>\n",
       "      <th>$\\frac{\\rho_{c}}{[\\frac{3M}{4\\pi R^3}]}$</th>\n",
       "    </tr>\n",
       "  </thead>\n",
       "  <tbody>\n",
       "    <tr>\n",
       "      <th>0</th>\n",
       "      <td>0.1</td>\n",
       "      <td>2.749528</td>\n",
       "      <td>1.517982e+19</td>\n",
       "      <td>0.77014</td>\n",
       "      <td>4.063073e+07</td>\n",
       "      <td>5.990702</td>\n",
       "    </tr>\n",
       "    <tr>\n",
       "      <th>1</th>\n",
       "      <td>0.2</td>\n",
       "      <td>2.182302</td>\n",
       "      <td>1.530029e+20</td>\n",
       "      <td>0.77014</td>\n",
       "      <td>1.625229e+08</td>\n",
       "      <td>5.990702</td>\n",
       "    </tr>\n",
       "    <tr>\n",
       "      <th>2</th>\n",
       "      <td>0.3</td>\n",
       "      <td>1.906416</td>\n",
       "      <td>5.911132e+20</td>\n",
       "      <td>0.77014</td>\n",
       "      <td>3.656765e+08</td>\n",
       "      <td>5.990702</td>\n",
       "    </tr>\n",
       "    <tr>\n",
       "      <th>3</th>\n",
       "      <td>0.4</td>\n",
       "      <td>1.732094</td>\n",
       "      <td>1.542173e+21</td>\n",
       "      <td>0.77014</td>\n",
       "      <td>6.500916e+08</td>\n",
       "      <td>5.990702</td>\n",
       "    </tr>\n",
       "    <tr>\n",
       "      <th>4</th>\n",
       "      <td>0.5</td>\n",
       "      <td>1.607934</td>\n",
       "      <td>3.244640e+21</td>\n",
       "      <td>0.77014</td>\n",
       "      <td>1.015768e+09</td>\n",
       "      <td>5.990702</td>\n",
       "    </tr>\n",
       "    <tr>\n",
       "      <th>5</th>\n",
       "      <td>0.6</td>\n",
       "      <td>1.513124</td>\n",
       "      <td>5.958048e+21</td>\n",
       "      <td>0.77014</td>\n",
       "      <td>1.462706e+09</td>\n",
       "      <td>5.990702</td>\n",
       "    </tr>\n",
       "    <tr>\n",
       "      <th>6</th>\n",
       "      <td>0.7</td>\n",
       "      <td>1.437338</td>\n",
       "      <td>9.960014e+21</td>\n",
       "      <td>0.77014</td>\n",
       "      <td>1.990906e+09</td>\n",
       "      <td>5.990702</td>\n",
       "    </tr>\n",
       "    <tr>\n",
       "      <th>7</th>\n",
       "      <td>0.8</td>\n",
       "      <td>1.374764</td>\n",
       "      <td>1.554413e+22</td>\n",
       "      <td>0.77014</td>\n",
       "      <td>2.600367e+09</td>\n",
       "      <td>5.990702</td>\n",
       "    </tr>\n",
       "    <tr>\n",
       "      <th>8</th>\n",
       "      <td>0.9</td>\n",
       "      <td>1.321835</td>\n",
       "      <td>2.301838e+22</td>\n",
       "      <td>0.77014</td>\n",
       "      <td>3.291089e+09</td>\n",
       "      <td>5.990702</td>\n",
       "    </tr>\n",
       "    <tr>\n",
       "      <th>9</th>\n",
       "      <td>1.0</td>\n",
       "      <td>1.276218</td>\n",
       "      <td>3.270392e+22</td>\n",
       "      <td>0.77014</td>\n",
       "      <td>4.063073e+09</td>\n",
       "      <td>5.990702</td>\n",
       "    </tr>\n",
       "  </tbody>\n",
       "</table>\n",
       "</div>"
      ],
      "text/plain": [
       "   $\\frac{M}{M_{\\odot}}$  $\\frac{R}{0.01R_{\\odot}}$   $P_c (MKS)$  \\\n",
       "0                    0.1                   2.749528  1.517982e+19   \n",
       "1                    0.2                   2.182302  1.530029e+20   \n",
       "2                    0.3                   1.906416  5.911132e+20   \n",
       "3                    0.4                   1.732094  1.542173e+21   \n",
       "4                    0.5                   1.607934  3.244640e+21   \n",
       "5                    0.6                   1.513124  5.958048e+21   \n",
       "6                    0.7                   1.437338  9.960014e+21   \n",
       "7                    0.8                   1.374764  1.554413e+22   \n",
       "8                    0.9                   1.321835  2.301838e+22   \n",
       "9                    1.0                   1.276218  3.270392e+22   \n",
       "\n",
       "   $\\frac{P_c}{(GM^2R^{-4})}$  $\\rho (MKS)$  \\\n",
       "0                     0.77014  4.063073e+07   \n",
       "1                     0.77014  1.625229e+08   \n",
       "2                     0.77014  3.656765e+08   \n",
       "3                     0.77014  6.500916e+08   \n",
       "4                     0.77014  1.015768e+09   \n",
       "5                     0.77014  1.462706e+09   \n",
       "6                     0.77014  1.990906e+09   \n",
       "7                     0.77014  2.600367e+09   \n",
       "8                     0.77014  3.291089e+09   \n",
       "9                     0.77014  4.063073e+09   \n",
       "\n",
       "   $\\frac{\\rho_{c}}{[\\frac{3M}{4\\pi R^3}]}$  \n",
       "0                                  5.990702  \n",
       "1                                  5.990702  \n",
       "2                                  5.990702  \n",
       "3                                  5.990702  \n",
       "4                                  5.990702  \n",
       "5                                  5.990702  \n",
       "6                                  5.990702  \n",
       "7                                  5.990702  \n",
       "8                                  5.990702  \n",
       "9                                  5.990702  "
      ]
     },
     "execution_count": 80,
     "metadata": {},
     "output_type": "execute_result"
    }
   ],
   "source": [
    "df = pd.DataFrame()\n",
    "\n",
    "df[r'$\\frac{M}{M_{\\odot}}$'] = masses / Msun\n",
    "df[r'$\\frac{R}{0.01R_{\\odot}}$'] = r_step_list / (Rsun*0.01)\n",
    "df[r'$P_c (MKS)$'] = pcs\n",
    "df[r'$\\frac{P_c}{(GM^2R^{-4})}$'] = pcs / (G * (masses**2) * (r_step_list**(-4)))\n",
    "df[r'$\\rho (MKS)$'] = density(pcs,mue)\n",
    "df[r'$\\frac{\\rho_{c}}{[\\frac{3M}{4\\pi R^3}]}$'] = density(pcs,mue)/((3 * masses) / (4 * np.pi * (r_step_list**3)))\n",
    "\n",
    "df"
   ]
  },
  {
   "cell_type": "markdown",
   "id": "5877d327",
   "metadata": {},
   "source": [
    "### Testing K values"
   ]
  },
  {
   "cell_type": "markdown",
   "id": "76581982",
   "metadata": {},
   "source": [
    "As we can see, changing K does not affect the results."
   ]
  },
  {
   "cell_type": "code",
   "execution_count": 81,
   "id": "5d7e9590",
   "metadata": {},
   "outputs": [],
   "source": [
    "K = (((1/5)*((3/(8*pi))**(2/3))*(h**2/(m_e*(mue*m_u)**(5/3)))))*2"
   ]
  },
  {
   "cell_type": "code",
   "execution_count": 82,
   "id": "c66e95b1",
   "metadata": {},
   "outputs": [],
   "source": [
    "masses = np.arange(0.1, 1.1, 0.1)*Msun\n",
    "pcs=[]\n",
    "r_step_list=[]\n",
    " \n",
    "def mass_diff(Pc, m_want, delta_m, eta, mue):\n",
    "    m_step, r_step, p_step = integrate(Pc,delta_m,eta,xi,mue)\n",
    "    diff = m_step[-1] - m_want\n",
    "    return diff\n",
    "\n",
    "for i in masses:\n",
    "    out = optimize.brentq(mass_diff, a = 1e19, b = 1e23, xtol=1e-6, args = (i, delta_m, eta, mue))\n",
    "    m_step, r_step, p_step = integrate(out,delta_m,eta,xi,mue)\n",
    "    r_step_list.append(r_step[-1])\n",
    "    pcs.append(out)"
   ]
  },
  {
   "cell_type": "code",
   "execution_count": 83,
   "id": "65bd824a",
   "metadata": {},
   "outputs": [],
   "source": [
    "pcs=np.asarray(pcs)\n",
    "r_step_list = np.asarray(r_step_list)\n",
    "solar_masses = masses / Msun\n",
    "solar_radii = r_step_list / (Rsun*0.01)"
   ]
  },
  {
   "cell_type": "code",
   "execution_count": 84,
   "id": "c96cb83c",
   "metadata": {
    "tags": []
   },
   "outputs": [
    {
     "data": {
      "text/html": [
       "<div>\n",
       "<style scoped>\n",
       "    .dataframe tbody tr th:only-of-type {\n",
       "        vertical-align: middle;\n",
       "    }\n",
       "\n",
       "    .dataframe tbody tr th {\n",
       "        vertical-align: top;\n",
       "    }\n",
       "\n",
       "    .dataframe thead th {\n",
       "        text-align: right;\n",
       "    }\n",
       "</style>\n",
       "<table border=\"1\" class=\"dataframe\">\n",
       "  <thead>\n",
       "    <tr style=\"text-align: right;\">\n",
       "      <th></th>\n",
       "      <th>$\\frac{M}{M_{\\odot}}$</th>\n",
       "      <th>$\\frac{R}{0.01R_{\\odot}}$</th>\n",
       "      <th>$P_c (MKS)$</th>\n",
       "      <th>$\\frac{P_c}{(GM^2R^{-4})}$</th>\n",
       "      <th>$\\rho (MKS)$</th>\n",
       "      <th>$\\frac{\\rho_{c}}{[\\frac{3M}{4\\pi R^3}]}$</th>\n",
       "    </tr>\n",
       "  </thead>\n",
       "  <tbody>\n",
       "    <tr>\n",
       "      <th>0</th>\n",
       "      <td>0.1</td>\n",
       "      <td>2.749528</td>\n",
       "      <td>1.517982e+19</td>\n",
       "      <td>0.77014</td>\n",
       "      <td>4.063073e+07</td>\n",
       "      <td>5.990702</td>\n",
       "    </tr>\n",
       "    <tr>\n",
       "      <th>1</th>\n",
       "      <td>0.2</td>\n",
       "      <td>2.182302</td>\n",
       "      <td>1.530029e+20</td>\n",
       "      <td>0.77014</td>\n",
       "      <td>1.625229e+08</td>\n",
       "      <td>5.990702</td>\n",
       "    </tr>\n",
       "    <tr>\n",
       "      <th>2</th>\n",
       "      <td>0.3</td>\n",
       "      <td>1.906416</td>\n",
       "      <td>5.911132e+20</td>\n",
       "      <td>0.77014</td>\n",
       "      <td>3.656765e+08</td>\n",
       "      <td>5.990702</td>\n",
       "    </tr>\n",
       "    <tr>\n",
       "      <th>3</th>\n",
       "      <td>0.4</td>\n",
       "      <td>1.732094</td>\n",
       "      <td>1.542173e+21</td>\n",
       "      <td>0.77014</td>\n",
       "      <td>6.500916e+08</td>\n",
       "      <td>5.990702</td>\n",
       "    </tr>\n",
       "    <tr>\n",
       "      <th>4</th>\n",
       "      <td>0.5</td>\n",
       "      <td>1.607934</td>\n",
       "      <td>3.244640e+21</td>\n",
       "      <td>0.77014</td>\n",
       "      <td>1.015768e+09</td>\n",
       "      <td>5.990702</td>\n",
       "    </tr>\n",
       "    <tr>\n",
       "      <th>5</th>\n",
       "      <td>0.6</td>\n",
       "      <td>1.513124</td>\n",
       "      <td>5.958048e+21</td>\n",
       "      <td>0.77014</td>\n",
       "      <td>1.462706e+09</td>\n",
       "      <td>5.990702</td>\n",
       "    </tr>\n",
       "    <tr>\n",
       "      <th>6</th>\n",
       "      <td>0.7</td>\n",
       "      <td>1.437338</td>\n",
       "      <td>9.960014e+21</td>\n",
       "      <td>0.77014</td>\n",
       "      <td>1.990906e+09</td>\n",
       "      <td>5.990702</td>\n",
       "    </tr>\n",
       "    <tr>\n",
       "      <th>7</th>\n",
       "      <td>0.8</td>\n",
       "      <td>1.374764</td>\n",
       "      <td>1.554413e+22</td>\n",
       "      <td>0.77014</td>\n",
       "      <td>2.600367e+09</td>\n",
       "      <td>5.990702</td>\n",
       "    </tr>\n",
       "    <tr>\n",
       "      <th>8</th>\n",
       "      <td>0.9</td>\n",
       "      <td>1.321835</td>\n",
       "      <td>2.301838e+22</td>\n",
       "      <td>0.77014</td>\n",
       "      <td>3.291089e+09</td>\n",
       "      <td>5.990702</td>\n",
       "    </tr>\n",
       "    <tr>\n",
       "      <th>9</th>\n",
       "      <td>1.0</td>\n",
       "      <td>1.276218</td>\n",
       "      <td>3.270392e+22</td>\n",
       "      <td>0.77014</td>\n",
       "      <td>4.063073e+09</td>\n",
       "      <td>5.990702</td>\n",
       "    </tr>\n",
       "  </tbody>\n",
       "</table>\n",
       "</div>"
      ],
      "text/plain": [
       "   $\\frac{M}{M_{\\odot}}$  $\\frac{R}{0.01R_{\\odot}}$   $P_c (MKS)$  \\\n",
       "0                    0.1                   2.749528  1.517982e+19   \n",
       "1                    0.2                   2.182302  1.530029e+20   \n",
       "2                    0.3                   1.906416  5.911132e+20   \n",
       "3                    0.4                   1.732094  1.542173e+21   \n",
       "4                    0.5                   1.607934  3.244640e+21   \n",
       "5                    0.6                   1.513124  5.958048e+21   \n",
       "6                    0.7                   1.437338  9.960014e+21   \n",
       "7                    0.8                   1.374764  1.554413e+22   \n",
       "8                    0.9                   1.321835  2.301838e+22   \n",
       "9                    1.0                   1.276218  3.270392e+22   \n",
       "\n",
       "   $\\frac{P_c}{(GM^2R^{-4})}$  $\\rho (MKS)$  \\\n",
       "0                     0.77014  4.063073e+07   \n",
       "1                     0.77014  1.625229e+08   \n",
       "2                     0.77014  3.656765e+08   \n",
       "3                     0.77014  6.500916e+08   \n",
       "4                     0.77014  1.015768e+09   \n",
       "5                     0.77014  1.462706e+09   \n",
       "6                     0.77014  1.990906e+09   \n",
       "7                     0.77014  2.600367e+09   \n",
       "8                     0.77014  3.291089e+09   \n",
       "9                     0.77014  4.063073e+09   \n",
       "\n",
       "   $\\frac{\\rho_{c}}{[\\frac{3M}{4\\pi R^3}]}$  \n",
       "0                                  5.990702  \n",
       "1                                  5.990702  \n",
       "2                                  5.990702  \n",
       "3                                  5.990702  \n",
       "4                                  5.990702  \n",
       "5                                  5.990702  \n",
       "6                                  5.990702  \n",
       "7                                  5.990702  \n",
       "8                                  5.990702  \n",
       "9                                  5.990702  "
      ]
     },
     "execution_count": 84,
     "metadata": {},
     "output_type": "execute_result"
    }
   ],
   "source": [
    "df = pd.DataFrame()\n",
    "\n",
    "df[r'$\\frac{M}{M_{\\odot}}$'] = masses / Msun\n",
    "df[r'$\\frac{R}{0.01R_{\\odot}}$'] = r_step_list / (Rsun*0.01)\n",
    "df[r'$P_c (MKS)$'] = pcs\n",
    "df[r'$\\frac{P_c}{(GM^2R^{-4})}$'] = pcs / (G * (masses**2) * (r_step_list**(-4)))\n",
    "df[r'$\\rho (MKS)$'] = density(pcs,mue)\n",
    "df[r'$\\frac{\\rho_{c}}{[\\frac{3M}{4\\pi R^3}]}$'] = density(pcs,mue)/((3 * masses) / (4 * np.pi * (r_step_list**3)))\n",
    "\n",
    "df"
   ]
  },
  {
   "cell_type": "markdown",
   "id": "88e1950a",
   "metadata": {},
   "source": [
    "Here, we reset K (not because it matters, but beacause it makes us feel better)."
   ]
  },
  {
   "cell_type": "code",
   "execution_count": 85,
   "id": "d2a8f076-1a58-4ddd-bdae-2b4c1d624ddd",
   "metadata": {},
   "outputs": [],
   "source": [
    "K = (1/5)*((3/(8*pi))**(2/3))*(h**2/(m_e*(mue*m_u)**(5/3)))"
   ]
  },
  {
   "cell_type": "markdown",
   "id": "7d048b76",
   "metadata": {},
   "source": [
    "## 2)"
   ]
  },
  {
   "cell_type": "code",
   "execution_count": 86,
   "id": "f13eff74",
   "metadata": {},
   "outputs": [],
   "source": [
    "def mean_molecular_weight(Z,A,X):\n",
    "    \"\"\"Computes the mean molecular weight for a fully ionized plasma with an \n",
    "    arbitrary mixture of species\n",
    "    \n",
    "    Arguments\n",
    "        Z, A, X (either scaler or array)\n",
    "            charge numbers, atomic numbers, and mass fractions\n",
    "            The mass fractions must sum to 1\n",
    "    \"\"\"\n",
    "    Zs = np.array(Z)\n",
    "    As = np.array(A)\n",
    "    Xs = np.array(X)\n",
    "    assert np.sum(Xs) == 1.0\n",
    "    \n",
    "    # compute value of mean molecular weight\n",
    "    mu_array = (Xs/ As)*((1 + Zs))\n",
    "    mu = np.sum(mu_array)\n",
    "    mu = mu**-1\n",
    "    return mu"
   ]
  },
  {
   "cell_type": "code",
   "execution_count": 87,
   "id": "1328e343",
   "metadata": {},
   "outputs": [],
   "source": [
    "### testing\n",
    "\n",
    "def test_chem():\n",
    "    #scaling for H,He mixture\n",
    "    for X in [0.0,0.3,0.7,1.0]:\n",
    "        mu = mean_molecular_weight([1.0,2.0],[1.0,4.0],[X,1.0-X])\n",
    "        assert within_tolerance(mu,4.0/(5.0*X+3.0))  \n",
    "        \n",
    "test_chem()\n",
    "\n",
    "### no error - test passed"
   ]
  },
  {
   "cell_type": "markdown",
   "id": "12fd2fc0",
   "metadata": {},
   "source": [
    "## 3)"
   ]
  },
  {
   "cell_type": "code",
   "execution_count": 89,
   "id": "b4a8dd1d",
   "metadata": {},
   "outputs": [],
   "source": [
    "def get_rho_and_T(P,P_c,rho_c,T_c):\n",
    "    \"\"\"\n",
    "    Compute density and temperature along an adiabat of index gamma given a \n",
    "    pressure and a reference point (central pressure, density, and temperature).\n",
    "    \n",
    "    Arguments\n",
    "        P (either scalar or array-like)\n",
    "            value of pressure\n",
    "    \n",
    "        P_c, rho_c, T_c\n",
    "            reference values; these values should be consistent with an ideal \n",
    "            gas EOS\n",
    "    \n",
    "    Returns\n",
    "        density, temperature\n",
    "    \"\"\"\n",
    "    gamma=5/3\n",
    "\n",
    "    rho = rho_c*(P/P_c)**(1/gamma)\n",
    "    T = T_c*(P/P_c)**(1-1/gamma)\n",
    "\n",
    "    return rho, T"
   ]
  },
  {
   "cell_type": "code",
   "execution_count": 90,
   "id": "be3c3cd3",
   "metadata": {},
   "outputs": [],
   "source": [
    "def test_adiabat():\n",
    "    rhoc = 1.0e4\n",
    "    Tc = 1.0e7\n",
    "    eos_const=4.0\n",
    "    Pc = eos_const*rhoc*Tc\n",
    "    Ptest = Pc/10\n",
    "    gamma = 5/3\n",
    "    rho, T = get_rho_and_T(Ptest,Pc,rhoc,Tc)\n",
    "    \n",
    "    # is P/rho**gamma = const\n",
    "    assert within_tolerance(Ptest/rho**gamma,Pc/rhoc**gamma),\\\n",
    "        \"density does not follow adiabatic relation\"\n",
    "    # is EOS preserved?\n",
    "    assert within_tolerance(Ptest/rho/T,eos_const),\\\n",
    "        \"temperature does not follow adiabatic relation\"\n",
    "    \n",
    "test_adiabat()\n",
    "\n",
    "### no error - test passed"
   ]
  },
  {
   "cell_type": "markdown",
   "id": "eb843e76",
   "metadata": {},
   "source": [
    "## 4)"
   ]
  },
  {
   "cell_type": "code",
   "execution_count": 91,
   "id": "fe24bbed",
   "metadata": {},
   "outputs": [],
   "source": [
    "def pp_rate(T, rho, XH, pp_factor = 1.00):\n",
    "    \"\"\"\n",
    "    Specific heating rate from pp chain hydrogen burning. Approximate rate \n",
    "    taken from Hansen, Kawaler, & Trimble.\n",
    "    \n",
    "    Arguments\n",
    "        T, rho\n",
    "            temperature [K] and density [kg/m**3]\n",
    "        XH\n",
    "            mass fraction hydrogen\n",
    "        pp_factor\n",
    "            multiplicative factor for rate\n",
    "    Returns\n",
    "        heating rate from the pp-reaction chain [W/kg]\n",
    "    \"\"\"\n",
    "    \n",
    "    T_9 = T/1e9\n",
    "    \n",
    "    rate = pp_factor*((2.4e-3*rho*(XH**2))/(T_9**(2/3)))*np.exp(-3.380/(T_9**(1/3)))\n",
    "    \n",
    "    return rate"
   ]
  },
  {
   "cell_type": "code",
   "execution_count": 92,
   "id": "9b7adfa0",
   "metadata": {},
   "outputs": [],
   "source": [
    "### testing\n",
    "\n",
    "def analytical_Texponent(T):\n",
    "    \"\"\"Analytical value of the logarithmic derivative of the pp heating rate\n",
    "    (eq. [4] of the instructions)\n",
    "    \n",
    "    Arguments\n",
    "        temperature [K]\n",
    "    \"\"\"\n",
    "    return (-2 + 3.38/(T*1.0e-9)**(1/3))/3\n",
    "\n",
    "def Texponent(T,XH,rho,pp_factor,delta=0.0001,):\n",
    "    \"\"\"Numerical estimate of the logarithmic derivative of the pp heating rate\n",
    "    computed via central differencing.\n",
    "    \n",
    "    Arguments\n",
    "        temperature [K]\n",
    "        hydrogen mass fraction\n",
    "        mass density [kg m**-3] \n",
    "        scaling factor\n",
    "        fractional difference in temperature\n",
    "    \"\"\"\n",
    "    Thigh = T*(1.0+delta)\n",
    "    Tlow = T*(1.0-delta)\n",
    "    r = pp_rate(T,rho,XH,pp_factor)\n",
    "    rhigh = pp_rate(Thigh,rho,XH,pp_factor)\n",
    "    rlow = pp_rate(Tlow,rho,XH,pp_factor)\n",
    "    return T*(rhigh-rlow)/(Thigh-Tlow)/r\n",
    "\n",
    "def test_pp():\n",
    "    rho = 1.0e3\n",
    "    T = 1.0e7\n",
    "    f = 1.0\n",
    "    XH = 0.7\n",
    "    ref_value = 3.8930e-06\n",
    "    base_rate = pp_rate(T,rho,XH,f)\n",
    "    rate_XH = pp_rate(T,rho,XH/2,f)\n",
    "    rate_rho = pp_rate(T,rho*10,XH,f)\n",
    "    rate_f = pp_rate(T,rho,XH,f*10)\n",
    "    \n",
    "    # check against reference value\n",
    "    assert within_tolerance(base_rate,ref_value,tol=1.0e-4),\\\n",
    "        \"rate has incorrect value at T = 1.0e7 K, rho = 1000 kg m**-3, XH = 0.7\"\n",
    "    \n",
    "    # check scalings with density, hydrogen mass fraction, scale factor\n",
    "    assert within_tolerance(rate_XH,base_rate/4),\\\n",
    "        \"rate does not scale properly with X_H\"\n",
    "    assert within_tolerance(rate_rho,base_rate*10),\\\n",
    "        \"rate does not scale properly with rho\"\n",
    "    assert within_tolerance(rate_f,base_rate*10),\\\n",
    "        \"rate does not scale properly with pp_factor\"\n",
    "\n",
    "    # check temperature scaling at T = 1.0e7 K and 2.0e7 K\n",
    "    n_num = Texponent(T,XH,rho,f)\n",
    "    n = analytical_Texponent(T)\n",
    "    assert within_tolerance(n_num,n,tol=1.0e-3),\\\n",
    "        \"rate has wrong temperature exponent\"\n",
    "    n_num = Texponent(2*T,XH,rho,f)\n",
    "    n = analytical_Texponent(2*T)\n",
    "    assert within_tolerance(n_num,n,tol=1.0e-3),\\\n",
    "        \"rate has wrong temperature exponent\"\n",
    "test_pp()\n",
    "\n",
    "### no error - test passed"
   ]
  },
  {
   "cell_type": "markdown",
   "id": "77bf2b54",
   "metadata": {},
   "source": [
    "Using mean_molecular_weight() using the provided ratios."
   ]
  },
  {
   "cell_type": "code",
   "execution_count": 93,
   "id": "19f9bb69-ea7f-45c0-9589-5bcd88a76bce",
   "metadata": {},
   "outputs": [],
   "source": [
    "Z = [1,2,7]\n",
    "A = [1,4,14]\n",
    "X = [0.706, 0.275, 0.019]\n",
    "XH = X[0]\n",
    "mu = mean_molecular_weight(Z,A,X)"
   ]
  },
  {
   "cell_type": "markdown",
   "id": "8462a7d4",
   "metadata": {},
   "source": [
    "## 5)"
   ]
  },
  {
   "cell_type": "code",
   "execution_count": 94,
   "id": "cb31445e",
   "metadata": {},
   "outputs": [],
   "source": [
    "def central_thermal(m, r, mu):\n",
    "    \"\"\" \n",
    "    Computes the central pressure, density, and temperature from the polytropic\n",
    "    relations for n = 3/2.\n",
    "\n",
    "    Arguments\n",
    "        m\n",
    "            mass in solar units\n",
    "        r\n",
    "            radius is solar units\n",
    "        mu\n",
    "            mean molecular weight\n",
    "    Returns\n",
    "        Pc, rhoc, Tc\n",
    "            central pressure, density, and temperature in solar units\n",
    "    \"\"\"\n",
    "    \n",
    "    m = m*Msun\n",
    "    r = r*Rsun\n",
    "    \n",
    "    Pc = 0.77*(G*m**2)/(r**4)\n",
    "    rhoc = 5.99*((3*m)/(4*np.pi*r**3))\n",
    "    Tc = 0.54*(mu*m_u/kB)*(G*m/r)\n",
    "    \n",
    "    return Pc, rhoc, Tc"
   ]
  },
  {
   "cell_type": "code",
   "execution_count": 95,
   "id": "62101133",
   "metadata": {},
   "outputs": [],
   "source": [
    "### testing\n",
    "\n",
    "def test_central_thermal():\n",
    "    Pcs,rhocs,Tcs = central_thermal(1.0,1.0,0.6)\n",
    "    assert within_tolerance(Pcs,8.675e+14,tol=1.0e-2)\n",
    "    assert within_tolerance(rhocs,8.445e+03,tol=1.0e-2)\n",
    "    assert within_tolerance(Tcs,7.413e+06,tol=1.0e-2)\n",
    "    \n",
    "    # check scalings with mass, radius by trying 0.5 solar mass, 0.7 solar \n",
    "    # radius.\n",
    "    Pc1, rhoc1, Tc1 = central_thermal(0.5,0.7,0.6)\n",
    "    assert within_tolerance(Pc1, Pcs*0.5**2/0.7**4)\n",
    "    assert within_tolerance(rhoc1,rhocs*0.5/0.7**3)\n",
    "    assert within_tolerance(Tc1,Tcs*0.5/0.7)\n",
    "\n",
    "test_central_thermal()\n",
    "\n",
    "### no error - test passed"
   ]
  },
  {
   "cell_type": "markdown",
   "id": "9ac96d7c",
   "metadata": {},
   "source": [
    "## 6)"
   ]
  },
  {
   "cell_type": "code",
   "execution_count": 96,
   "id": "9cebba21",
   "metadata": {},
   "outputs": [],
   "source": [
    "def stellar_derivatives(m, z, rho, T, mu, XH, pp_factor = 1.0):\n",
    "    \"\"\"\n",
    "    RHS of Lagrangian differential equations for radius and pressure\n",
    "    \n",
    "    Arguments\n",
    "        m\n",
    "            current value of the mass\n",
    "        z (array)\n",
    "            current values of (radius, pressure, luminosity)\n",
    "        \n",
    "    Returns\n",
    "        dzdm (array)\n",
    "            Lagrangian derivatives dr/dm, dP/dm, dL/dm\n",
    "    \"\"\"\n",
    "    \n",
    "    dzdm = np.zeros_like(z)\n",
    "    \n",
    "    Pc, rhoc, Tc = central_thermal(m, z[0], mu)\n",
    "    \n",
    "    dzdm[0] = (4*pi*(z[0]**2)*rho)**(-1)\n",
    "    dzdm[1] = (-G*m)/(4*pi*(z[0]**4))\n",
    "    dzdm[2] = pp_rate(Tc, rhoc, XH)\n",
    "    \n",
    "    return dzdm"
   ]
  },
  {
   "cell_type": "code",
   "execution_count": 97,
   "id": "79f93e46",
   "metadata": {},
   "outputs": [],
   "source": [
    "def lengthscales(m, z, rho, T, mu, XH, pp_factor = 1.0):\n",
    "    \"\"\"\n",
    "    Computes the radial length scale H_r and the pressure length H_P\n",
    "    \n",
    "    Arguments\n",
    "        m\n",
    "            current mass coordinate (units = kg)\n",
    "        z (array)\n",
    "           [ r, p, l ] (units = [ m, Pa, W ])\n",
    "        mue\n",
    "            mean electron weight\n",
    "    \n",
    "    Returns\n",
    "        z/|dzdm| (units = [ m^6/kg, 1/s^4,  ])\n",
    "    \"\"\"    \n",
    "    \n",
    "    radius = z[0]\n",
    "    pressure = z[1]\n",
    "    luminosity = z[2]\n",
    "    \n",
    "    Pc, rhoc, Tc = central_thermal(m, radius, mu)\n",
    "    \n",
    "    eps_nuc = pp_rate(Tc, rhoc, XH)\n",
    "    \n",
    "    H_r = 4 * np.pi * (radius**3) * rho\n",
    "    H_p = (4 * np.pi * (radius**4) * pressure) / (G * m) \n",
    "    H_l = luminosity / np.abs(eps_nuc)\n",
    "    \n",
    "    out = [H_r, H_p, H_l]\n",
    "    \n",
    "    out = np.asarray(out)\n",
    "    \n",
    "    return out"
   ]
  },
  {
   "cell_type": "code",
   "execution_count": 98,
   "id": "569f9591-bd55-44ee-98f7-ebb6167327aa",
   "metadata": {},
   "outputs": [],
   "source": [
    "def central_values(Pc, rhoc, Tc, delta_m, mu, XH, pp_factor = 1.0):\n",
    "    \"\"\"\n",
    "    Constructs the boundary conditions at the edge of a small, constant density \n",
    "    core of mass delta_m with central pressure Pc\n",
    "    \n",
    "    Arguments\n",
    "        Pc\n",
    "            central pressure (units = Pa)\n",
    "        delta_m\n",
    "            core mass (units = kg)\n",
    "        mue\n",
    "            nucleon/electron ratio\n",
    "    \n",
    "    Returns\n",
    "        z = array([ r, p, l ])\n",
    "            central value of radius, pressure, and luminosity (units = [m, Pa, ])\n",
    "    \"\"\"\n",
    "    z = np.zeros(3)\n",
    "    \n",
    "    z[0] = ((3*delta_m)/(4 * np.pi * rhoc))**(1/3)\n",
    "    z[1] = Pc  \n",
    "    z[2] = pp_rate(Tc, rhoc, XH)*delta_m   ### calculate given rhoc and Tc\n",
    "    return z"
   ]
  },
  {
   "cell_type": "code",
   "execution_count": 99,
   "id": "8080d7f8",
   "metadata": {},
   "outputs": [],
   "source": [
    "def integrate(Pc, rhoc, Tc, delta_m, eta, xi, mu, XH = 0.706, pp_factor = 1.0, max_steps = 10000):\n",
    "    \"\"\"\n",
    "    Integrates the scaled stellar structure equations\n",
    "\n",
    "    Arguments\n",
    "        Pc\n",
    "            central pressure (units = Pa)\n",
    "        delta_m\n",
    "            initial offset from center (units = m)\n",
    "        eta\n",
    "            The integration stops when P < eta * Pc\n",
    "        xi\n",
    "            The stepsize is set to be xi*min(p/|dp/dm|, r/|dr/dm|)\n",
    "        mue\n",
    "            mean electron mass\n",
    "        max_steps\n",
    "            solver will quit and throw error if this more than max_steps are \n",
    "            required (default is 10000)\n",
    "                        \n",
    "    Returns\n",
    "        m_step, r_step, p_step, l_step\n",
    "            arrays containing mass coordinates, radii and pressures during \n",
    "            integration (what are the units?)\n",
    "    \"\"\"\n",
    "        \n",
    "    m_step = np.zeros(max_steps)\n",
    "    r_step = np.zeros(max_steps)\n",
    "    p_step = np.zeros(max_steps)\n",
    "    l_step = np.zeros(max_steps)\n",
    "  \n",
    "    # set starting conditions using central values\n",
    "    temp = delta_m\n",
    "    z = central_values(Pc, rhoc, Tc, delta_m, mu, XH)\n",
    "    Nsteps = 0\n",
    "    \n",
    "    for step in range(max_steps):\n",
    "        radius = z[0]\n",
    "        pressure = z[1]\n",
    "        lum = z[2]\n",
    "        \n",
    "        # are we at the surface?\n",
    "        if (pressure < eta*Pc):\n",
    "            break\n",
    "            \n",
    "        # store the step\n",
    "        m_step[step] = temp\n",
    "        r_step[step] = radius\n",
    "        p_step[step] = pressure\n",
    "        l_step[step] = lum\n",
    "        \n",
    "        rho, T = get_rho_and_T(pressure, Pc, rhoc, Tc)\n",
    "        \n",
    "        # set the stepsize\n",
    "        h = xi*np.min(lengthscales(m_step[step], z, rho, T, mu, XH))\n",
    "\n",
    "        # take a step        \n",
    "        z = rk4(stellar_derivatives, temp, z, h, args = (rho, T, mu, XH, pp_factor))\n",
    "        \n",
    "        temp += h\n",
    "        \n",
    "        # increment the counter\n",
    "        Nsteps += 1\n",
    "        \n",
    "    # if the loop runs to max_steps, then signal an error\n",
    "    else:\n",
    "        raise Exception('too many iterations')\n",
    "        \n",
    "    return m_step[0:Nsteps], r_step[0:Nsteps], p_step[0:Nsteps], l_step[0:Nsteps]"
   ]
  },
  {
   "cell_type": "markdown",
   "id": "e44ac43c-b68f-4864-8e50-313f3a5a23ad",
   "metadata": {},
   "source": [
    "# 7)"
   ]
  },
  {
   "cell_type": "markdown",
   "id": "a457f556",
   "metadata": {},
   "source": [
    "We can see that these values behave correctly based on the parts that follow, where the algorithm does indeed converge."
   ]
  },
  {
   "cell_type": "markdown",
   "id": "f7153dcd",
   "metadata": {},
   "source": [
    "# 8)"
   ]
  },
  {
   "cell_type": "code",
   "execution_count": 100,
   "id": "94ee0b2b",
   "metadata": {},
   "outputs": [],
   "source": [
    "def Teff(Mwant):\n",
    "    \"\"\"\n",
    "    Interpolates effective temperatures given mass from tabulated [1] values \n",
    "    for low-mass stars.\n",
    "\n",
    "    [1] Chabrier, Baraffe, Allard, and Hauschildt. Evolutionary Models for Very \n",
    "    Low-Mass Stars and Brown Dwarfs with Dusty Atmospheres. Astrophys. Jour. \n",
    "    542:464--472, Oct. 2000.\n",
    "\n",
    "    Parameters\n",
    "        Mwant (float, scalar or array)\n",
    "            Mass of the star(s) in units of solar masses\n",
    "    Returns\n",
    "\n",
    "       Teff (float, same type/shape as Mwant)\n",
    "            Interpolated effective temperatures of the stars in Kelvin.\n",
    "    \"\"\"\n",
    "\n",
    "    # tabulated values from Chabrier et al. (2000)\n",
    "    masses = np.array([0.1,0.15,0.2,0.3]) # [Msun]\n",
    "    Teffs = np.array([2800.0,3150.0,3300.0,3400.0]) # [K]\n",
    "    \n",
    "    # perform interpolation to find Teff for Mwan\n",
    "    Teff = np.interp(Mwant, masses, Teffs)\n",
    "    return Teff"
   ]
  },
  {
   "cell_type": "code",
   "execution_count": 101,
   "id": "4045ecf0",
   "metadata": {},
   "outputs": [],
   "source": [
    "def surface_luminosity(Teff, radius):\n",
    "    \"\"\"\n",
    "    Photospheric luminosity [W]\n",
    "    \n",
    "    Arguments\n",
    "        Teff [K]\n",
    "        radius [m]\n",
    "    \"\"\"\n",
    "\n",
    "    luminosity = (4.0) * (np.pi) * (radius**2) * (sigmaSB) * (Teff**4)\n",
    "    return luminosity"
   ]
  },
  {
   "cell_type": "code",
   "execution_count": 102,
   "id": "f6e1a6fe",
   "metadata": {},
   "outputs": [],
   "source": [
    "def test_Teff():\n",
    "    # does interpolation respect table values?\n",
    "    for mass,value in zip([0.1,0.15,0.2,0.3],[2800.0,3150.0,3300.0,3400.0]):\n",
    "        assert Teff(mass) == value\n",
    "    \n",
    "    # is interpolation monotonic?\n",
    "    assert Teff(0.17) > Teff(0.12)\n",
    "    assert Teff(0.17) > Teff(0.16)\n",
    "    assert Teff(0.25) > Teff(0.18)\n",
    "    assert Teff(0.28) > Teff(0.26)\n",
    "\n",
    "def test_surface_luminosity():\n",
    "    Teff = 5772.0\n",
    "    radius = Rsun\n",
    "    assert within_tolerance(surface_luminosity(Teff,radius),Lsun,tol=1.0e-3)"
   ]
  },
  {
   "cell_type": "code",
   "execution_count": 103,
   "id": "8fef6ba1",
   "metadata": {},
   "outputs": [],
   "source": [
    "test_Teff()\n",
    "\n",
    "test_surface_luminosity()\n",
    "\n",
    "### no error - test passed"
   ]
  },
  {
   "cell_type": "markdown",
   "id": "953beb5b",
   "metadata": {},
   "source": [
    "## 9)"
   ]
  },
  {
   "cell_type": "code",
   "execution_count": 104,
   "id": "c0d51ba4",
   "metadata": {},
   "outputs": [],
   "source": [
    "masses = np.arange(0.1, 0.35, 0.05)\n",
    "\n",
    "radii = []\n",
    "Tcs = []\n",
    "rhocs = []\n",
    "sLs = []\n",
    "Teffs = []\n",
    "\n",
    "def luminosity_diff(radius_guess, mass, delta_m, eta, xi, mu, pp_factor):\n",
    "    \n",
    "    Pc, rhoc, Tc = central_thermal(mass, radius_guess, mu)\n",
    "    \n",
    "    m_step, r_step, p_step, l_step = integrate(Pc, rhoc, Tc, delta_m, eta, xi, mu)\n",
    "    \n",
    "    T_eff = Teff(mass)\n",
    "    \n",
    "    L_calc = surface_luminosity(T_eff, radius_guess*Rsun)\n",
    "    L_nuc = l_step[-1]\n",
    "    \n",
    "    L_diff = L_calc - L_nuc\n",
    "    \n",
    "    return L_diff\n",
    "\n",
    "for i in masses:\n",
    "    r_out = optimize.brentq(luminosity_diff, a = 0.0001, b = 1, xtol = 1e-10, args = (i, delta_m, eta, xi, mu, pp_factor))\n",
    "    \n",
    "    radii.append(r_out)\n",
    "    \n",
    "    Pc, rhoc, Tc = central_thermal(i, r_out, mu)\n",
    "    \n",
    "    rhocs.append(rhoc)\n",
    "    Tcs.append(Tc)\n",
    "    \n",
    "    Teffs.append(Teff(i))\n",
    "    \n",
    "    sLs.append(surface_luminosity(Teff(i), r_out*Rsun))"
   ]
  },
  {
   "cell_type": "markdown",
   "id": "1b6f6251",
   "metadata": {},
   "source": [
    "## 10)"
   ]
  },
  {
   "cell_type": "code",
   "execution_count": 105,
   "id": "bfff4858",
   "metadata": {},
   "outputs": [],
   "source": [
    "# get rad, lum, and Teff values from mass range\n",
    "masses = np.arange(0.1, 0.35, 0.05)\n",
    "radii = np.asarray(radii)\n",
    "Tcs = np.asarray(Tcs)\n",
    "rhocs = np.asarray(rhocs)\n",
    "sLs = np.asarray(sLs)\n",
    "Teffs = np.asarray(Teffs)\n",
    "\n",
    "rhocs = 1000*rhocs/(100**3)\n",
    "\n",
    "# scale so everything is relative to the Sun again (except Teffs and central density)\n",
    "# central density needs to be converted from MKS to CGS 👊🙂 \n",
    "solar_radii = radii / Rsun\n",
    "solar_lums = sLs / Lsun\n",
    "cgs_rhocs = rhocs # 1000 g/kg, 100 cm/m  \n",
    "\n",
    "# get logs of stuff\n",
    "log_lum = np.log10(solar_lums)\n",
    "log_Teffs = np.log10(Teffs)\n",
    "log_central_temps = np.log10(Tcs)\n",
    "log_cgs_rhocs = np.log10(cgs_rhocs)"
   ]
  },
  {
   "cell_type": "markdown",
   "id": "c53c2cdb",
   "metadata": {},
   "source": [
    "### a)"
   ]
  },
  {
   "cell_type": "code",
   "execution_count": 106,
   "id": "3d167fec",
   "metadata": {},
   "outputs": [
    {
     "data": {
      "image/png": "[encoded data removed]",
      "text/plain": [
       "<Figure size 432x288 with 1 Axes>"
      ]
     },
     "metadata": {
      "needs_background": "light"
     },
     "output_type": "display_data"
    }
   ],
   "source": [
    "# Should resemble HR diagram.\n",
    "plt.scatter(log_Teffs, log_lum)\n",
    "plt.title(\"Effective Temperature vs Luminosity\")\n",
    "plt.xlabel(\"log(Teff/K)\")\n",
    "plt.ylabel(\"log(L/L_sun)\")\n",
    "plt.xlim(3.55, 3.44)\n",
    "\n",
    "plt.show()"
   ]
  },
  {
   "cell_type": "code",
   "execution_count": 107,
   "id": "e00b90a9",
   "metadata": {},
   "outputs": [
    {
     "data": {
      "image/png": "[encoded data removed]",
      "text/plain": [
       "<Figure size 432x288 with 1 Axes>"
      ]
     },
     "metadata": {
      "needs_background": "light"
     },
     "output_type": "display_data"
    }
   ],
   "source": [
    "plt.scatter(log_cgs_rhocs, log_central_temps)\n",
    "plt.title(\"Central Density vs Central Temperature\")\n",
    "plt.xlabel(\"log(rho_c/gcm^-3)\")\n",
    "plt.ylabel(\"log(Tc/K)\")\n",
    "plt.show()"
   ]
  },
  {
   "cell_type": "markdown",
   "id": "96c74dc5",
   "metadata": {},
   "source": [
    "## 11)"
   ]
  },
  {
   "cell_type": "code",
   "execution_count": 108,
   "id": "f7df93bd",
   "metadata": {},
   "outputs": [],
   "source": [
    "r_out = optimize.bisect(luminosity_diff, a = 0.0001, b = 1, xtol = 1e-10, args = (0.3, delta_m, eta, xi, mu, pp_rate))\n",
    "Pc, rhoc, Tc = central_thermal(0.3, r_out, mu)\n",
    "m_step, r_step, p_step, l_step = integrate(Pc, rhoc, Tc, delta_m, eta, xi, mu)"
   ]
  },
  {
   "cell_type": "code",
   "execution_count": 109,
   "id": "d6e4cb23",
   "metadata": {},
   "outputs": [],
   "source": [
    "### calculating temperature using adiabatic stuff and things\n",
    "T = Tc*(p_step/Pc)**(1-1/(5/3))"
   ]
  },
  {
   "cell_type": "code",
   "execution_count": 111,
   "id": "c58f8ad2",
   "metadata": {},
   "outputs": [
    {
     "data": {
      "image/png": "[encoded data removed]",
      "text/plain": [
       "<Figure size 432x288 with 1 Axes>"
      ]
     },
     "metadata": {
      "needs_background": "light"
     },
     "output_type": "display_data"
    }
   ],
   "source": [
    "plt.plot(r_step, T)\n",
    "plt.xlabel('radius (m)')\n",
    "plt.ylabel('temperature (K)')\n",
    "plt.show()"
   ]
  },
  {
   "cell_type": "code",
   "execution_count": 112,
   "id": "4683c88b",
   "metadata": {},
   "outputs": [
    {
     "data": {
      "image/png": "[encoded data removed]",
      "text/plain": [
       "<Figure size 432x288 with 1 Axes>"
      ]
     },
     "metadata": {
      "needs_background": "light"
     },
     "output_type": "display_data"
    }
   ],
   "source": [
    "plt.plot(m_step, T)\n",
    "plt.xlabel('mass (kg)')\n",
    "plt.ylabel('temperature (K)')\n",
    "plt.show()"
   ]
  },
  {
   "cell_type": "code",
   "execution_count": 113,
   "id": "f796bf2a",
   "metadata": {},
   "outputs": [
    {
     "data": {
      "image/png": "[encoded data removed]",
      "text/plain": [
       "<Figure size 432x288 with 1 Axes>"
      ]
     },
     "metadata": {
      "needs_background": "light"
     },
     "output_type": "display_data"
    }
   ],
   "source": [
    "plt.plot(r_step, l_step)\n",
    "plt.xlabel('radius (m)')\n",
    "plt.ylabel('luminosity (W)')\n",
    "plt.show()"
   ]
  },
  {
   "cell_type": "code",
   "execution_count": 114,
   "id": "f859d9b0",
   "metadata": {},
   "outputs": [
    {
     "data": {
      "image/png": "[encoded data removed]",
      "text/plain": [
       "<Figure size 432x288 with 1 Axes>"
      ]
     },
     "metadata": {
      "needs_background": "light"
     },
     "output_type": "display_data"
    }
   ],
   "source": [
    "plt.plot(m_step, l_step)\n",
    "plt.xlabel('mass (kg)')\n",
    "plt.ylabel('luminosity (W)')\n",
    "plt.show()"
   ]
  },
  {
   "cell_type": "markdown",
   "id": "f0194c20",
   "metadata": {},
   "source": [
    "We find where L(r) reaches 90% of its final value."
   ]
  },
  {
   "cell_type": "code",
   "execution_count": 115,
   "id": "8b41ab7c",
   "metadata": {},
   "outputs": [
    {
     "name": "stdout",
     "output_type": "stream",
     "text": [
      "70506386.9183719\n"
     ]
    }
   ],
   "source": [
    "val = 0.9 * l_step[-1]\n",
    "ind = np.max(np.where(l_step <= val))\n",
    "\n",
    "r_where = r_step[ind]\n",
    "\n",
    "print(r_where)"
   ]
  },
  {
   "cell_type": "code",
   "execution_count": 116,
   "id": "9e0395dc",
   "metadata": {},
   "outputs": [
    {
     "name": "stdout",
     "output_type": "stream",
     "text": [
      "4.19147529714687e+29\n"
     ]
    }
   ],
   "source": [
    "m_where = m_step[ind]\n",
    "\n",
    "print(m_where)"
   ]
  },
  {
   "cell_type": "markdown",
   "id": "822fc0e7",
   "metadata": {},
   "source": [
    "# Part 3"
   ]
  },
  {
   "cell_type": "code",
   "execution_count": 117,
   "id": "2bba5984",
   "metadata": {},
   "outputs": [],
   "source": [
    "pp_factor = 1e5"
   ]
  },
  {
   "cell_type": "code",
   "execution_count": 118,
   "id": "da3c72ff",
   "metadata": {},
   "outputs": [],
   "source": [
    "masses = np.arange(0.1, 0.35, 0.05)\n",
    "\n",
    "radii = []\n",
    "Tcs = []\n",
    "rhocs = []\n",
    "sLs = []\n",
    "Teffs = []\n",
    "\n",
    "def luminosity_diff(radius_guess, mass, delta_m, eta, xi, mu, pp_factor):\n",
    "    \n",
    "    Pc, rhoc, Tc = central_thermal(mass, radius_guess, mu)\n",
    "    \n",
    "    m_step, r_step, p_step, l_step = integrate(Pc, rhoc, Tc, delta_m, eta, xi, mu)\n",
    "    \n",
    "    T_eff = Teff(mass)\n",
    "    \n",
    "    L_calc = surface_luminosity(T_eff, radius_guess*Rsun)\n",
    "    L_nuc = l_step[-1]\n",
    "    \n",
    "    L_diff = L_calc - L_nuc\n",
    "    \n",
    "    return L_diff\n",
    "\n",
    "for i in masses:\n",
    "    r_out = optimize.brentq(luminosity_diff, a = 0.0001, b = 1, xtol = 1e-10, args = (i, delta_m, eta, xi, mu, pp_factor))\n",
    "    \n",
    "    radii.append(r_out)\n",
    "    \n",
    "    Pc, rhoc, Tc = central_thermal(i, r_out, mu)\n",
    "    \n",
    "    rhocs.append(rhoc)\n",
    "    Tcs.append(Tc)\n",
    "    \n",
    "    Teffs.append(Teff(i))\n",
    "    \n",
    "    sLs.append(surface_luminosity(Teff(i), r_out*Rsun))"
   ]
  },
  {
   "cell_type": "code",
   "execution_count": 119,
   "id": "bb0f2160",
   "metadata": {},
   "outputs": [],
   "source": [
    "# get rad, lum, and Teff values from mass range\n",
    "masses = np.arange(0.1, 0.35, 0.05)\n",
    "radii = np.asarray(radii)\n",
    "Tcs = np.asarray(Tcs)\n",
    "rhocs = np.asarray(rhocs)\n",
    "sLs = np.asarray(sLs)\n",
    "Teffs = np.asarray(Teffs)\n",
    "\n",
    "rhocs = 1000*rhocs/(100**3)\n",
    "\n",
    "# scale so everything is relative to the Sun again (except Teffs and central density)\n",
    "# central density needs to be converted from MKS to CGS 👊🙂 \n",
    "solar_radii = radii / Rsun\n",
    "solar_lums = sLs / Lsun\n",
    "cgs_rhocs = rhocs # 1000 g/kg, 100 cm/m  \n",
    "\n",
    "# get logs of stuff\n",
    "log_lum = np.log10(solar_lums)\n",
    "log_Teffs = np.log10(Teffs)\n",
    "log_central_temps = np.log10(Tcs)\n",
    "log_cgs_rhocs = np.log10(cgs_rhocs)"
   ]
  },
  {
   "cell_type": "code",
   "execution_count": 120,
   "id": "31563c60",
   "metadata": {},
   "outputs": [
    {
     "data": {
      "image/png": "[encoded data removed]",
      "text/plain": [
       "<Figure size 432x288 with 1 Axes>"
      ]
     },
     "metadata": {
      "needs_background": "light"
     },
     "output_type": "display_data"
    }
   ],
   "source": [
    "# Should resemble HR diagram.\n",
    "plt.scatter(log_Teffs, log_lum)\n",
    "plt.title(\"Effective Temperature vs Luminosity\")\n",
    "plt.xlabel(\"log(Teff/K)\")\n",
    "plt.ylabel(\"log(L/L_sun)\")\n",
    "plt.xlim(3.55, 3.44)\n",
    "\n",
    "plt.show()"
   ]
  },
  {
   "cell_type": "code",
   "execution_count": 121,
   "id": "b1f10aa2",
   "metadata": {},
   "outputs": [
    {
     "data": {
      "image/png": "[encoded data removed]",
      "text/plain": [
       "<Figure size 432x288 with 1 Axes>"
      ]
     },
     "metadata": {
      "needs_background": "light"
     },
     "output_type": "display_data"
    }
   ],
   "source": [
    "plt.scatter(log_cgs_rhocs, log_central_temps)\n",
    "plt.title(\"Central Density vs Central Temperature\")\n",
    "plt.xlabel(\"log(rho_c/gcm^-3)\")\n",
    "plt.ylabel(\"log(Tc/K)\")\n",
    "plt.show()"
   ]
  },
  {
   "cell_type": "markdown",
   "id": "7ae49a83",
   "metadata": {},
   "source": [
    "Density is noticeably smaller with the increased nuclear fusion rate. Our code isn't exactly right, so despite our plots, we would expect luminosity and radius to both increase substantially, which means that the Earth would be swallowed by the sun for the case of that star. No, we could not still be here. We would be super dead 👊🥲"
   ]
  }
 ],
 "metadata": {
  "kernelspec": {
   "display_name": "Python 3 (ipykernel)",
   "language": "python",
   "name": "python3"
  },
  "language_info": {
   "codemirror_mode": {
    "name": "ipython",
    "version": 3
   },
   "file_extension": ".py",
   "mimetype": "text/x-python",
   "name": "python",
   "nbconvert_exporter": "python",
   "pygments_lexer": "ipython3",
   "version": "3.9.7"
  }
 },
 "nbformat": 4,
 "nbformat_minor": 5
}
